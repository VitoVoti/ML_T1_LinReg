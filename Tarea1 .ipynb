{
 "cells": [
  {
   "cell_type": "code",
   "execution_count": 75,
   "metadata": {
    "collapsed": false
   },
   "outputs": [],
   "source": [
    "import pandas as pd\n",
    "import numpy as np\n",
    "import sklearn.linear_model as lm\n",
    "import matplotlib.pyplot as plt"
   ]
  },
  {
   "cell_type": "markdown",
   "metadata": {},
   "source": [
    "# 1 Regresión Lineal Ordinaria (LSS)"
   ]
  },
  {
   "cell_type": "markdown",
   "metadata": {},
   "source": [
    "Se comenzará el informe con la contrucción de un modelo para precedir el precio de una casa. Como datos de entrada se usará un *dataset* con las ventas en el condado de King County, EEUU entre Mayo de 2014 y Mayo de 2015. Para esto, se utilizará una regresión lineal ordinaria basada en LSS (Linear Least Squares)\n",
    "\n",
    "## a) Ingreso de los datos\n",
    "\n",
    "Los datos fueron obtenidos de Kaggle, y se encuentran en un archivo CSV. Las características o *features* id (número identificador), date (fecha) y zipcode (código postal) serán descartadas ya que de ante mano podemos suponer que no tienen relación con el precio de la casa."
   ]
  },
  {
   "cell_type": "code",
   "execution_count": 94,
   "metadata": {
    "collapsed": false
   },
   "outputs": [],
   "source": [
    "df = pd.read_csv(\"kc_house_data.csv\",sep = \",\",header = 0)\n",
    "df = df.drop(['id','date','zipcode'], axis=1)"
   ]
  },
  {
   "cell_type": "markdown",
   "metadata": {},
   "source": [
    "## b) Análisis Descriptivo de los Datos\n",
    "\n",
    "Primero es útil revisar el tamaño del dataset, junto con todo el resto de las características."
   ]
  },
  {
   "cell_type": "code",
   "execution_count": 95,
   "metadata": {
    "collapsed": false
   },
   "outputs": [
    {
     "data": {
      "text/plain": [
       "(21613, 18)"
      ]
     },
     "execution_count": 95,
     "metadata": {},
     "output_type": "execute_result"
    }
   ],
   "source": [
    "df.shape"
   ]
  },
  {
   "cell_type": "code",
   "execution_count": 96,
   "metadata": {
    "collapsed": false
   },
   "outputs": [
    {
     "name": "stdout",
     "output_type": "stream",
     "text": [
      "<class 'pandas.core.frame.DataFrame'>\n",
      "RangeIndex: 21613 entries, 0 to 21612\n",
      "Data columns (total 18 columns):\n",
      "price            21613 non-null float64\n",
      "bedrooms         21613 non-null int64\n",
      "bathrooms        21613 non-null float64\n",
      "sqft_living      21613 non-null int64\n",
      "sqft_lot         21613 non-null int64\n",
      "floors           21613 non-null float64\n",
      "waterfront       21613 non-null int64\n",
      "view             21613 non-null int64\n",
      "condition        21613 non-null int64\n",
      "grade            21613 non-null int64\n",
      "sqft_above       21613 non-null int64\n",
      "sqft_basement    21613 non-null int64\n",
      "yr_built         21613 non-null int64\n",
      "yr_renovated     21613 non-null int64\n",
      "lat              21613 non-null float64\n",
      "long             21613 non-null float64\n",
      "sqft_living15    21613 non-null int64\n",
      "sqft_lot15       21613 non-null int64\n",
      "dtypes: float64(5), int64(13)\n",
      "memory usage: 3.0 MB\n"
     ]
    }
   ],
   "source": [
    "df.info()"
   ]
  },
  {
   "cell_type": "markdown",
   "metadata": {},
   "source": [
    "Tenemos que cada variable representa:\n",
    "\n",
    "**price**: Es el precio de la casa, para nuestro análisis sera la variable a predecir. \n",
    "**bedrooms**: Cantidad de dormitorios que posee la casa. \n",
    "**bathrooms**: Cantidad de baños que posee la casa.\n",
    "**sqft_living**: Pies cuadrados de la casa.\n",
    "**sqft_lot**: Pies cuadrados del terreno donde se encuentra construida la casa.\n",
    "**floors**: Cantidad de pisos que posee la casa.       \n",
    "**waterfront**: Si la casa tiene vista al mar.\n",
    "**view**:            \n",
    "**condition**: Condicion en la que se encuentra la casa.       \n",
    "**grade**: Grado general dado a la unidad de vivienda, basado en el sistema de clasificación del Condado de King.          \n",
    "**sqft_above**: Metros cuadrados de la casa sin el sotano.       \n",
    "**sqft_basement**: Metros cuadrados del sotano.\n",
    "**yr_built**: Año de construccion de la casa.        \n",
    "**yr_renovated**: Año en que la casa fue renovada.   \n",
    "**lat**: Latitud.             \n",
    "**long**: Longitud.            \n",
    "**sqft_living15**: Tamaño del living room al año 2015.   \n",
    "**sqft_lot15**: Tamaño del terreno al año 2015.   "
   ]
  },
  {
   "cell_type": "code",
   "execution_count": 97,
   "metadata": {
    "collapsed": false,
    "scrolled": true
   },
   "outputs": [
    {
     "data": {
      "text/html": [
       "<div>\n",
       "<table border=\"1\" class=\"dataframe\">\n",
       "  <thead>\n",
       "    <tr style=\"text-align: right;\">\n",
       "      <th></th>\n",
       "      <th>price</th>\n",
       "      <th>bedrooms</th>\n",
       "      <th>bathrooms</th>\n",
       "      <th>sqft_living</th>\n",
       "      <th>sqft_lot</th>\n",
       "      <th>floors</th>\n",
       "      <th>waterfront</th>\n",
       "      <th>view</th>\n",
       "      <th>condition</th>\n",
       "      <th>grade</th>\n",
       "      <th>sqft_above</th>\n",
       "      <th>sqft_basement</th>\n",
       "      <th>yr_built</th>\n",
       "      <th>yr_renovated</th>\n",
       "      <th>lat</th>\n",
       "      <th>long</th>\n",
       "      <th>sqft_living15</th>\n",
       "      <th>sqft_lot15</th>\n",
       "    </tr>\n",
       "  </thead>\n",
       "  <tbody>\n",
       "    <tr>\n",
       "      <th>count</th>\n",
       "      <td>2.161300e+04</td>\n",
       "      <td>21613.000000</td>\n",
       "      <td>21613.000000</td>\n",
       "      <td>21613.000000</td>\n",
       "      <td>2.161300e+04</td>\n",
       "      <td>21613.000000</td>\n",
       "      <td>21613.000000</td>\n",
       "      <td>21613.000000</td>\n",
       "      <td>21613.000000</td>\n",
       "      <td>21613.000000</td>\n",
       "      <td>21613.000000</td>\n",
       "      <td>21613.000000</td>\n",
       "      <td>21613.000000</td>\n",
       "      <td>21613.000000</td>\n",
       "      <td>21613.000000</td>\n",
       "      <td>21613.000000</td>\n",
       "      <td>21613.000000</td>\n",
       "      <td>21613.000000</td>\n",
       "    </tr>\n",
       "    <tr>\n",
       "      <th>mean</th>\n",
       "      <td>5.400881e+05</td>\n",
       "      <td>3.370842</td>\n",
       "      <td>2.114757</td>\n",
       "      <td>2079.899736</td>\n",
       "      <td>1.510697e+04</td>\n",
       "      <td>1.494309</td>\n",
       "      <td>0.007542</td>\n",
       "      <td>0.234303</td>\n",
       "      <td>3.409430</td>\n",
       "      <td>7.656873</td>\n",
       "      <td>1788.390691</td>\n",
       "      <td>291.509045</td>\n",
       "      <td>1971.005136</td>\n",
       "      <td>84.402258</td>\n",
       "      <td>47.560053</td>\n",
       "      <td>-122.213896</td>\n",
       "      <td>1986.552492</td>\n",
       "      <td>12768.455652</td>\n",
       "    </tr>\n",
       "    <tr>\n",
       "      <th>std</th>\n",
       "      <td>3.671272e+05</td>\n",
       "      <td>0.930062</td>\n",
       "      <td>0.770163</td>\n",
       "      <td>918.440897</td>\n",
       "      <td>4.142051e+04</td>\n",
       "      <td>0.539989</td>\n",
       "      <td>0.086517</td>\n",
       "      <td>0.766318</td>\n",
       "      <td>0.650743</td>\n",
       "      <td>1.175459</td>\n",
       "      <td>828.090978</td>\n",
       "      <td>442.575043</td>\n",
       "      <td>29.373411</td>\n",
       "      <td>401.679240</td>\n",
       "      <td>0.138564</td>\n",
       "      <td>0.140828</td>\n",
       "      <td>685.391304</td>\n",
       "      <td>27304.179631</td>\n",
       "    </tr>\n",
       "    <tr>\n",
       "      <th>min</th>\n",
       "      <td>7.500000e+04</td>\n",
       "      <td>0.000000</td>\n",
       "      <td>0.000000</td>\n",
       "      <td>290.000000</td>\n",
       "      <td>5.200000e+02</td>\n",
       "      <td>1.000000</td>\n",
       "      <td>0.000000</td>\n",
       "      <td>0.000000</td>\n",
       "      <td>1.000000</td>\n",
       "      <td>1.000000</td>\n",
       "      <td>290.000000</td>\n",
       "      <td>0.000000</td>\n",
       "      <td>1900.000000</td>\n",
       "      <td>0.000000</td>\n",
       "      <td>47.155900</td>\n",
       "      <td>-122.519000</td>\n",
       "      <td>399.000000</td>\n",
       "      <td>651.000000</td>\n",
       "    </tr>\n",
       "    <tr>\n",
       "      <th>25%</th>\n",
       "      <td>3.219500e+05</td>\n",
       "      <td>3.000000</td>\n",
       "      <td>1.750000</td>\n",
       "      <td>1427.000000</td>\n",
       "      <td>5.040000e+03</td>\n",
       "      <td>1.000000</td>\n",
       "      <td>0.000000</td>\n",
       "      <td>0.000000</td>\n",
       "      <td>3.000000</td>\n",
       "      <td>7.000000</td>\n",
       "      <td>1190.000000</td>\n",
       "      <td>0.000000</td>\n",
       "      <td>1951.000000</td>\n",
       "      <td>0.000000</td>\n",
       "      <td>47.471000</td>\n",
       "      <td>-122.328000</td>\n",
       "      <td>1490.000000</td>\n",
       "      <td>5100.000000</td>\n",
       "    </tr>\n",
       "    <tr>\n",
       "      <th>50%</th>\n",
       "      <td>4.500000e+05</td>\n",
       "      <td>3.000000</td>\n",
       "      <td>2.250000</td>\n",
       "      <td>1910.000000</td>\n",
       "      <td>7.618000e+03</td>\n",
       "      <td>1.500000</td>\n",
       "      <td>0.000000</td>\n",
       "      <td>0.000000</td>\n",
       "      <td>3.000000</td>\n",
       "      <td>7.000000</td>\n",
       "      <td>1560.000000</td>\n",
       "      <td>0.000000</td>\n",
       "      <td>1975.000000</td>\n",
       "      <td>0.000000</td>\n",
       "      <td>47.571800</td>\n",
       "      <td>-122.230000</td>\n",
       "      <td>1840.000000</td>\n",
       "      <td>7620.000000</td>\n",
       "    </tr>\n",
       "    <tr>\n",
       "      <th>75%</th>\n",
       "      <td>6.450000e+05</td>\n",
       "      <td>4.000000</td>\n",
       "      <td>2.500000</td>\n",
       "      <td>2550.000000</td>\n",
       "      <td>1.068800e+04</td>\n",
       "      <td>2.000000</td>\n",
       "      <td>0.000000</td>\n",
       "      <td>0.000000</td>\n",
       "      <td>4.000000</td>\n",
       "      <td>8.000000</td>\n",
       "      <td>2210.000000</td>\n",
       "      <td>560.000000</td>\n",
       "      <td>1997.000000</td>\n",
       "      <td>0.000000</td>\n",
       "      <td>47.678000</td>\n",
       "      <td>-122.125000</td>\n",
       "      <td>2360.000000</td>\n",
       "      <td>10083.000000</td>\n",
       "    </tr>\n",
       "    <tr>\n",
       "      <th>max</th>\n",
       "      <td>7.700000e+06</td>\n",
       "      <td>33.000000</td>\n",
       "      <td>8.000000</td>\n",
       "      <td>13540.000000</td>\n",
       "      <td>1.651359e+06</td>\n",
       "      <td>3.500000</td>\n",
       "      <td>1.000000</td>\n",
       "      <td>4.000000</td>\n",
       "      <td>5.000000</td>\n",
       "      <td>13.000000</td>\n",
       "      <td>9410.000000</td>\n",
       "      <td>4820.000000</td>\n",
       "      <td>2015.000000</td>\n",
       "      <td>2015.000000</td>\n",
       "      <td>47.777600</td>\n",
       "      <td>-121.315000</td>\n",
       "      <td>6210.000000</td>\n",
       "      <td>871200.000000</td>\n",
       "    </tr>\n",
       "  </tbody>\n",
       "</table>\n",
       "</div>"
      ],
      "text/plain": [
       "              price      bedrooms     bathrooms   sqft_living      sqft_lot  \\\n",
       "count  2.161300e+04  21613.000000  21613.000000  21613.000000  2.161300e+04   \n",
       "mean   5.400881e+05      3.370842      2.114757   2079.899736  1.510697e+04   \n",
       "std    3.671272e+05      0.930062      0.770163    918.440897  4.142051e+04   \n",
       "min    7.500000e+04      0.000000      0.000000    290.000000  5.200000e+02   \n",
       "25%    3.219500e+05      3.000000      1.750000   1427.000000  5.040000e+03   \n",
       "50%    4.500000e+05      3.000000      2.250000   1910.000000  7.618000e+03   \n",
       "75%    6.450000e+05      4.000000      2.500000   2550.000000  1.068800e+04   \n",
       "max    7.700000e+06     33.000000      8.000000  13540.000000  1.651359e+06   \n",
       "\n",
       "             floors    waterfront          view     condition         grade  \\\n",
       "count  21613.000000  21613.000000  21613.000000  21613.000000  21613.000000   \n",
       "mean       1.494309      0.007542      0.234303      3.409430      7.656873   \n",
       "std        0.539989      0.086517      0.766318      0.650743      1.175459   \n",
       "min        1.000000      0.000000      0.000000      1.000000      1.000000   \n",
       "25%        1.000000      0.000000      0.000000      3.000000      7.000000   \n",
       "50%        1.500000      0.000000      0.000000      3.000000      7.000000   \n",
       "75%        2.000000      0.000000      0.000000      4.000000      8.000000   \n",
       "max        3.500000      1.000000      4.000000      5.000000     13.000000   \n",
       "\n",
       "         sqft_above  sqft_basement      yr_built  yr_renovated           lat  \\\n",
       "count  21613.000000   21613.000000  21613.000000  21613.000000  21613.000000   \n",
       "mean    1788.390691     291.509045   1971.005136     84.402258     47.560053   \n",
       "std      828.090978     442.575043     29.373411    401.679240      0.138564   \n",
       "min      290.000000       0.000000   1900.000000      0.000000     47.155900   \n",
       "25%     1190.000000       0.000000   1951.000000      0.000000     47.471000   \n",
       "50%     1560.000000       0.000000   1975.000000      0.000000     47.571800   \n",
       "75%     2210.000000     560.000000   1997.000000      0.000000     47.678000   \n",
       "max     9410.000000    4820.000000   2015.000000   2015.000000     47.777600   \n",
       "\n",
       "               long  sqft_living15     sqft_lot15  \n",
       "count  21613.000000   21613.000000   21613.000000  \n",
       "mean    -122.213896    1986.552492   12768.455652  \n",
       "std        0.140828     685.391304   27304.179631  \n",
       "min     -122.519000     399.000000     651.000000  \n",
       "25%     -122.328000    1490.000000    5100.000000  \n",
       "50%     -122.230000    1840.000000    7620.000000  \n",
       "75%     -122.125000    2360.000000   10083.000000  \n",
       "max     -121.315000    6210.000000  871200.000000  "
      ]
     },
     "execution_count": 97,
     "metadata": {},
     "output_type": "execute_result"
    }
   ],
   "source": [
    "df.describe()"
   ]
  },
  {
   "cell_type": "markdown",
   "metadata": {},
   "source": [
    "## c) Transformación de las Variables\n",
    "\n",
    "Los modelos de regresión lineal múltiple asumen ciertas cosas sobre el *dataset*:\n",
    "\n",
    "* Las variables dependientes e independientes tienen una relación lineal\n",
    "* Las variables siguen una distribución normal\n",
    "\n",
    "Una función entregada por SciKit que nos puede ayudar para el segundo punto es StandardScaler, el cual hace lo que se llama Estandarización o Z-score normalization. Esto es, transformar las variables en sus z-scores a partir de:\n",
    "\n",
    "$$x - \\mu \\over \\sigma$$\n",
    "\n",
    "Siendo $\\mu$ el promedio de la población y $\\sigma$ la desviación estándar de ésta. Esto va a permitir que los datos tengan una media o esperanza centrada en 0, y varianzas bajo el mismo orden de magnitud.\n",
    "\n",
    "Para el caso de nuestra variable dependiente **precio**, se va a hacer además una transformación logarítmica. Ésta es una práctica común al trabajar con variables referidas a dinero, y tiene varias ventajas:\n",
    "\n",
    "* Los precios en general tienen *skewness*, o sea, su histograma está desbalanceado, con la mayor parte de los datos acumulados en cierto rango de valores. Una transformacion logarítmica puede ayudar a balancear el histograma (mejorar la simetría), y hacer que su comportamiento sea similar a una distribución normal.\n",
    "* Los cambios en el valor logarítmico de una variable pueden ser directamente interpretados como cambios porcentuales.\n",
    "* El logaritmo puede convertir relaciones multiplicativas en relaciones aditivas (como en el caso anterior, donde los cambios son convertidos en adiciones), y por tanto, hace que patrones de crecimiento exponencial se conviertan en patrones lineales, los cuales funcionan mucho mejor con nuestro modelo.\n",
    "\n",
    "http://www.jerrydallal.com/lhsp/logs.htm\n",
    "https://www.r-statistics.com/2013/05/log-transformations-for-skewed-and-wide-distributions-from-practical-data-science-with-r/\n",
    "https://people.duke.edu/~rnau/411log.htm\n"
   ]
  },
  {
   "cell_type": "code",
   "execution_count": 98,
   "metadata": {
    "collapsed": false
   },
   "outputs": [],
   "source": [
    "#Se guarda en la variable X todo el dataset\n",
    "X = df\n",
    "#Transformacion Logaritmica\n",
    "y = np.log(df['price'])\n",
    "\n",
    "# Se crea un vector \"mascara\" del largo del dataframe X, \n",
    "# y se elige un limite del 70% del dataset para ser usado como conjunto de entrenamiento\n",
    "# El otro 30% sera un conjunto de prueba\n",
    "mask = np.zeros(len(X))\n",
    "limit = int(len(X)*0.7)\n",
    "mask[:limit] = 1\n",
    "istrain = (mask== 1)\n",
    "Xtrain = X[istrain]\n",
    "ytrain = y[istrain]\n",
    "Xtest = X[np.logical_not(istrain)]\n",
    "ytest = y[np.logical_not(istrain)]\n",
    "\n",
    "# Se quita la columna de precio de X despues de la normalización, ya que esto estara en el vector Y\n",
    "Xtrain = Xtrain.drop(['price'], axis=1)\n",
    "Xtest = Xtest.drop(['price'], axis=1)\n",
    "\n",
    "from sklearn.preprocessing import StandardScaler\n",
    "scaler = StandardScaler().fit(Xtrain)\n",
    "df_scaled_train = pd.DataFrame(scaler.transform(Xtrain), columns=Xtrain.columns)\n",
    "df_scaled_train.insert(df_scaled_train.shape[1], 'intercept', np.ones(df_scaled_train.shape[0]))"
   ]
  },
  {
   "cell_type": "code",
   "execution_count": 99,
   "metadata": {
    "collapsed": false
   },
   "outputs": [
    {
     "data": {
      "image/png": "[encoded data removed]",
      "text/plain": [
       "<matplotlib.figure.Figure at 0x7f4561116ef0>"
      ]
     },
     "metadata": {},
     "output_type": "display_data"
    }
   ],
   "source": [
    "from matplotlib.pylab import hist, show\n",
    "from pylab import rcParams\n",
    "\n",
    "rcParams['figure.figsize'] = 14, 4\n",
    "\n",
    "plt.title(\"Hitograma con data sin normalizar\")\n",
    "plt.hist(df['price'],bins=100)\n",
    "plt.show()"
   ]
  },
  {
   "cell_type": "code",
   "execution_count": 100,
   "metadata": {
    "collapsed": false
   },
   "outputs": [
    {
     "data": {
      "image/png": "[encoded data removed]",
      "text/plain": [
       "<matplotlib.figure.Figure at 0x7f455a4a9240>"
      ]
     },
     "metadata": {},
     "output_type": "display_data"
    }
   ],
   "source": [
    "plt.title(\"Histograma con data normalizada\")\n",
    "plt.hist(np.log(df['price']), bins=100)\n",
    "plt.show()"
   ]
  },
  {
   "cell_type": "code",
   "execution_count": 101,
   "metadata": {
    "collapsed": false,
    "scrolled": true
   },
   "outputs": [],
   "source": [
    "#df_scaled_train.describe()"
   ]
  },
  {
   "cell_type": "markdown",
   "metadata": {},
   "source": [
    "Como vemos, logramos hacer que la media de las variables independientes sea muy cercana a cero, y que logre seguir distribuciones parecidas a una Gaussiana. Para el caso de la variable de precio, obtuvimos una escala distinta, pero también de tipo gaussiana.\n",
    "\n",
    "## d) Contrucción del Modelo\n",
    "\n",
    "A continuación se hará la regresión lineal. Recordando que la regresión lineal múltiple se puede ver como la resolución de un sistema de ecuaciones, donde cada elemento del conjunto de respuestas se puede ver como:\n",
    "\n",
    "$$y_i = \\beta_0 1 + \\beta_1 x_{i1} + \\cdots + \\beta_q x_{iq} + \\varepsilon_i$$\n",
    "\n",
    "Sea $n$ el tamaño de la muestra (aquí, 21613) y $q$ el número de parámetros (aquí, 18). La ecuación de regresión lineal múltiple es:\n",
    "\n",
    "$$ \\large Y_{n \\times 1} = X_{n \\times q} \\, \\beta_{q \\times 1} \\, + \\, \\epsilon_{n \\times 1}$$\n",
    "\n",
    "$$\n",
    "\\begin{bmatrix} y_{1} \\\\ y_{2} \\\\ \\vdots \\\\ y_{n} \\end{bmatrix} = \\begin{bmatrix} 1 & x_{11} & x_{12} & \\dots & x_{1p} \\\\ 1 & x_{21} & x_{22} & \\dots & x_{2p} \\\\ \\vdots & \\vdots & \\vdots & & \\vdots \\\\ 1 & x_{n1} & x_{n2} & \\dots & x_{np} \\end{bmatrix} \\begin{bmatrix} \\beta_0 \\\\ \\beta_1 \\\\ \\vdots \\\\ \\beta_p \\end{bmatrix} + \\begin{bmatrix} \\varepsilon_1\\\\ \\varepsilon_2\\\\ \\vdots\\\\ \\varepsilon_n \\end{bmatrix}\n",
    "$$\n",
    "\n",
    "Donde\n",
    "* $Y$ es un vector de tamaño $n\\times 1$, se le dice *vector de respuesta*\n",
    "* $\\epsilon$ es un vector de tamaño $n\\times 1$, se le dice *vector de errores*\n",
    "* $X$ es una matriz de tamaño $n\\times q$, se le dice *matriz de diseño*\n",
    "* $\\beta$ es un vector de tamaño $q\\times 1$, se le dice *vector de pendiente*\n",
    "\n",
    "Ya que el elemento $\\beta_0$ va multiplicado por uno, la matriz va a requerir una columna de unos.\n",
    "\n",
    "\n",
    "http://dept.stat.lsa.umich.edu/~kshedden/Courses/Stat401/Notes/401-multreg.pdf\n",
    "\n",
    "A la función LinearRegression le enviamos el parámetro **fit_intercept = False** debido a que los datos de precios ya están centrados"
   ]
  },
  {
   "cell_type": "code",
   "execution_count": 102,
   "metadata": {
    "collapsed": false
   },
   "outputs": [
    {
     "name": "stdout",
     "output_type": "stream",
     "text": [
      "Coeficientes: \n",
      " [ -1.00699259e-02   5.48449524e-02   6.53415939e+11   2.33409678e-02\n",
      "   3.58327955e-02   3.32410136e-02   4.25700676e-02   4.60901157e-02\n",
      "   1.85350908e-01  -5.81761385e+11  -3.24747439e+11  -1.05102539e-01\n",
      "   1.53503418e-02   1.88049316e-01  -4.28009033e-03   8.43505859e-02\n",
      "  -7.18688965e-03   1.30334287e+01]\n",
      "0.767447905965\n"
     ]
    }
   ],
   "source": [
    "import sklearn.linear_model as lm\n",
    "linreg = lm.LinearRegression(fit_intercept = False)\n",
    "linreg.fit(df_scaled_train, ytrain)\n",
    "\n",
    "print('Coeficientes: \\n', linreg.coef_)\n",
    "print(linreg.score(df_scaled_train, ytrain))"
   ]
  },
  {
   "cell_type": "markdown",
   "metadata": {
    "collapsed": true
   },
   "source": [
    "## e) Análisis de variables: Pesos y Z-score"
   ]
  },
  {
   "cell_type": "markdown",
   "metadata": {},
   "source": [
    "Tenemos que los pesos asignados a cada variable serán los coeficientes $\\hat{\\beta}$ estimados en los puntos anteriores mediante el metodo de minimos cuadrados. Por otro lado tenemos que los Z-Score se obtienen siguien $\\displaystyle z_i = \\frac{\\hat{\\beta_i}}{\\sigma_i\\sqrt{v_i}}$, donde $v_i$ es el elemento $i-esimo$ de la diagonal de la matriz $(X^tX)^{-1}$"
   ]
  },
  {
   "cell_type": "code",
   "execution_count": 103,
   "metadata": {
    "collapsed": false
   },
   "outputs": [],
   "source": [
    "#Se carga el dataframe de los datos de entrenamiento en una arreglo para poder trabajar con los datos\n",
    "def zscore(M,betas,sigma):\n",
    "    #X = np.array(df_scaled_train)\n",
    "    #X = df_scaled_train.as_matrix()\n",
    "    X = M\n",
    "    #Se guarda la traspuesta de la matriz \n",
    "    Xt = np.transpose(X)\n",
    "    #se computa el producto matricial entre la Xt y X \n",
    "    XtX = np.dot(Xt,X)\n",
    "    # Se calcula la matriz de varianza-covarianza\n",
    "    V = np.linalg.inv(XtX)\n",
    "    # Se guarda la varianza (diagonal de la matriz)\n",
    "    Vdiag = np.diag(V)\n",
    "    #Se calculan los z-score\n",
    "    z_score = betas/(sigma*np.sqrt(Vdiag))\n",
    "    return np.array(z_score)"
   ]
  },
  {
   "cell_type": "code",
   "execution_count": 104,
   "metadata": {
    "collapsed": false
   },
   "outputs": [
    {
     "name": "stdout",
     "output_type": "stream",
     "text": [
      "   1. Nombre_regresor  2. Coeficientes    3. z-score\n",
      "0            bedrooms    -1.006993e-02 -9.603692e-01\n",
      "1           bathrooms     5.484495e-02  3.706860e+00\n",
      "2         sqft_living     6.534159e+11  1.090396e+07\n",
      "3            sqft_lot     2.334097e-02  1.970461e+00\n",
      "4              floors     3.583280e-02  3.147196e+00\n",
      "5          waterfront     3.324101e-02  3.743769e+00\n",
      "6                view     4.257007e-02  4.417291e+00\n",
      "7           condition     4.609012e-02  5.189140e+00\n",
      "8               grade     1.853509e-01  1.226781e+01\n",
      "9          sqft_above    -5.817614e+11 -1.090396e+07\n",
      "10      sqft_basement    -3.247474e+11 -1.090396e+07\n",
      "11           yr_built    -1.051025e-01 -8.616066e+00\n",
      "12       yr_renovated     1.535034e-02  1.760737e+00\n",
      "13                lat     1.880493e-01  2.182469e+01\n",
      "14               long    -4.280090e-03 -4.290158e-01\n",
      "15      sqft_living15     8.435059e-02  5.985638e+00\n",
      "16         sqft_lot15    -7.186890e-03 -5.996161e-01\n",
      "17          intercept     1.303343e+01           inf\n"
     ]
    }
   ],
   "source": [
    "#df_scaled_train = df_scaled_train.drop(['sqft_living','sqft_living15'],axis=1)\n",
    "#print(ytrain)\n",
    "#linreg.fit(df_scaled_train, ytrain)\n",
    "z_score = zscore(df_scaled_train.as_matrix(),linreg.coef_, df_scaled_train.std())\n",
    "d = {'1. Nombre_regresor' : df_scaled_train.columns,'2. Coeficientes' : pd.Series(linreg.coef_),'3. z-score': pd.Series(z_score)}\n",
    "print(pd.DataFrame(d))"
   ]
  },
  {
   "cell_type": "markdown",
   "metadata": {},
   "source": [
    "Como podemos apreciar tenemos que existen 3 coeficientes que son del orden de magnitud de $10^{11}$, los cuales pertenecen a las variables sqft_living, sqft_above y sqft_basement lo que hace que tambien obtengamos z-scores muy grandes para esas variables. Si nos damos cuenta estas variables representan las dimensiones en pies cuadrados de la casa, siendo la primera el tamaño completo, la segunda el tamaño sin contar el sotano y la tercera el tamaño del sotano. Podemos suponer que estas variables pueden poseer un grado de correlacion alto, ya que al sumar sqft_above y sqft_basement deberiamos obtener el tamaño total de la casa es decir sqft_living. Para comprobar lo dicho anteriormente se realizara la siguiente matriz de correlacion:"
   ]
  },
  {
   "cell_type": "code",
   "execution_count": 105,
   "metadata": {
    "collapsed": false
   },
   "outputs": [
    {
     "data": {
      "text/html": [
       "<div>\n",
       "<table border=\"1\" class=\"dataframe\">\n",
       "  <thead>\n",
       "    <tr style=\"text-align: right;\">\n",
       "      <th></th>\n",
       "      <th>bedrooms</th>\n",
       "      <th>bathrooms</th>\n",
       "      <th>sqft_living</th>\n",
       "      <th>sqft_lot</th>\n",
       "      <th>floors</th>\n",
       "      <th>waterfront</th>\n",
       "      <th>view</th>\n",
       "      <th>condition</th>\n",
       "      <th>grade</th>\n",
       "      <th>sqft_above</th>\n",
       "      <th>sqft_basement</th>\n",
       "      <th>yr_built</th>\n",
       "      <th>yr_renovated</th>\n",
       "      <th>lat</th>\n",
       "      <th>long</th>\n",
       "      <th>sqft_living15</th>\n",
       "      <th>sqft_lot15</th>\n",
       "      <th>intercept</th>\n",
       "    </tr>\n",
       "  </thead>\n",
       "  <tbody>\n",
       "    <tr>\n",
       "      <th>bedrooms</th>\n",
       "      <td>1.000000</td>\n",
       "      <td>0.535904</td>\n",
       "      <td>0.578053</td>\n",
       "      <td>0.035067</td>\n",
       "      <td>0.210865</td>\n",
       "      <td>-0.003142</td>\n",
       "      <td>0.088809</td>\n",
       "      <td>0.028019</td>\n",
       "      <td>0.365333</td>\n",
       "      <td>0.467729</td>\n",
       "      <td>0.325182</td>\n",
       "      <td>0.170294</td>\n",
       "      <td>0.023393</td>\n",
       "      <td>-0.000963</td>\n",
       "      <td>0.116781</td>\n",
       "      <td>0.383421</td>\n",
       "      <td>0.030806</td>\n",
       "      <td>NaN</td>\n",
       "    </tr>\n",
       "    <tr>\n",
       "      <th>bathrooms</th>\n",
       "      <td>0.535904</td>\n",
       "      <td>1.000000</td>\n",
       "      <td>0.760464</td>\n",
       "      <td>0.098471</td>\n",
       "      <td>0.503189</td>\n",
       "      <td>0.082557</td>\n",
       "      <td>0.205159</td>\n",
       "      <td>-0.094606</td>\n",
       "      <td>0.657519</td>\n",
       "      <td>0.683966</td>\n",
       "      <td>0.304834</td>\n",
       "      <td>0.485022</td>\n",
       "      <td>0.068625</td>\n",
       "      <td>0.025228</td>\n",
       "      <td>0.225004</td>\n",
       "      <td>0.580070</td>\n",
       "      <td>0.099745</td>\n",
       "      <td>NaN</td>\n",
       "    </tr>\n",
       "    <tr>\n",
       "      <th>sqft_living</th>\n",
       "      <td>0.578053</td>\n",
       "      <td>0.760464</td>\n",
       "      <td>1.000000</td>\n",
       "      <td>0.178493</td>\n",
       "      <td>0.397948</td>\n",
       "      <td>0.116534</td>\n",
       "      <td>0.295564</td>\n",
       "      <td>-0.048055</td>\n",
       "      <td>0.766096</td>\n",
       "      <td>0.868037</td>\n",
       "      <td>0.457049</td>\n",
       "      <td>0.324213</td>\n",
       "      <td>0.067808</td>\n",
       "      <td>0.061234</td>\n",
       "      <td>0.220904</td>\n",
       "      <td>0.754939</td>\n",
       "      <td>0.188982</td>\n",
       "      <td>NaN</td>\n",
       "    </tr>\n",
       "    <tr>\n",
       "      <th>sqft_lot</th>\n",
       "      <td>0.035067</td>\n",
       "      <td>0.098471</td>\n",
       "      <td>0.178493</td>\n",
       "      <td>1.000000</td>\n",
       "      <td>0.025827</td>\n",
       "      <td>0.023224</td>\n",
       "      <td>0.072225</td>\n",
       "      <td>-0.019573</td>\n",
       "      <td>0.129979</td>\n",
       "      <td>0.196501</td>\n",
       "      <td>0.007123</td>\n",
       "      <td>0.090992</td>\n",
       "      <td>0.006080</td>\n",
       "      <td>-0.090548</td>\n",
       "      <td>0.224289</td>\n",
       "      <td>0.161865</td>\n",
       "      <td>0.722972</td>\n",
       "      <td>NaN</td>\n",
       "    </tr>\n",
       "    <tr>\n",
       "      <th>floors</th>\n",
       "      <td>0.210865</td>\n",
       "      <td>0.503189</td>\n",
       "      <td>0.397948</td>\n",
       "      <td>0.025827</td>\n",
       "      <td>1.000000</td>\n",
       "      <td>0.040110</td>\n",
       "      <td>0.060022</td>\n",
       "      <td>-0.220846</td>\n",
       "      <td>0.462251</td>\n",
       "      <td>0.577558</td>\n",
       "      <td>-0.233952</td>\n",
       "      <td>0.417424</td>\n",
       "      <td>0.036750</td>\n",
       "      <td>0.038094</td>\n",
       "      <td>0.162631</td>\n",
       "      <td>0.327623</td>\n",
       "      <td>0.022432</td>\n",
       "      <td>NaN</td>\n",
       "    </tr>\n",
       "    <tr>\n",
       "      <th>waterfront</th>\n",
       "      <td>-0.003142</td>\n",
       "      <td>0.082557</td>\n",
       "      <td>0.116534</td>\n",
       "      <td>0.023224</td>\n",
       "      <td>0.040110</td>\n",
       "      <td>1.000000</td>\n",
       "      <td>0.391764</td>\n",
       "      <td>0.017628</td>\n",
       "      <td>0.093717</td>\n",
       "      <td>0.086005</td>\n",
       "      <td>0.080403</td>\n",
       "      <td>-0.015090</td>\n",
       "      <td>0.088126</td>\n",
       "      <td>-0.015941</td>\n",
       "      <td>-0.040204</td>\n",
       "      <td>0.093989</td>\n",
       "      <td>0.033634</td>\n",
       "      <td>NaN</td>\n",
       "    </tr>\n",
       "    <tr>\n",
       "      <th>view</th>\n",
       "      <td>0.088809</td>\n",
       "      <td>0.205159</td>\n",
       "      <td>0.295564</td>\n",
       "      <td>0.072225</td>\n",
       "      <td>0.060022</td>\n",
       "      <td>0.391764</td>\n",
       "      <td>1.000000</td>\n",
       "      <td>0.040835</td>\n",
       "      <td>0.262132</td>\n",
       "      <td>0.180711</td>\n",
       "      <td>0.270965</td>\n",
       "      <td>-0.034804</td>\n",
       "      <td>0.102012</td>\n",
       "      <td>-0.000829</td>\n",
       "      <td>-0.082706</td>\n",
       "      <td>0.289162</td>\n",
       "      <td>0.065560</td>\n",
       "      <td>NaN</td>\n",
       "    </tr>\n",
       "    <tr>\n",
       "      <th>condition</th>\n",
       "      <td>0.028019</td>\n",
       "      <td>-0.094606</td>\n",
       "      <td>-0.048055</td>\n",
       "      <td>-0.019573</td>\n",
       "      <td>-0.220846</td>\n",
       "      <td>0.017628</td>\n",
       "      <td>0.040835</td>\n",
       "      <td>1.000000</td>\n",
       "      <td>-0.126500</td>\n",
       "      <td>-0.147964</td>\n",
       "      <td>0.168377</td>\n",
       "      <td>-0.316423</td>\n",
       "      <td>-0.075268</td>\n",
       "      <td>-0.020326</td>\n",
       "      <td>-0.110188</td>\n",
       "      <td>-0.087904</td>\n",
       "      <td>-0.018792</td>\n",
       "      <td>NaN</td>\n",
       "    </tr>\n",
       "    <tr>\n",
       "      <th>grade</th>\n",
       "      <td>0.365333</td>\n",
       "      <td>0.657519</td>\n",
       "      <td>0.766096</td>\n",
       "      <td>0.129979</td>\n",
       "      <td>0.462251</td>\n",
       "      <td>0.093717</td>\n",
       "      <td>0.262132</td>\n",
       "      <td>-0.126500</td>\n",
       "      <td>1.000000</td>\n",
       "      <td>0.762282</td>\n",
       "      <td>0.175869</td>\n",
       "      <td>0.434888</td>\n",
       "      <td>0.026252</td>\n",
       "      <td>0.112334</td>\n",
       "      <td>0.209230</td>\n",
       "      <td>0.736976</td>\n",
       "      <td>0.136042</td>\n",
       "      <td>NaN</td>\n",
       "    </tr>\n",
       "    <tr>\n",
       "      <th>sqft_above</th>\n",
       "      <td>0.467729</td>\n",
       "      <td>0.683966</td>\n",
       "      <td>0.868037</td>\n",
       "      <td>0.196501</td>\n",
       "      <td>0.577558</td>\n",
       "      <td>0.086005</td>\n",
       "      <td>0.180711</td>\n",
       "      <td>-0.147964</td>\n",
       "      <td>0.762282</td>\n",
       "      <td>1.000000</td>\n",
       "      <td>-0.044872</td>\n",
       "      <td>0.427164</td>\n",
       "      <td>0.037031</td>\n",
       "      <td>0.009976</td>\n",
       "      <td>0.330376</td>\n",
       "      <td>0.730918</td>\n",
       "      <td>0.207778</td>\n",
       "      <td>NaN</td>\n",
       "    </tr>\n",
       "    <tr>\n",
       "      <th>sqft_basement</th>\n",
       "      <td>0.325182</td>\n",
       "      <td>0.304834</td>\n",
       "      <td>0.457049</td>\n",
       "      <td>0.007123</td>\n",
       "      <td>-0.233952</td>\n",
       "      <td>0.080403</td>\n",
       "      <td>0.270965</td>\n",
       "      <td>0.168377</td>\n",
       "      <td>0.175869</td>\n",
       "      <td>-0.044872</td>\n",
       "      <td>1.000000</td>\n",
       "      <td>-0.112892</td>\n",
       "      <td>0.070096</td>\n",
       "      <td>0.105335</td>\n",
       "      <td>-0.147368</td>\n",
       "      <td>0.209607</td>\n",
       "      <td>0.008027</td>\n",
       "      <td>NaN</td>\n",
       "    </tr>\n",
       "    <tr>\n",
       "      <th>yr_built</th>\n",
       "      <td>0.170294</td>\n",
       "      <td>0.485022</td>\n",
       "      <td>0.324213</td>\n",
       "      <td>0.090992</td>\n",
       "      <td>0.417424</td>\n",
       "      <td>-0.015090</td>\n",
       "      <td>-0.034804</td>\n",
       "      <td>-0.316423</td>\n",
       "      <td>0.434888</td>\n",
       "      <td>0.427164</td>\n",
       "      <td>-0.112892</td>\n",
       "      <td>1.000000</td>\n",
       "      <td>-0.217956</td>\n",
       "      <td>-0.166473</td>\n",
       "      <td>0.463052</td>\n",
       "      <td>0.349459</td>\n",
       "      <td>0.114194</td>\n",
       "      <td>NaN</td>\n",
       "    </tr>\n",
       "    <tr>\n",
       "      <th>yr_renovated</th>\n",
       "      <td>0.023393</td>\n",
       "      <td>0.068625</td>\n",
       "      <td>0.067808</td>\n",
       "      <td>0.006080</td>\n",
       "      <td>0.036750</td>\n",
       "      <td>0.088126</td>\n",
       "      <td>0.102012</td>\n",
       "      <td>-0.075268</td>\n",
       "      <td>0.026252</td>\n",
       "      <td>0.037031</td>\n",
       "      <td>0.070096</td>\n",
       "      <td>-0.217956</td>\n",
       "      <td>1.000000</td>\n",
       "      <td>0.031769</td>\n",
       "      <td>-0.073246</td>\n",
       "      <td>0.003175</td>\n",
       "      <td>0.006992</td>\n",
       "      <td>NaN</td>\n",
       "    </tr>\n",
       "    <tr>\n",
       "      <th>lat</th>\n",
       "      <td>-0.000963</td>\n",
       "      <td>0.025228</td>\n",
       "      <td>0.061234</td>\n",
       "      <td>-0.090548</td>\n",
       "      <td>0.038094</td>\n",
       "      <td>-0.015941</td>\n",
       "      <td>-0.000829</td>\n",
       "      <td>-0.020326</td>\n",
       "      <td>0.112334</td>\n",
       "      <td>0.009976</td>\n",
       "      <td>0.105335</td>\n",
       "      <td>-0.166473</td>\n",
       "      <td>0.031769</td>\n",
       "      <td>1.000000</td>\n",
       "      <td>-0.125403</td>\n",
       "      <td>0.064907</td>\n",
       "      <td>-0.090897</td>\n",
       "      <td>NaN</td>\n",
       "    </tr>\n",
       "    <tr>\n",
       "      <th>long</th>\n",
       "      <td>0.116781</td>\n",
       "      <td>0.225004</td>\n",
       "      <td>0.220904</td>\n",
       "      <td>0.224289</td>\n",
       "      <td>0.162631</td>\n",
       "      <td>-0.040204</td>\n",
       "      <td>-0.082706</td>\n",
       "      <td>-0.110188</td>\n",
       "      <td>0.209230</td>\n",
       "      <td>0.330376</td>\n",
       "      <td>-0.147368</td>\n",
       "      <td>0.463052</td>\n",
       "      <td>-0.073246</td>\n",
       "      <td>-0.125403</td>\n",
       "      <td>1.000000</td>\n",
       "      <td>0.311608</td>\n",
       "      <td>0.260524</td>\n",
       "      <td>NaN</td>\n",
       "    </tr>\n",
       "    <tr>\n",
       "      <th>sqft_living15</th>\n",
       "      <td>0.383421</td>\n",
       "      <td>0.580070</td>\n",
       "      <td>0.754939</td>\n",
       "      <td>0.161865</td>\n",
       "      <td>0.327623</td>\n",
       "      <td>0.093989</td>\n",
       "      <td>0.289162</td>\n",
       "      <td>-0.087904</td>\n",
       "      <td>0.736976</td>\n",
       "      <td>0.730918</td>\n",
       "      <td>0.209607</td>\n",
       "      <td>0.349459</td>\n",
       "      <td>0.003175</td>\n",
       "      <td>0.064907</td>\n",
       "      <td>0.311608</td>\n",
       "      <td>1.000000</td>\n",
       "      <td>0.196651</td>\n",
       "      <td>NaN</td>\n",
       "    </tr>\n",
       "    <tr>\n",
       "      <th>sqft_lot15</th>\n",
       "      <td>0.030806</td>\n",
       "      <td>0.099745</td>\n",
       "      <td>0.188982</td>\n",
       "      <td>0.722972</td>\n",
       "      <td>0.022432</td>\n",
       "      <td>0.033634</td>\n",
       "      <td>0.065560</td>\n",
       "      <td>-0.018792</td>\n",
       "      <td>0.136042</td>\n",
       "      <td>0.207778</td>\n",
       "      <td>0.008027</td>\n",
       "      <td>0.114194</td>\n",
       "      <td>0.006992</td>\n",
       "      <td>-0.090897</td>\n",
       "      <td>0.260524</td>\n",
       "      <td>0.196651</td>\n",
       "      <td>1.000000</td>\n",
       "      <td>NaN</td>\n",
       "    </tr>\n",
       "    <tr>\n",
       "      <th>intercept</th>\n",
       "      <td>NaN</td>\n",
       "      <td>NaN</td>\n",
       "      <td>NaN</td>\n",
       "      <td>NaN</td>\n",
       "      <td>NaN</td>\n",
       "      <td>NaN</td>\n",
       "      <td>NaN</td>\n",
       "      <td>NaN</td>\n",
       "      <td>NaN</td>\n",
       "      <td>NaN</td>\n",
       "      <td>NaN</td>\n",
       "      <td>NaN</td>\n",
       "      <td>NaN</td>\n",
       "      <td>NaN</td>\n",
       "      <td>NaN</td>\n",
       "      <td>NaN</td>\n",
       "      <td>NaN</td>\n",
       "      <td>NaN</td>\n",
       "    </tr>\n",
       "  </tbody>\n",
       "</table>\n",
       "</div>"
      ],
      "text/plain": [
       "               bedrooms  bathrooms  sqft_living  sqft_lot    floors  \\\n",
       "bedrooms       1.000000   0.535904     0.578053  0.035067  0.210865   \n",
       "bathrooms      0.535904   1.000000     0.760464  0.098471  0.503189   \n",
       "sqft_living    0.578053   0.760464     1.000000  0.178493  0.397948   \n",
       "sqft_lot       0.035067   0.098471     0.178493  1.000000  0.025827   \n",
       "floors         0.210865   0.503189     0.397948  0.025827  1.000000   \n",
       "waterfront    -0.003142   0.082557     0.116534  0.023224  0.040110   \n",
       "view           0.088809   0.205159     0.295564  0.072225  0.060022   \n",
       "condition      0.028019  -0.094606    -0.048055 -0.019573 -0.220846   \n",
       "grade          0.365333   0.657519     0.766096  0.129979  0.462251   \n",
       "sqft_above     0.467729   0.683966     0.868037  0.196501  0.577558   \n",
       "sqft_basement  0.325182   0.304834     0.457049  0.007123 -0.233952   \n",
       "yr_built       0.170294   0.485022     0.324213  0.090992  0.417424   \n",
       "yr_renovated   0.023393   0.068625     0.067808  0.006080  0.036750   \n",
       "lat           -0.000963   0.025228     0.061234 -0.090548  0.038094   \n",
       "long           0.116781   0.225004     0.220904  0.224289  0.162631   \n",
       "sqft_living15  0.383421   0.580070     0.754939  0.161865  0.327623   \n",
       "sqft_lot15     0.030806   0.099745     0.188982  0.722972  0.022432   \n",
       "intercept           NaN        NaN          NaN       NaN       NaN   \n",
       "\n",
       "               waterfront      view  condition     grade  sqft_above  \\\n",
       "bedrooms        -0.003142  0.088809   0.028019  0.365333    0.467729   \n",
       "bathrooms        0.082557  0.205159  -0.094606  0.657519    0.683966   \n",
       "sqft_living      0.116534  0.295564  -0.048055  0.766096    0.868037   \n",
       "sqft_lot         0.023224  0.072225  -0.019573  0.129979    0.196501   \n",
       "floors           0.040110  0.060022  -0.220846  0.462251    0.577558   \n",
       "waterfront       1.000000  0.391764   0.017628  0.093717    0.086005   \n",
       "view             0.391764  1.000000   0.040835  0.262132    0.180711   \n",
       "condition        0.017628  0.040835   1.000000 -0.126500   -0.147964   \n",
       "grade            0.093717  0.262132  -0.126500  1.000000    0.762282   \n",
       "sqft_above       0.086005  0.180711  -0.147964  0.762282    1.000000   \n",
       "sqft_basement    0.080403  0.270965   0.168377  0.175869   -0.044872   \n",
       "yr_built        -0.015090 -0.034804  -0.316423  0.434888    0.427164   \n",
       "yr_renovated     0.088126  0.102012  -0.075268  0.026252    0.037031   \n",
       "lat             -0.015941 -0.000829  -0.020326  0.112334    0.009976   \n",
       "long            -0.040204 -0.082706  -0.110188  0.209230    0.330376   \n",
       "sqft_living15    0.093989  0.289162  -0.087904  0.736976    0.730918   \n",
       "sqft_lot15       0.033634  0.065560  -0.018792  0.136042    0.207778   \n",
       "intercept             NaN       NaN        NaN       NaN         NaN   \n",
       "\n",
       "               sqft_basement  yr_built  yr_renovated       lat      long  \\\n",
       "bedrooms            0.325182  0.170294      0.023393 -0.000963  0.116781   \n",
       "bathrooms           0.304834  0.485022      0.068625  0.025228  0.225004   \n",
       "sqft_living         0.457049  0.324213      0.067808  0.061234  0.220904   \n",
       "sqft_lot            0.007123  0.090992      0.006080 -0.090548  0.224289   \n",
       "floors             -0.233952  0.417424      0.036750  0.038094  0.162631   \n",
       "waterfront          0.080403 -0.015090      0.088126 -0.015941 -0.040204   \n",
       "view                0.270965 -0.034804      0.102012 -0.000829 -0.082706   \n",
       "condition           0.168377 -0.316423     -0.075268 -0.020326 -0.110188   \n",
       "grade               0.175869  0.434888      0.026252  0.112334  0.209230   \n",
       "sqft_above         -0.044872  0.427164      0.037031  0.009976  0.330376   \n",
       "sqft_basement       1.000000 -0.112892      0.070096  0.105335 -0.147368   \n",
       "yr_built           -0.112892  1.000000     -0.217956 -0.166473  0.463052   \n",
       "yr_renovated        0.070096 -0.217956      1.000000  0.031769 -0.073246   \n",
       "lat                 0.105335 -0.166473      0.031769  1.000000 -0.125403   \n",
       "long               -0.147368  0.463052     -0.073246 -0.125403  1.000000   \n",
       "sqft_living15       0.209607  0.349459      0.003175  0.064907  0.311608   \n",
       "sqft_lot15          0.008027  0.114194      0.006992 -0.090897  0.260524   \n",
       "intercept                NaN       NaN           NaN       NaN       NaN   \n",
       "\n",
       "               sqft_living15  sqft_lot15  intercept  \n",
       "bedrooms            0.383421    0.030806        NaN  \n",
       "bathrooms           0.580070    0.099745        NaN  \n",
       "sqft_living         0.754939    0.188982        NaN  \n",
       "sqft_lot            0.161865    0.722972        NaN  \n",
       "floors              0.327623    0.022432        NaN  \n",
       "waterfront          0.093989    0.033634        NaN  \n",
       "view                0.289162    0.065560        NaN  \n",
       "condition          -0.087904   -0.018792        NaN  \n",
       "grade               0.736976    0.136042        NaN  \n",
       "sqft_above          0.730918    0.207778        NaN  \n",
       "sqft_basement       0.209607    0.008027        NaN  \n",
       "yr_built            0.349459    0.114194        NaN  \n",
       "yr_renovated        0.003175    0.006992        NaN  \n",
       "lat                 0.064907   -0.090897        NaN  \n",
       "long                0.311608    0.260524        NaN  \n",
       "sqft_living15       1.000000    0.196651        NaN  \n",
       "sqft_lot15          0.196651    1.000000        NaN  \n",
       "intercept                NaN         NaN        NaN  "
      ]
     },
     "execution_count": 105,
     "metadata": {},
     "output_type": "execute_result"
    }
   ],
   "source": [
    "pd.DataFrame.corr(df_scaled_train)"
   ]
  },
  {
   "cell_type": "markdown",
   "metadata": {},
   "source": [
    "Como podemos apreciar el indice de correlacion entre $\\textbf{sqft_living}$ y $\\textbf{sqft_above}$ es $r=0.868037$ mientras que con la variable $\\textbf{sqft_basement}$ no es tan alto ($r=0.457049$), esto quizas a que en su mayoria las casas no poseen sotano. Sin embargo tambien podemos notar que el inice de correlacion entre esta variable es alto con otros predictores como $\\textbf{bathrooms}$ con un $r=0.760464$, $\\textbf{grade}$ con un $r= 0.766096$ y $\\textbf{sqft_living15}$ con un $r=0.754939$.\n",
    "\n",
    "Como podemos ver el supuesto de de que todas las variables son independientes se cae al ver la matriz de correlacion, ya que todos los valores deberian ser cercanos a 0 y aqui tenemos varios coeficientes que estan cerca de $0.5$ o incluso lo sobrepasan como el caso de $\\textbf{sqft_living}$. Para solucionar este problema se realizara nuevamente el fiting y se realizara el calculo de los z-score sin considerar la variable $\\textbf{sqft_living}$."
   ]
  },
  {
   "cell_type": "code",
   "execution_count": 109,
   "metadata": {
    "collapsed": false
   },
   "outputs": [
    {
     "name": "stdout",
     "output_type": "stream",
     "text": [
      "   1. Nombre_regresor  2. Coeficientes  3. z-score\n",
      "0            bedrooms        -0.008086   -0.771117\n",
      "1           bathrooms         0.055111    3.724857\n",
      "2            sqft_lot         0.022873    1.930916\n",
      "3              floors         0.035505    3.118415\n",
      "4          waterfront         0.033366    3.757811\n",
      "5                view         0.042595    4.419879\n",
      "6           condition         0.046360    5.219470\n",
      "7               grade         0.184577   12.216620\n",
      "8          sqft_above         0.096628    5.358861\n",
      "9       sqft_basement         0.060561    5.252478\n",
      "10           yr_built        -0.104759   -8.587932\n",
      "11       yr_renovated         0.015266    1.751052\n",
      "12                lat         0.187880   21.804983\n",
      "13               long        -0.004031   -0.404072\n",
      "14      sqft_living15         0.084412    5.990017\n",
      "15         sqft_lot15        -0.007149   -0.596438\n",
      "16          intercept        13.033501         inf\n"
     ]
    }
   ],
   "source": [
    "df2 = df\n",
    "df2 = df2.drop([\"sqft_living\"],axis=1)\n",
    "X = df2\n",
    "y2 = np.log(df2['price'])\n",
    "mask = np.zeros(len(X))\n",
    "limit = int(len(X)*0.7)\n",
    "mask[:limit] = 1\n",
    "istrain = (mask== 1)\n",
    "Xtrain2 = X[istrain]\n",
    "ytrain2 = y[istrain]\n",
    "Xtest2 = X[np.logical_not(istrain)]\n",
    "ytest2 = y[np.logical_not(istrain)]\n",
    "Xtrain2 = Xtrain2.drop(['price'], axis=1)\n",
    "Xtest2 = Xtest2.drop(['price'], axis=1)\n",
    "scaler = StandardScaler().fit(Xtrain2)\n",
    "df_scaled_train2 = pd.DataFrame(scaler.transform(Xtrain2), columns=Xtrain2.columns)\n",
    "df_scaled_train2.insert(df_scaled_train2.shape[1], 'intercept', np.ones(df_scaled_train2.shape[0]))\n",
    "\n",
    "linreg.fit(df_scaled_train2, ytrain2)\n",
    "z_score2 = zscore(df_scaled_train2.as_matrix(),linreg.coef_,df_scaled_train2.std())\n",
    "d2 = {'1. Nombre_regresor' : df_scaled_train2.columns,'2. Coeficientes' : pd.Series(linreg.coef_),'3. z-score': pd.Series(z_score2)}\n",
    "print(pd.DataFrame(d2))\n"
   ]
  },
  {
   "cell_type": "markdown",
   "metadata": {},
   "source": [
    "Como podemos ver el efecto que tiene el quitar esta variable es bastante significativo, ahora los valores de los coeficientes y z-score no presentan ningun valor atipico."
   ]
  },
  {
   "cell_type": "markdown",
   "metadata": {
    "collapsed": false
   },
   "source": [
    "## f) K-fold cross-Validation"
   ]
  },
  {
   "cell_type": "markdown",
   "metadata": {},
   "source": [
    "El sobreajuste es una complicacion que poseen la mayoria de algoritmos de machine learning, la cual conciste en ajustarse a caracteristicas muy especificas de los datos de entrenamiento provocando que el modelo pierda la capacidad de generalización. Una forma de lidiar con este problema es realizar una validacion cruzadada de los datos.\n",
    "\n",
    "Para este item se usara el metodo de K-fold cross-validation con $k=5$ y $k=10$ respectivamente.\n"
   ]
  },
  {
   "cell_type": "code",
   "execution_count": 150,
   "metadata": {
    "collapsed": false
   },
   "outputs": [
    {
     "name": "stdout",
     "output_type": "stream",
     "text": [
      "Error estandar promedio 0.06525276425607333\n"
     ]
    }
   ],
   "source": [
    "#Se normaliza la data de test\n",
    "x_test = pd.DataFrame(scaler.transform(Xtest),columns=Xtest.columns)\n",
    "#Se agrega la columna \"intercept\"\n",
    "x_test.insert(x_test.shape[1], 'intercept', np.ones(x_test.shape[0]))\n",
    "yhat_test = linreg.predict(x_test)\n",
    "#Error estandar promedio cuadrado\n",
    "mse_test = np.mean(np.power(yhat_test - ytest, 2))\n",
    "print(\"Error estandar promedio\", mse_test)\n",
    "from sklearn.model_selection import KFold\n",
    "Xm = Xtrain.as_matrix()\n",
    "ym = ytrain.as_matrix()"
   ]
  },
  {
   "cell_type": "code",
   "execution_count": 151,
   "metadata": {
    "collapsed": false
   },
   "outputs": [
    {
     "name": "stdout",
     "output_type": "stream",
     "text": [
      "Error promedio para k=10  0.0670489670618\n"
     ]
    }
   ],
   "source": [
    "kf = KFold(n_splits=10)\n",
    "mse_cv = 0\n",
    "for train, val in kf.split(Xm):\n",
    "    #train -> indices de cada fold para la data de entreamiento\n",
    "    #val -> indice de cada fold para la data de test\n",
    "    cross_scaler = StandardScaler().fit(Xm[train])\n",
    "    df_cross_train = pd.DataFrame(cross_scaler.transform(Xm[train]),columns=Xtrain.columns)\n",
    "    df_cross_train.insert(df_cross_train.shape[1], 'intercept',np.ones(df_cross_train.shape[0]))\n",
    "    linreg = lm.LinearRegression(fit_intercept = False)\n",
    "    #Por cada iteracion se recalculan los coeficientes\n",
    "    linreg.fit(df_cross_train, ym[train])\n",
    "    #Se normalizan los datos de test\n",
    "    df_cross_test = pd.DataFrame(cross_scaler.transform(Xm[val]),columns=Xtrain.columns)\n",
    "    df_cross_test.insert(df_cross_test.shape[1], 'intercept', np.ones(df_cross_test.shape[0]))\n",
    "    #Se obtiene la nueva prediccion\n",
    "    yhat_val = linreg.predict(df_cross_test)\n",
    "    mse_fold = np.mean(np.power(yhat_val - ym[val], 2))\n",
    "    #print(\"Error del fold\", mse_fold)\n",
    "    mse_cv += mse_fold\n",
    "mse_cv = mse_cv/10\n",
    "print(\"Error promedio para k=10 \", mse_cv)"
   ]
  },
  {
   "cell_type": "code",
   "execution_count": 152,
   "metadata": {
    "collapsed": false,
    "slideshow": {
     "slide_type": "-"
    }
   },
   "outputs": [
    {
     "name": "stdout",
     "output_type": "stream",
     "text": [
      "Error promedio para k=5  0.00670489670618\n"
     ]
    }
   ],
   "source": [
    "kf5 = KFold(n_splits=5)\n",
    "mse_cv_k5 = 0\n",
    "for train_k5, val_k5 in kf5.split(Xm):\n",
    "    #train -> indices de cada fold para la data de entreamiento\n",
    "    #val -> indice de cada fold para la data de test\n",
    "    cross_scaler_k5 = StandardScaler().fit(Xm[train_k5])\n",
    "    df_cross_train_k5 = pd.DataFrame(cross_scaler_k5.transform(Xm[train_k5]),columns=Xtrain.columns)\n",
    "    df_cross_train_k5.insert(df_cross_train_k5.shape[1], 'intercept',np.ones(df_cross_train_k5.shape[0]))\n",
    "    linreg = lm.LinearRegression(fit_intercept = False)\n",
    "    #Por cada iteracion se recalculan los coeficientes\n",
    "    linreg.fit(df_cross_train_k5, ym[train_k5])\n",
    "    #Se normalizan los datos de test\n",
    "    df_cross_test_k5 = pd.DataFrame(cross_scaler_k5.transform(Xm[val_k5]),columns=Xtrain.columns)\n",
    "    df_cross_test_k5.insert(df_cross_test_k5.shape[1], 'intercept', np.ones(df_cross_test_k5.shape[0]))\n",
    "    #Se obtiene la nueva prediccion\n",
    "    yhat_val_k5 = linreg.predict(df_cross_test_k5)\n",
    "    mse_fold_k5 = np.mean(np.power(yhat_val_k5 - ym[val_k5], 2))\n",
    "    #print(\"Error del fold\", mse_fold_k5)\n",
    "    mse_cv_k5 += mse_fold_k5\n",
    "mse_cv_k5 = mse_cv/10\n",
    "print(\"Error promedio para k=5 \", mse_cv_k5)"
   ]
  },
  {
   "cell_type": "markdown",
   "metadata": {
    "collapsed": false
   },
   "source": [
    "Como podemos apreciar el error para este modelo es bastante bajo entre el target obtenido usando la data de test y la real, por lo que podemos concluir que el modelo no posee sobreajuste."
   ]
  },
  {
   "cell_type": "markdown",
   "metadata": {
    "collapsed": false
   },
   "source": [
    "## j) Análisis del error y normalidad de los datos"
   ]
  },
  {
   "cell_type": "markdown",
   "metadata": {},
   "source": [
    "****Los gráficos Q-Q son similares a los gráficos de probabilidad (que para una distribución normal se llaman gráficos de probabilidad normal o gráficos rankit). La diferencia es que en un gráfico de probabilidad, en lugar de usar el cuantil de la distribución como eje X, se usa la esperanza matemática del estadístico de k-ésimo orden de la distribución. Sólo cuando n es pequeño hay una diferencia sustancial entre un gráfico Q-Q y un gráfico de probabilidad.****"
   ]
  },
  {
   "cell_type": "code",
   "execution_count": 153,
   "metadata": {
    "collapsed": false
   },
   "outputs": [],
   "source": [
    "import scipy.stats as stats\n",
    "from scipy.stats import norm"
   ]
  },
  {
   "cell_type": "code",
   "execution_count": 154,
   "metadata": {
    "collapsed": false
   },
   "outputs": [
    {
     "name": "stdout",
     "output_type": "stream",
     "text": [
      "16.756267397\n",
      "15.8567308868\n",
      "----------\n",
      "11.4007889127\n",
      "11.2252433925\n"
     ]
    }
   ],
   "source": [
    "# se calcula la prediccion hecha por el modelo del target usando los datos de entrenamiento.\n",
    "Xtrain = np.array(df_scaled_train)\n",
    "yhat_train = linreg.predict(Xtrain)\n",
    "#Se calcula el error o residuo usando los valores reales y los obteidos por la prediccion del modelo\n",
    "e = np.array(ytrain) - yhat_train\n",
    "\n",
    "print(np.max(yhat_train))\n",
    "print(np.max(ytrain))\n",
    "print(\"----------\")\n",
    "print(np.min(yhat_train))\n",
    "print(np.min(ytrain))"
   ]
  },
  {
   "cell_type": "code",
   "execution_count": 155,
   "metadata": {
    "collapsed": false
   },
   "outputs": [
    {
     "data": {
      "image/png": "[encoded data removed]",
      "text/plain": [
       "<matplotlib.figure.Figure at 0x7f2d461b2438>"
      ]
     },
     "metadata": {},
     "output_type": "display_data"
    }
   ],
   "source": [
    "data = [ytrain, yhat_train]\n",
    "# multiple box plots on one figure\n",
    "plt.figure()\n",
    "plt.boxplot(data)\n",
    "plt.show()"
   ]
  },
  {
   "cell_type": "code",
   "execution_count": 157,
   "metadata": {
    "collapsed": false
   },
   "outputs": [
    {
     "data": {
      "image/png": "[encoded data removed]",
      "text/plain": [
       "<matplotlib.figure.Figure at 0x7f2d46511898>"
      ]
     },
     "metadata": {},
     "output_type": "display_data"
    }
   ],
   "source": [
    "#Se realiza un grafico de probabilidado el cual nos entregara el mismo resultado que un QQplot ya que n es grande.\n",
    "stats.probplot(e, dist=\"norm\", plot=plt)\n",
    "plt.show()"
   ]
  },
  {
   "cell_type": "code",
   "execution_count": 110,
   "metadata": {
    "collapsed": false
   },
   "outputs": [
    {
     "data": {
      "image/png": "[encoded data removed]",
      "text/plain": [
       "<matplotlib.figure.Figure at 0x7f2d44072dd8>"
      ]
     },
     "metadata": {},
     "output_type": "display_data"
    }
   ],
   "source": [
    "plt.boxplot(ytrain)\n",
    "plt.show()"
   ]
  },
  {
   "cell_type": "code",
   "execution_count": 158,
   "metadata": {
    "collapsed": false
   },
   "outputs": [
    {
     "data": {
      "image/png": "[encoded data removed]",
      "text/plain": [
       "<matplotlib.figure.Figure at 0x7f2d4664d278>"
      ]
     },
     "metadata": {},
     "output_type": "display_data"
    }
   ],
   "source": [
    "plt.title(\"Histograma de los residuos \")\n",
    "plt.hist(e,bins=100)\n",
    "plt.show()"
   ]
  },
  {
   "cell_type": "markdown",
   "metadata": {
    "collapsed": true
   },
   "source": [
    "## 1-h)"
   ]
  },
  {
   "cell_type": "code",
   "execution_count": 48,
   "metadata": {
    "collapsed": false
   },
   "outputs": [
    {
     "name": "stdout",
     "output_type": "stream",
     "text": [
      "(3000, 18)\n",
      "15.8567308868\n",
      "[ 11.   11.5  12.   12.5  13.   13.5  14.   14.5  15.   15.5]\n",
      "(3000, 18)\n"
     ]
    },
    {
     "ename": "ValueError",
     "evalue": "Can only compare identically-labeled DataFrame objects",
     "output_type": "error",
     "traceback": [
      "\u001b[0;31m---------------------------------------------------------------------------\u001b[0m",
      "\u001b[0;31mValueError\u001b[0m                                Traceback (most recent call last)",
      "\u001b[0;32m<ipython-input-48-1de190724ea7>\u001b[0m in \u001b[0;36m<module>\u001b[0;34m()\u001b[0m\n\u001b[1;32m      9\u001b[0m \u001b[0mdf_B\u001b[0m \u001b[0;34m=\u001b[0m \u001b[0mpd\u001b[0m\u001b[0;34m.\u001b[0m\u001b[0mconcat\u001b[0m\u001b[0;34m(\u001b[0m\u001b[0mframes\u001b[0m\u001b[0;34m)\u001b[0m\u001b[0;34m.\u001b[0m\u001b[0msample\u001b[0m\u001b[0;34m(\u001b[0m\u001b[0;36m3000\u001b[0m\u001b[0;34m)\u001b[0m\u001b[0;34m\u001b[0m\u001b[0m\n\u001b[1;32m     10\u001b[0m \u001b[0mprint\u001b[0m\u001b[0;34m(\u001b[0m\u001b[0mdf_B\u001b[0m\u001b[0;34m.\u001b[0m\u001b[0mshape\u001b[0m\u001b[0;34m)\u001b[0m\u001b[0;34m\u001b[0m\u001b[0m\n\u001b[0;32m---> 11\u001b[0;31m \u001b[0mprint\u001b[0m\u001b[0;34m(\u001b[0m\u001b[0mdf_A\u001b[0m \u001b[0;34m==\u001b[0m \u001b[0mdf_B\u001b[0m\u001b[0;34m)\u001b[0m\u001b[0;34m\u001b[0m\u001b[0m\n\u001b[0m\u001b[1;32m     12\u001b[0m \u001b[0mX_A\u001b[0m \u001b[0;34m=\u001b[0m \u001b[0mdf_A\u001b[0m\u001b[0;34m.\u001b[0m\u001b[0miloc\u001b[0m\u001b[0;34m[\u001b[0m\u001b[0;34m:\u001b[0m\u001b[0;34m,\u001b[0m\u001b[0;36m1\u001b[0m\u001b[0;34m:\u001b[0m\u001b[0;34m]\u001b[0m\u001b[0;34m.\u001b[0m\u001b[0mvalues\u001b[0m\u001b[0;34m\u001b[0m\u001b[0m\n\u001b[1;32m     13\u001b[0m \u001b[0my_A\u001b[0m \u001b[0;34m=\u001b[0m \u001b[0mdf_A\u001b[0m\u001b[0;34m.\u001b[0m\u001b[0mprice\u001b[0m\u001b[0;34m\u001b[0m\u001b[0m\n",
      "\u001b[0;32m/home/phorth/anaconda3/lib/python3.6/site-packages/pandas/core/ops.py\u001b[0m in \u001b[0;36mf\u001b[0;34m(self, other)\u001b[0m\n\u001b[1;32m   1288\u001b[0m     \u001b[0;32mdef\u001b[0m \u001b[0mf\u001b[0m\u001b[0;34m(\u001b[0m\u001b[0mself\u001b[0m\u001b[0;34m,\u001b[0m \u001b[0mother\u001b[0m\u001b[0;34m)\u001b[0m\u001b[0;34m:\u001b[0m\u001b[0;34m\u001b[0m\u001b[0m\n\u001b[1;32m   1289\u001b[0m         \u001b[0;32mif\u001b[0m \u001b[0misinstance\u001b[0m\u001b[0;34m(\u001b[0m\u001b[0mother\u001b[0m\u001b[0;34m,\u001b[0m \u001b[0mpd\u001b[0m\u001b[0;34m.\u001b[0m\u001b[0mDataFrame\u001b[0m\u001b[0;34m)\u001b[0m\u001b[0;34m:\u001b[0m  \u001b[0;31m# Another DataFrame\u001b[0m\u001b[0;34m\u001b[0m\u001b[0m\n\u001b[0;32m-> 1290\u001b[0;31m             \u001b[0;32mreturn\u001b[0m \u001b[0mself\u001b[0m\u001b[0;34m.\u001b[0m\u001b[0m_compare_frame\u001b[0m\u001b[0;34m(\u001b[0m\u001b[0mother\u001b[0m\u001b[0;34m,\u001b[0m \u001b[0mfunc\u001b[0m\u001b[0;34m,\u001b[0m \u001b[0mstr_rep\u001b[0m\u001b[0;34m)\u001b[0m\u001b[0;34m\u001b[0m\u001b[0m\n\u001b[0m\u001b[1;32m   1291\u001b[0m         \u001b[0;32melif\u001b[0m \u001b[0misinstance\u001b[0m\u001b[0;34m(\u001b[0m\u001b[0mother\u001b[0m\u001b[0;34m,\u001b[0m \u001b[0mABCSeries\u001b[0m\u001b[0;34m)\u001b[0m\u001b[0;34m:\u001b[0m\u001b[0;34m\u001b[0m\u001b[0m\n\u001b[1;32m   1292\u001b[0m             \u001b[0;32mreturn\u001b[0m \u001b[0mself\u001b[0m\u001b[0;34m.\u001b[0m\u001b[0m_combine_series_infer\u001b[0m\u001b[0;34m(\u001b[0m\u001b[0mother\u001b[0m\u001b[0;34m,\u001b[0m \u001b[0mfunc\u001b[0m\u001b[0;34m)\u001b[0m\u001b[0;34m\u001b[0m\u001b[0m\n",
      "\u001b[0;32m/home/phorth/anaconda3/lib/python3.6/site-packages/pandas/core/frame.py\u001b[0m in \u001b[0;36m_compare_frame\u001b[0;34m(self, other, func, str_rep)\u001b[0m\n\u001b[1;32m   3652\u001b[0m     \u001b[0;32mdef\u001b[0m \u001b[0m_compare_frame\u001b[0m\u001b[0;34m(\u001b[0m\u001b[0mself\u001b[0m\u001b[0;34m,\u001b[0m \u001b[0mother\u001b[0m\u001b[0;34m,\u001b[0m \u001b[0mfunc\u001b[0m\u001b[0;34m,\u001b[0m \u001b[0mstr_rep\u001b[0m\u001b[0;34m)\u001b[0m\u001b[0;34m:\u001b[0m\u001b[0;34m\u001b[0m\u001b[0m\n\u001b[1;32m   3653\u001b[0m         \u001b[0;32mif\u001b[0m \u001b[0;32mnot\u001b[0m \u001b[0mself\u001b[0m\u001b[0;34m.\u001b[0m\u001b[0m_indexed_same\u001b[0m\u001b[0;34m(\u001b[0m\u001b[0mother\u001b[0m\u001b[0;34m)\u001b[0m\u001b[0;34m:\u001b[0m\u001b[0;34m\u001b[0m\u001b[0m\n\u001b[0;32m-> 3654\u001b[0;31m             raise ValueError('Can only compare identically-labeled '\n\u001b[0m\u001b[1;32m   3655\u001b[0m                              'DataFrame objects')\n\u001b[1;32m   3656\u001b[0m         \u001b[0;32mreturn\u001b[0m \u001b[0mself\u001b[0m\u001b[0;34m.\u001b[0m\u001b[0m_compare_frame_evaluate\u001b[0m\u001b[0;34m(\u001b[0m\u001b[0mother\u001b[0m\u001b[0;34m,\u001b[0m \u001b[0mfunc\u001b[0m\u001b[0;34m,\u001b[0m \u001b[0mstr_rep\u001b[0m\u001b[0;34m)\u001b[0m\u001b[0;34m\u001b[0m\u001b[0m\n",
      "\u001b[0;31mValueError\u001b[0m: Can only compare identically-labeled DataFrame objects"
     ]
    }
   ],
   "source": [
    "df_A = df.sample(3000)\n",
    "print(df_A.shape)\n",
    "frames = []\n",
    "valor = np.log(df.price)\n",
    "print(np.max(valor))\n",
    "print(np.arange(int(np.min(valor)),int(np.max(valor))+1,0.5))\n",
    "for z in np.arange(int(np.min(valor)),int(np.max(valor))+1,0.5):\n",
    "    frames.append(df[(np.log(df.price) >= z) & (np.log(df.price) < z+0.5)].head(500))\n",
    "df_B = pd.concat(frames).sample(3000)\n",
    "print(df_B.shape)\n",
    "print(df_A == df_B)\n",
    "X_A = df_A.iloc[:,1:].values\n",
    "y_A = df_A.price\n",
    "X_B = df_B.iloc[:,1:].values\n",
    "y_B = df_B.price\n",
    "from sklearn.model_selection import train_test_split\n",
    "Xtrain_A, Xval_A, ytrain_A, yval_A = train_test_split(X_A, y_A, test_size=0.3, random_state=42)\n",
    "Xtrain_B, Xval_B, ytrain_B, yval_B = train_test_split(X_B, y_B, test_size=0.3, random_state=42)"
   ]
  },
  {
   "cell_type": "markdown",
   "metadata": {},
   "source": [
    "## 4. Peliculas\n",
    "\n",
    "Tenemos 145256 características, debido a todas las combinaciones de palabras posibles de las críticas/reviews de cada película.\n",
    "\n",
    "Son 1147 elementos de entrenamiento, 254 elementos de prueba, y 317 elementos para el cross-validation.\n"
   ]
  },
  {
   "cell_type": "code",
   "execution_count": null,
   "metadata": {
    "collapsed": false
   },
   "outputs": [],
   "source": [
    "import pandas as pd\n",
    "import numpy as np\n",
    "from scipy.sparse import csc_matrix\n",
    "from scipy.io import mmread\n",
    "#X_movies = pd.SparseDataFrame( csr_matrix(mmread('train.x.mm')) )\n",
    "X_movies = csc_matrix(mmread('train.x.mm'))\n",
    "y_movies = np.loadtxt('train.y.dat')\n",
    "X_movies_test = csc_matrix(mmread('test.x.mm'))\n",
    "y_movies_test = np.loadtxt('test.y.dat')"
   ]
  },
  {
   "cell_type": "code",
   "execution_count": null,
   "metadata": {
    "collapsed": true
   },
   "outputs": [],
   "source": [
    "import sklearn.linear_model as lm\n",
    "model = lm.LinearRegression(fit_intercept = False)\n",
    "model.fit(X_movies, y_movies)\n",
    "print(\"Usando regresión lineal ordinaria, sin preprocesamiento, R^2 es: \", model.score(X_movies_test, y_movies_test))"
   ]
  },
  {
   "cell_type": "markdown",
   "metadata": {},
   "source": [
    "Centering sparse data would destroy the sparseness structure in the data, and thus rarely is a sensible thing to do. However, it can make sense to scale sparse inputs, especially if features are on different scales.\n",
    "\n",
    "MaxAbsScaler and maxabs_scale were specifically designed for scaling sparse data, and are the recommended way to go about this. However, scale and StandardScaler can accept scipy.sparse matrices as input, as long as with_mean=False is explicitly passed to the constructor. Otherwise a ValueError will be raised as silently centering would break the sparsity and would often crash the execution by allocating excessive amounts of memory unintentionally. RobustScaler cannot be fitted to sparse inputs, but you can use the transform method on sparse inputs.\n",
    "\n",
    "Note that the scalers accept both Compressed Sparse Rows and Compressed Sparse Columns format (see scipy.sparse.csr_matrix and scipy.sparse.csc_matrix). Any other sparse input will be converted to the Compressed Sparse Rows representation. To avoid unnecessary memory copies, it is recommended to choose the CSR or CSC representation upstream.\n",
    "\n",
    "Finally, if the centered data is expected to be small enough, explicitly converting the input to an array using the toarray method of sparse matrices is another option."
   ]
  },
  {
   "cell_type": "code",
   "execution_count": 169,
   "metadata": {
    "collapsed": false
   },
   "outputs": [
    {
     "ename": "NameError",
     "evalue": "name 'X_movies' is not defined",
     "output_type": "error",
     "traceback": [
      "\u001b[0;31m---------------------------------------------------------------------------\u001b[0m",
      "\u001b[0;31mNameError\u001b[0m                                 Traceback (most recent call last)",
      "\u001b[0;32m<ipython-input-169-19477938bc7e>\u001b[0m in \u001b[0;36m<module>\u001b[0;34m()\u001b[0m\n\u001b[1;32m      1\u001b[0m \u001b[0;31m#Estandarizacion del dataset\u001b[0m\u001b[0;34m\u001b[0m\u001b[0;34m\u001b[0m\u001b[0m\n\u001b[1;32m      2\u001b[0m \u001b[0;32mfrom\u001b[0m \u001b[0msklearn\u001b[0m\u001b[0;34m.\u001b[0m\u001b[0mpreprocessing\u001b[0m \u001b[0;32mimport\u001b[0m \u001b[0mMaxAbsScaler\u001b[0m\u001b[0;34m\u001b[0m\u001b[0m\n\u001b[0;32m----> 3\u001b[0;31m \u001b[0mscaler_movies\u001b[0m \u001b[0;34m=\u001b[0m \u001b[0mMaxAbsScaler\u001b[0m\u001b[0;34m(\u001b[0m\u001b[0;34m)\u001b[0m\u001b[0;34m.\u001b[0m\u001b[0mfit\u001b[0m\u001b[0;34m(\u001b[0m\u001b[0mX_movies\u001b[0m\u001b[0;34m)\u001b[0m \u001b[0;31m# Para matriz sparse\u001b[0m\u001b[0;34m\u001b[0m\u001b[0m\n\u001b[0m\u001b[1;32m      4\u001b[0m \u001b[0;31m#X_scaled_movies_train = pd.DataFrame(scaler_movies.transform(X_movies), columns=X_movies.columns)\u001b[0m\u001b[0;34m\u001b[0m\u001b[0;34m\u001b[0m\u001b[0m\n\u001b[1;32m      5\u001b[0m \u001b[0mX_scaled_movies_train\u001b[0m \u001b[0;34m=\u001b[0m \u001b[0mscaler_movies\u001b[0m\u001b[0;34m.\u001b[0m\u001b[0mtransform\u001b[0m\u001b[0;34m(\u001b[0m\u001b[0mX_movies\u001b[0m\u001b[0;34m)\u001b[0m\u001b[0;34m\u001b[0m\u001b[0m\n",
      "\u001b[0;31mNameError\u001b[0m: name 'X_movies' is not defined"
     ]
    }
   ],
   "source": [
    "#Estandarizacion del dataset\n",
    "from sklearn.preprocessing import MaxAbsScaler\n",
    "scaler_movies = MaxAbsScaler().fit(X_movies) # Para matriz sparse\n",
    "#X_scaled_movies_train = pd.DataFrame(scaler_movies.transform(X_movies), columns=X_movies.columns)\n",
    "X_scaled_movies_train = scaler_movies.transform(X_movies)\n",
    "\n",
    "# Se ingresa columna de unos, que son los pesos o coeficientes del primer parametro (el intercepto, beta_0)\n",
    "#X_scaled_movies_train.insert(X_scaled_movies_train.shape[1], 'intercept', np.ones(X_scaled_movies_train.shape[0]))\n",
    "from scipy.sparse import hstack\n",
    "matriz_de_unos = csc_matrix(np.ones(X_scaled_movies_train.shape[0])[:, None])\n",
    "print(matriz_de_unos.shape)\n",
    "print(X_scaled_movies_train.shape)\n",
    "X_scaled_movies_train = hstack((X_scaled_movies_train, matriz_de_unos))\n",
    "print(X_scaled_movies_train.shape)\n",
    "\n",
    "#df_scaled_train.info()\n",
    "#X_scaled_movies_train.describe()\n",
    "\n",
    "\n",
    "model_movies = lm.LinearRegression(fit_intercept = False)\n",
    "model_movies.fit(X_scaled_movies_train, y_movies)\n",
    "\n",
    "\n",
    "scaler_movies_test = MaxAbsScaler().fit(X_movies_test) # Para matriz sparse\n",
    "X_scaled_movies_test = scaler_movies_test.transform(X_movies_test)\n",
    "matriz_de_unos = csc_matrix(np.ones(X_scaled_movies_test.shape[0])[:, None])\n",
    "X_scaled_movies_test = hstack((X_scaled_movies_test, matriz_de_unos))\n",
    "print(model.score(X_scaled_movies_test, y_movies_test))"
   ]
  },
  {
   "cell_type": "code",
   "execution_count": 170,
   "metadata": {
    "collapsed": false
   },
   "outputs": [
    {
     "ename": "NameError",
     "evalue": "name 'model_movies' is not defined",
     "output_type": "error",
     "traceback": [
      "\u001b[0;31m---------------------------------------------------------------------------\u001b[0m",
      "\u001b[0;31mNameError\u001b[0m                                 Traceback (most recent call last)",
      "\u001b[0;32m<ipython-input-170-4578c5b7d612>\u001b[0m in \u001b[0;36m<module>\u001b[0;34m()\u001b[0m\n\u001b[1;32m      1\u001b[0m \u001b[0;32mfrom\u001b[0m \u001b[0msklearn\u001b[0m\u001b[0;34m.\u001b[0m\u001b[0mfeature_selection\u001b[0m \u001b[0;32mimport\u001b[0m \u001b[0mRFE\u001b[0m\u001b[0;34m\u001b[0m\u001b[0m\n\u001b[1;32m      2\u001b[0m \u001b[0;32mfrom\u001b[0m \u001b[0msklearn\u001b[0m\u001b[0;34m.\u001b[0m\u001b[0mfeature_selection\u001b[0m \u001b[0;32mimport\u001b[0m \u001b[0mSelectFromModel\u001b[0m\u001b[0;34m\u001b[0m\u001b[0m\n\u001b[0;32m----> 3\u001b[0;31m \u001b[0mselector\u001b[0m \u001b[0;34m=\u001b[0m \u001b[0mSelectFromModel\u001b[0m\u001b[0;34m(\u001b[0m\u001b[0mmodel_movies\u001b[0m\u001b[0;34m,\u001b[0m \u001b[0mthreshold\u001b[0m\u001b[0;34m=\u001b[0m\u001b[0;36m3.0\u001b[0m\u001b[0;34m)\u001b[0m\u001b[0;34m\u001b[0m\u001b[0m\n\u001b[0m\u001b[1;32m      4\u001b[0m \u001b[0mselector\u001b[0m\u001b[0;34m.\u001b[0m\u001b[0mfit\u001b[0m\u001b[0;34m(\u001b[0m\u001b[0mX_scaled_movies_train\u001b[0m\u001b[0;34m,\u001b[0m \u001b[0my_movies\u001b[0m\u001b[0;34m)\u001b[0m\u001b[0;34m\u001b[0m\u001b[0m\n",
      "\u001b[0;31mNameError\u001b[0m: name 'model_movies' is not defined"
     ]
    }
   ],
   "source": [
    "from sklearn.feature_selection import RFE\n",
    "from sklearn.feature_selection import SelectFromModel\n",
    "selector = SelectFromModel(model_movies, threshold=3.0)\n",
    "selector.fit(X_scaled_movies_train, y_movies)"
   ]
  },
  {
   "cell_type": "code",
   "execution_count": 171,
   "metadata": {
    "collapsed": false
   },
   "outputs": [
    {
     "ename": "NameError",
     "evalue": "name 'selector' is not defined",
     "output_type": "error",
     "traceback": [
      "\u001b[0;31m---------------------------------------------------------------------------\u001b[0m",
      "\u001b[0;31mNameError\u001b[0m                                 Traceback (most recent call last)",
      "\u001b[0;32m<ipython-input-171-ede0405825c8>\u001b[0m in \u001b[0;36m<module>\u001b[0;34m()\u001b[0m\n\u001b[0;32m----> 1\u001b[0;31m \u001b[0mselector\u001b[0m\u001b[0;34m.\u001b[0m\u001b[0msupport_\u001b[0m\u001b[0;34m\u001b[0m\u001b[0m\n\u001b[0m",
      "\u001b[0;31mNameError\u001b[0m: name 'selector' is not defined"
     ]
    }
   ],
   "source": [
    "selector.support_"
   ]
  },
  {
   "cell_type": "code",
   "execution_count": null,
   "metadata": {
    "collapsed": true
   },
   "outputs": [],
   "source": [
    "n_features = selector.transform(X_scaled_movies_train)"
   ]
  },
  {
   "cell_type": "code",
   "execution_count": null,
   "metadata": {
    "collapsed": true
   },
   "outputs": [],
   "source": [
    "n_features"
   ]
  },
  {
   "cell_type": "code",
   "execution_count": null,
   "metadata": {
    "collapsed": true
   },
   "outputs": [],
   "source": [
    "model_movies = lm.LinearRegression(fit_intercept = False)\n",
    "model_movies.fit(X_scaled_movies_train, y_movies)\n",
    "\n",
    "\n",
    "scaler_movies_test = MaxAbsScaler().fit(X_movies_test) # Para matriz sparse\n",
    "X_scaled_movies_test = scaler_movies_test.transform(X_movies_test)\n",
    "matriz_de_unos = csc_matrix(np.ones(X_scaled_movies_test.shape[0])[:, None])\n",
    "X_scaled_movies_test = hstack((X_scaled_movies_test, matriz_de_unos))\n",
    "print(model.score(X_scaled_movies_test, y_movies_test))"
   ]
  }
 ],
 "metadata": {
  "kernelspec": {
   "display_name": "Python 3",
   "language": "python",
   "name": "python3"
  },
  "language_info": {
   "codemirror_mode": {
    "name": "ipython",
    "version": 3
   },
   "file_extension": ".py",
   "mimetype": "text/x-python",
   "name": "python",
   "nbconvert_exporter": "python",
   "pygments_lexer": "ipython3",
   "version": "3.6.0"
  }
 },
 "nbformat": 4,
 "nbformat_minor": 2
}
