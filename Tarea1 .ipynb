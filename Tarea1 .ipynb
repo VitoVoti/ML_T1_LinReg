{
 "cells": [
  {
   "cell_type": "code",
   "execution_count": 1,
   "metadata": {
    "collapsed": true
   },
   "outputs": [],
   "source": [
    "import pandas as pd\n",
    "import numpy as np\n",
    "import sklearn.linear_model as lm\n",
    "import matplotlib.pyplot as plt\n",
    "\n",
    "%matplotlib inline"
   ]
  },
  {
   "cell_type": "markdown",
   "metadata": {},
   "source": [
    "# 1 Regresión Lineal Ordinaria (LSS)"
   ]
  },
  {
   "cell_type": "markdown",
   "metadata": {},
   "source": [
    "Se comenzará el informe con la contrucción de un modelo para precedir el precio de una casa. Como datos de entrada se usará un *dataset* con las ventas en el condado de King County, EEUU entre Mayo de 2014 y Mayo de 2015. Para esto, se utilizará una regresión lineal ordinaria basada en LSS (Linear Least Squares)\n",
    "\n",
    "## a) Ingreso de los datos\n",
    "\n",
    "Los datos fueron obtenidos de Kaggle, y se encuentran en un archivo CSV. Las características o *features* id (número identificador), date (fecha) y zipcode (código postal) serán descartadas ya que de ante mano podemos suponer que no tienen relación con el precio de la casa."
   ]
  },
  {
   "cell_type": "code",
   "execution_count": 2,
   "metadata": {
    "collapsed": true
   },
   "outputs": [],
   "source": [
    "df = pd.read_csv(\"kc_house_data.csv\", sep = \",\", header = 0)\n",
    "df = df.drop(['id','date','zipcode'], axis=1)"
   ]
  },
  {
   "cell_type": "markdown",
   "metadata": {},
   "source": [
    "## b) Análisis Descriptivo de los Datos\n",
    "\n",
    "Primero es útil revisar el tamaño del dataset, junto con todo el resto de las características."
   ]
  },
  {
   "cell_type": "code",
   "execution_count": 3,
   "metadata": {
    "collapsed": false
   },
   "outputs": [
    {
     "data": {
      "text/plain": [
       "(21613, 18)"
      ]
     },
     "execution_count": 3,
     "metadata": {},
     "output_type": "execute_result"
    }
   ],
   "source": [
    "df.shape"
   ]
  },
  {
   "cell_type": "code",
   "execution_count": 4,
   "metadata": {
    "collapsed": false
   },
   "outputs": [
    {
     "name": "stdout",
     "output_type": "stream",
     "text": [
      "<class 'pandas.core.frame.DataFrame'>\n",
      "RangeIndex: 21613 entries, 0 to 21612\n",
      "Data columns (total 18 columns):\n",
      "price            21613 non-null float64\n",
      "bedrooms         21613 non-null int64\n",
      "bathrooms        21613 non-null float64\n",
      "sqft_living      21613 non-null int64\n",
      "sqft_lot         21613 non-null int64\n",
      "floors           21613 non-null float64\n",
      "waterfront       21613 non-null int64\n",
      "view             21613 non-null int64\n",
      "condition        21613 non-null int64\n",
      "grade            21613 non-null int64\n",
      "sqft_above       21613 non-null int64\n",
      "sqft_basement    21613 non-null int64\n",
      "yr_built         21613 non-null int64\n",
      "yr_renovated     21613 non-null int64\n",
      "lat              21613 non-null float64\n",
      "long             21613 non-null float64\n",
      "sqft_living15    21613 non-null int64\n",
      "sqft_lot15       21613 non-null int64\n",
      "dtypes: float64(5), int64(13)\n",
      "memory usage: 3.0 MB\n"
     ]
    }
   ],
   "source": [
    "df.info()"
   ]
  },
  {
   "cell_type": "code",
   "execution_count": 7,
   "metadata": {
    "collapsed": false
   },
   "outputs": [
    {
     "data": {
      "text/html": [
       "<div>\n",
       "<style>\n",
       "    .dataframe thead tr:only-child th {\n",
       "        text-align: right;\n",
       "    }\n",
       "\n",
       "    .dataframe thead th {\n",
       "        text-align: left;\n",
       "    }\n",
       "\n",
       "    .dataframe tbody tr th {\n",
       "        vertical-align: top;\n",
       "    }\n",
       "</style>\n",
       "<table border=\"1\" class=\"dataframe\">\n",
       "  <thead>\n",
       "    <tr style=\"text-align: right;\">\n",
       "      <th></th>\n",
       "      <th>price</th>\n",
       "      <th>bedrooms</th>\n",
       "      <th>bathrooms</th>\n",
       "      <th>sqft_living</th>\n",
       "      <th>sqft_lot</th>\n",
       "      <th>floors</th>\n",
       "      <th>waterfront</th>\n",
       "      <th>view</th>\n",
       "      <th>condition</th>\n",
       "      <th>grade</th>\n",
       "      <th>sqft_above</th>\n",
       "      <th>sqft_basement</th>\n",
       "      <th>yr_built</th>\n",
       "      <th>yr_renovated</th>\n",
       "      <th>lat</th>\n",
       "      <th>long</th>\n",
       "      <th>sqft_living15</th>\n",
       "      <th>sqft_lot15</th>\n",
       "    </tr>\n",
       "  </thead>\n",
       "  <tbody>\n",
       "    <tr>\n",
       "      <th>price</th>\n",
       "      <td>1.000000</td>\n",
       "      <td>0.308350</td>\n",
       "      <td>0.525138</td>\n",
       "      <td>0.702035</td>\n",
       "      <td>0.089661</td>\n",
       "      <td>0.256794</td>\n",
       "      <td>0.266369</td>\n",
       "      <td>0.397293</td>\n",
       "      <td>0.036362</td>\n",
       "      <td>0.667434</td>\n",
       "      <td>0.605567</td>\n",
       "      <td>0.323816</td>\n",
       "      <td>0.054012</td>\n",
       "      <td>0.126434</td>\n",
       "      <td>0.307003</td>\n",
       "      <td>0.021626</td>\n",
       "      <td>0.585379</td>\n",
       "      <td>0.082447</td>\n",
       "    </tr>\n",
       "    <tr>\n",
       "      <th>bedrooms</th>\n",
       "      <td>0.308350</td>\n",
       "      <td>1.000000</td>\n",
       "      <td>0.515884</td>\n",
       "      <td>0.576671</td>\n",
       "      <td>0.031703</td>\n",
       "      <td>0.175429</td>\n",
       "      <td>-0.006582</td>\n",
       "      <td>0.079532</td>\n",
       "      <td>0.028472</td>\n",
       "      <td>0.356967</td>\n",
       "      <td>0.477600</td>\n",
       "      <td>0.303093</td>\n",
       "      <td>0.154178</td>\n",
       "      <td>0.018841</td>\n",
       "      <td>-0.008931</td>\n",
       "      <td>0.129473</td>\n",
       "      <td>0.391638</td>\n",
       "      <td>0.029244</td>\n",
       "    </tr>\n",
       "    <tr>\n",
       "      <th>bathrooms</th>\n",
       "      <td>0.525138</td>\n",
       "      <td>0.515884</td>\n",
       "      <td>1.000000</td>\n",
       "      <td>0.754665</td>\n",
       "      <td>0.087740</td>\n",
       "      <td>0.500653</td>\n",
       "      <td>0.063744</td>\n",
       "      <td>0.187737</td>\n",
       "      <td>-0.124982</td>\n",
       "      <td>0.664983</td>\n",
       "      <td>0.685342</td>\n",
       "      <td>0.283770</td>\n",
       "      <td>0.506019</td>\n",
       "      <td>0.050739</td>\n",
       "      <td>0.024573</td>\n",
       "      <td>0.223042</td>\n",
       "      <td>0.568634</td>\n",
       "      <td>0.087175</td>\n",
       "    </tr>\n",
       "    <tr>\n",
       "      <th>sqft_living</th>\n",
       "      <td>0.702035</td>\n",
       "      <td>0.576671</td>\n",
       "      <td>0.754665</td>\n",
       "      <td>1.000000</td>\n",
       "      <td>0.172826</td>\n",
       "      <td>0.353949</td>\n",
       "      <td>0.103818</td>\n",
       "      <td>0.284611</td>\n",
       "      <td>-0.058753</td>\n",
       "      <td>0.762704</td>\n",
       "      <td>0.876597</td>\n",
       "      <td>0.435043</td>\n",
       "      <td>0.318049</td>\n",
       "      <td>0.055363</td>\n",
       "      <td>0.052529</td>\n",
       "      <td>0.240223</td>\n",
       "      <td>0.756420</td>\n",
       "      <td>0.183286</td>\n",
       "    </tr>\n",
       "    <tr>\n",
       "      <th>sqft_lot</th>\n",
       "      <td>0.089661</td>\n",
       "      <td>0.031703</td>\n",
       "      <td>0.087740</td>\n",
       "      <td>0.172826</td>\n",
       "      <td>1.000000</td>\n",
       "      <td>-0.005201</td>\n",
       "      <td>0.021604</td>\n",
       "      <td>0.074710</td>\n",
       "      <td>-0.008958</td>\n",
       "      <td>0.113621</td>\n",
       "      <td>0.183512</td>\n",
       "      <td>0.015286</td>\n",
       "      <td>0.053080</td>\n",
       "      <td>0.007644</td>\n",
       "      <td>-0.085683</td>\n",
       "      <td>0.229521</td>\n",
       "      <td>0.144608</td>\n",
       "      <td>0.718557</td>\n",
       "    </tr>\n",
       "    <tr>\n",
       "      <th>floors</th>\n",
       "      <td>0.256794</td>\n",
       "      <td>0.175429</td>\n",
       "      <td>0.500653</td>\n",
       "      <td>0.353949</td>\n",
       "      <td>-0.005201</td>\n",
       "      <td>1.000000</td>\n",
       "      <td>0.023698</td>\n",
       "      <td>0.029444</td>\n",
       "      <td>-0.263768</td>\n",
       "      <td>0.458183</td>\n",
       "      <td>0.523885</td>\n",
       "      <td>-0.245705</td>\n",
       "      <td>0.489319</td>\n",
       "      <td>0.006338</td>\n",
       "      <td>0.049614</td>\n",
       "      <td>0.125419</td>\n",
       "      <td>0.279885</td>\n",
       "      <td>-0.011269</td>\n",
       "    </tr>\n",
       "    <tr>\n",
       "      <th>waterfront</th>\n",
       "      <td>0.266369</td>\n",
       "      <td>-0.006582</td>\n",
       "      <td>0.063744</td>\n",
       "      <td>0.103818</td>\n",
       "      <td>0.021604</td>\n",
       "      <td>0.023698</td>\n",
       "      <td>1.000000</td>\n",
       "      <td>0.401857</td>\n",
       "      <td>0.016653</td>\n",
       "      <td>0.082775</td>\n",
       "      <td>0.072075</td>\n",
       "      <td>0.080588</td>\n",
       "      <td>-0.026161</td>\n",
       "      <td>0.092885</td>\n",
       "      <td>-0.014274</td>\n",
       "      <td>-0.041910</td>\n",
       "      <td>0.086463</td>\n",
       "      <td>0.030703</td>\n",
       "    </tr>\n",
       "    <tr>\n",
       "      <th>view</th>\n",
       "      <td>0.397293</td>\n",
       "      <td>0.079532</td>\n",
       "      <td>0.187737</td>\n",
       "      <td>0.284611</td>\n",
       "      <td>0.074710</td>\n",
       "      <td>0.029444</td>\n",
       "      <td>0.401857</td>\n",
       "      <td>1.000000</td>\n",
       "      <td>0.045990</td>\n",
       "      <td>0.251321</td>\n",
       "      <td>0.167649</td>\n",
       "      <td>0.276947</td>\n",
       "      <td>-0.053440</td>\n",
       "      <td>0.103917</td>\n",
       "      <td>0.006157</td>\n",
       "      <td>-0.078400</td>\n",
       "      <td>0.280439</td>\n",
       "      <td>0.072575</td>\n",
       "    </tr>\n",
       "    <tr>\n",
       "      <th>condition</th>\n",
       "      <td>0.036362</td>\n",
       "      <td>0.028472</td>\n",
       "      <td>-0.124982</td>\n",
       "      <td>-0.058753</td>\n",
       "      <td>-0.008958</td>\n",
       "      <td>-0.263768</td>\n",
       "      <td>0.016653</td>\n",
       "      <td>0.045990</td>\n",
       "      <td>1.000000</td>\n",
       "      <td>-0.144674</td>\n",
       "      <td>-0.158214</td>\n",
       "      <td>0.174105</td>\n",
       "      <td>-0.361417</td>\n",
       "      <td>-0.060618</td>\n",
       "      <td>-0.014941</td>\n",
       "      <td>-0.106500</td>\n",
       "      <td>-0.092824</td>\n",
       "      <td>-0.003406</td>\n",
       "    </tr>\n",
       "    <tr>\n",
       "      <th>grade</th>\n",
       "      <td>0.667434</td>\n",
       "      <td>0.356967</td>\n",
       "      <td>0.664983</td>\n",
       "      <td>0.762704</td>\n",
       "      <td>0.113621</td>\n",
       "      <td>0.458183</td>\n",
       "      <td>0.082775</td>\n",
       "      <td>0.251321</td>\n",
       "      <td>-0.144674</td>\n",
       "      <td>1.000000</td>\n",
       "      <td>0.755923</td>\n",
       "      <td>0.168392</td>\n",
       "      <td>0.446963</td>\n",
       "      <td>0.014414</td>\n",
       "      <td>0.114084</td>\n",
       "      <td>0.198372</td>\n",
       "      <td>0.713202</td>\n",
       "      <td>0.119248</td>\n",
       "    </tr>\n",
       "    <tr>\n",
       "      <th>sqft_above</th>\n",
       "      <td>0.605567</td>\n",
       "      <td>0.477600</td>\n",
       "      <td>0.685342</td>\n",
       "      <td>0.876597</td>\n",
       "      <td>0.183512</td>\n",
       "      <td>0.523885</td>\n",
       "      <td>0.072075</td>\n",
       "      <td>0.167649</td>\n",
       "      <td>-0.158214</td>\n",
       "      <td>0.755923</td>\n",
       "      <td>1.000000</td>\n",
       "      <td>-0.051943</td>\n",
       "      <td>0.423898</td>\n",
       "      <td>0.023285</td>\n",
       "      <td>-0.000816</td>\n",
       "      <td>0.343803</td>\n",
       "      <td>0.731870</td>\n",
       "      <td>0.194050</td>\n",
       "    </tr>\n",
       "    <tr>\n",
       "      <th>sqft_basement</th>\n",
       "      <td>0.323816</td>\n",
       "      <td>0.303093</td>\n",
       "      <td>0.283770</td>\n",
       "      <td>0.435043</td>\n",
       "      <td>0.015286</td>\n",
       "      <td>-0.245705</td>\n",
       "      <td>0.080588</td>\n",
       "      <td>0.276947</td>\n",
       "      <td>0.174105</td>\n",
       "      <td>0.168392</td>\n",
       "      <td>-0.051943</td>\n",
       "      <td>1.000000</td>\n",
       "      <td>-0.133124</td>\n",
       "      <td>0.071323</td>\n",
       "      <td>0.110538</td>\n",
       "      <td>-0.144765</td>\n",
       "      <td>0.200355</td>\n",
       "      <td>0.017276</td>\n",
       "    </tr>\n",
       "    <tr>\n",
       "      <th>yr_built</th>\n",
       "      <td>0.054012</td>\n",
       "      <td>0.154178</td>\n",
       "      <td>0.506019</td>\n",
       "      <td>0.318049</td>\n",
       "      <td>0.053080</td>\n",
       "      <td>0.489319</td>\n",
       "      <td>-0.026161</td>\n",
       "      <td>-0.053440</td>\n",
       "      <td>-0.361417</td>\n",
       "      <td>0.446963</td>\n",
       "      <td>0.423898</td>\n",
       "      <td>-0.133124</td>\n",
       "      <td>1.000000</td>\n",
       "      <td>-0.224874</td>\n",
       "      <td>-0.148122</td>\n",
       "      <td>0.409356</td>\n",
       "      <td>0.326229</td>\n",
       "      <td>0.070958</td>\n",
       "    </tr>\n",
       "    <tr>\n",
       "      <th>yr_renovated</th>\n",
       "      <td>0.126434</td>\n",
       "      <td>0.018841</td>\n",
       "      <td>0.050739</td>\n",
       "      <td>0.055363</td>\n",
       "      <td>0.007644</td>\n",
       "      <td>0.006338</td>\n",
       "      <td>0.092885</td>\n",
       "      <td>0.103917</td>\n",
       "      <td>-0.060618</td>\n",
       "      <td>0.014414</td>\n",
       "      <td>0.023285</td>\n",
       "      <td>0.071323</td>\n",
       "      <td>-0.224874</td>\n",
       "      <td>1.000000</td>\n",
       "      <td>0.029398</td>\n",
       "      <td>-0.068372</td>\n",
       "      <td>-0.002673</td>\n",
       "      <td>0.007854</td>\n",
       "    </tr>\n",
       "    <tr>\n",
       "      <th>lat</th>\n",
       "      <td>0.307003</td>\n",
       "      <td>-0.008931</td>\n",
       "      <td>0.024573</td>\n",
       "      <td>0.052529</td>\n",
       "      <td>-0.085683</td>\n",
       "      <td>0.049614</td>\n",
       "      <td>-0.014274</td>\n",
       "      <td>0.006157</td>\n",
       "      <td>-0.014941</td>\n",
       "      <td>0.114084</td>\n",
       "      <td>-0.000816</td>\n",
       "      <td>0.110538</td>\n",
       "      <td>-0.148122</td>\n",
       "      <td>0.029398</td>\n",
       "      <td>1.000000</td>\n",
       "      <td>-0.135512</td>\n",
       "      <td>0.048858</td>\n",
       "      <td>-0.086419</td>\n",
       "    </tr>\n",
       "    <tr>\n",
       "      <th>long</th>\n",
       "      <td>0.021626</td>\n",
       "      <td>0.129473</td>\n",
       "      <td>0.223042</td>\n",
       "      <td>0.240223</td>\n",
       "      <td>0.229521</td>\n",
       "      <td>0.125419</td>\n",
       "      <td>-0.041910</td>\n",
       "      <td>-0.078400</td>\n",
       "      <td>-0.106500</td>\n",
       "      <td>0.198372</td>\n",
       "      <td>0.343803</td>\n",
       "      <td>-0.144765</td>\n",
       "      <td>0.409356</td>\n",
       "      <td>-0.068372</td>\n",
       "      <td>-0.135512</td>\n",
       "      <td>1.000000</td>\n",
       "      <td>0.334605</td>\n",
       "      <td>0.254451</td>\n",
       "    </tr>\n",
       "    <tr>\n",
       "      <th>sqft_living15</th>\n",
       "      <td>0.585379</td>\n",
       "      <td>0.391638</td>\n",
       "      <td>0.568634</td>\n",
       "      <td>0.756420</td>\n",
       "      <td>0.144608</td>\n",
       "      <td>0.279885</td>\n",
       "      <td>0.086463</td>\n",
       "      <td>0.280439</td>\n",
       "      <td>-0.092824</td>\n",
       "      <td>0.713202</td>\n",
       "      <td>0.731870</td>\n",
       "      <td>0.200355</td>\n",
       "      <td>0.326229</td>\n",
       "      <td>-0.002673</td>\n",
       "      <td>0.048858</td>\n",
       "      <td>0.334605</td>\n",
       "      <td>1.000000</td>\n",
       "      <td>0.183192</td>\n",
       "    </tr>\n",
       "    <tr>\n",
       "      <th>sqft_lot15</th>\n",
       "      <td>0.082447</td>\n",
       "      <td>0.029244</td>\n",
       "      <td>0.087175</td>\n",
       "      <td>0.183286</td>\n",
       "      <td>0.718557</td>\n",
       "      <td>-0.011269</td>\n",
       "      <td>0.030703</td>\n",
       "      <td>0.072575</td>\n",
       "      <td>-0.003406</td>\n",
       "      <td>0.119248</td>\n",
       "      <td>0.194050</td>\n",
       "      <td>0.017276</td>\n",
       "      <td>0.070958</td>\n",
       "      <td>0.007854</td>\n",
       "      <td>-0.086419</td>\n",
       "      <td>0.254451</td>\n",
       "      <td>0.183192</td>\n",
       "      <td>1.000000</td>\n",
       "    </tr>\n",
       "  </tbody>\n",
       "</table>\n",
       "</div>"
      ],
      "text/plain": [
       "                  price  bedrooms  bathrooms  sqft_living  sqft_lot    floors  \\\n",
       "price          1.000000  0.308350   0.525138     0.702035  0.089661  0.256794   \n",
       "bedrooms       0.308350  1.000000   0.515884     0.576671  0.031703  0.175429   \n",
       "bathrooms      0.525138  0.515884   1.000000     0.754665  0.087740  0.500653   \n",
       "sqft_living    0.702035  0.576671   0.754665     1.000000  0.172826  0.353949   \n",
       "sqft_lot       0.089661  0.031703   0.087740     0.172826  1.000000 -0.005201   \n",
       "floors         0.256794  0.175429   0.500653     0.353949 -0.005201  1.000000   \n",
       "waterfront     0.266369 -0.006582   0.063744     0.103818  0.021604  0.023698   \n",
       "view           0.397293  0.079532   0.187737     0.284611  0.074710  0.029444   \n",
       "condition      0.036362  0.028472  -0.124982    -0.058753 -0.008958 -0.263768   \n",
       "grade          0.667434  0.356967   0.664983     0.762704  0.113621  0.458183   \n",
       "sqft_above     0.605567  0.477600   0.685342     0.876597  0.183512  0.523885   \n",
       "sqft_basement  0.323816  0.303093   0.283770     0.435043  0.015286 -0.245705   \n",
       "yr_built       0.054012  0.154178   0.506019     0.318049  0.053080  0.489319   \n",
       "yr_renovated   0.126434  0.018841   0.050739     0.055363  0.007644  0.006338   \n",
       "lat            0.307003 -0.008931   0.024573     0.052529 -0.085683  0.049614   \n",
       "long           0.021626  0.129473   0.223042     0.240223  0.229521  0.125419   \n",
       "sqft_living15  0.585379  0.391638   0.568634     0.756420  0.144608  0.279885   \n",
       "sqft_lot15     0.082447  0.029244   0.087175     0.183286  0.718557 -0.011269   \n",
       "\n",
       "               waterfront      view  condition     grade  sqft_above  \\\n",
       "price            0.266369  0.397293   0.036362  0.667434    0.605567   \n",
       "bedrooms        -0.006582  0.079532   0.028472  0.356967    0.477600   \n",
       "bathrooms        0.063744  0.187737  -0.124982  0.664983    0.685342   \n",
       "sqft_living      0.103818  0.284611  -0.058753  0.762704    0.876597   \n",
       "sqft_lot         0.021604  0.074710  -0.008958  0.113621    0.183512   \n",
       "floors           0.023698  0.029444  -0.263768  0.458183    0.523885   \n",
       "waterfront       1.000000  0.401857   0.016653  0.082775    0.072075   \n",
       "view             0.401857  1.000000   0.045990  0.251321    0.167649   \n",
       "condition        0.016653  0.045990   1.000000 -0.144674   -0.158214   \n",
       "grade            0.082775  0.251321  -0.144674  1.000000    0.755923   \n",
       "sqft_above       0.072075  0.167649  -0.158214  0.755923    1.000000   \n",
       "sqft_basement    0.080588  0.276947   0.174105  0.168392   -0.051943   \n",
       "yr_built        -0.026161 -0.053440  -0.361417  0.446963    0.423898   \n",
       "yr_renovated     0.092885  0.103917  -0.060618  0.014414    0.023285   \n",
       "lat             -0.014274  0.006157  -0.014941  0.114084   -0.000816   \n",
       "long            -0.041910 -0.078400  -0.106500  0.198372    0.343803   \n",
       "sqft_living15    0.086463  0.280439  -0.092824  0.713202    0.731870   \n",
       "sqft_lot15       0.030703  0.072575  -0.003406  0.119248    0.194050   \n",
       "\n",
       "               sqft_basement  yr_built  yr_renovated       lat      long  \\\n",
       "price               0.323816  0.054012      0.126434  0.307003  0.021626   \n",
       "bedrooms            0.303093  0.154178      0.018841 -0.008931  0.129473   \n",
       "bathrooms           0.283770  0.506019      0.050739  0.024573  0.223042   \n",
       "sqft_living         0.435043  0.318049      0.055363  0.052529  0.240223   \n",
       "sqft_lot            0.015286  0.053080      0.007644 -0.085683  0.229521   \n",
       "floors             -0.245705  0.489319      0.006338  0.049614  0.125419   \n",
       "waterfront          0.080588 -0.026161      0.092885 -0.014274 -0.041910   \n",
       "view                0.276947 -0.053440      0.103917  0.006157 -0.078400   \n",
       "condition           0.174105 -0.361417     -0.060618 -0.014941 -0.106500   \n",
       "grade               0.168392  0.446963      0.014414  0.114084  0.198372   \n",
       "sqft_above         -0.051943  0.423898      0.023285 -0.000816  0.343803   \n",
       "sqft_basement       1.000000 -0.133124      0.071323  0.110538 -0.144765   \n",
       "yr_built           -0.133124  1.000000     -0.224874 -0.148122  0.409356   \n",
       "yr_renovated        0.071323 -0.224874      1.000000  0.029398 -0.068372   \n",
       "lat                 0.110538 -0.148122      0.029398  1.000000 -0.135512   \n",
       "long               -0.144765  0.409356     -0.068372 -0.135512  1.000000   \n",
       "sqft_living15       0.200355  0.326229     -0.002673  0.048858  0.334605   \n",
       "sqft_lot15          0.017276  0.070958      0.007854 -0.086419  0.254451   \n",
       "\n",
       "               sqft_living15  sqft_lot15  \n",
       "price               0.585379    0.082447  \n",
       "bedrooms            0.391638    0.029244  \n",
       "bathrooms           0.568634    0.087175  \n",
       "sqft_living         0.756420    0.183286  \n",
       "sqft_lot            0.144608    0.718557  \n",
       "floors              0.279885   -0.011269  \n",
       "waterfront          0.086463    0.030703  \n",
       "view                0.280439    0.072575  \n",
       "condition          -0.092824   -0.003406  \n",
       "grade               0.713202    0.119248  \n",
       "sqft_above          0.731870    0.194050  \n",
       "sqft_basement       0.200355    0.017276  \n",
       "yr_built            0.326229    0.070958  \n",
       "yr_renovated       -0.002673    0.007854  \n",
       "lat                 0.048858   -0.086419  \n",
       "long                0.334605    0.254451  \n",
       "sqft_living15       1.000000    0.183192  \n",
       "sqft_lot15          0.183192    1.000000  "
      ]
     },
     "execution_count": 7,
     "metadata": {},
     "output_type": "execute_result"
    }
   ],
   "source": [
    "pd.DataFrame.corr(df)"
   ]
  },
  {
   "cell_type": "code",
   "execution_count": 39,
   "metadata": {
    "collapsed": false
   },
   "outputs": [
    {
     "data": {
      "text/html": [
       "<div>\n",
       "<style>\n",
       "    .dataframe thead tr:only-child th {\n",
       "        text-align: right;\n",
       "    }\n",
       "\n",
       "    .dataframe thead th {\n",
       "        text-align: left;\n",
       "    }\n",
       "\n",
       "    .dataframe tbody tr th {\n",
       "        vertical-align: top;\n",
       "    }\n",
       "</style>\n",
       "<table border=\"1\" class=\"dataframe\">\n",
       "  <thead>\n",
       "    <tr style=\"text-align: right;\">\n",
       "      <th></th>\n",
       "      <th>price</th>\n",
       "      <th>bedrooms</th>\n",
       "      <th>bathrooms</th>\n",
       "      <th>sqft_living</th>\n",
       "      <th>sqft_lot</th>\n",
       "      <th>floors</th>\n",
       "      <th>waterfront</th>\n",
       "      <th>view</th>\n",
       "      <th>condition</th>\n",
       "      <th>grade</th>\n",
       "      <th>sqft_above</th>\n",
       "      <th>sqft_basement</th>\n",
       "      <th>yr_built</th>\n",
       "      <th>yr_renovated</th>\n",
       "      <th>lat</th>\n",
       "      <th>long</th>\n",
       "      <th>sqft_living15</th>\n",
       "      <th>sqft_lot15</th>\n",
       "    </tr>\n",
       "  </thead>\n",
       "  <tbody>\n",
       "    <tr>\n",
       "      <th>count</th>\n",
       "      <td>2.161300e+04</td>\n",
       "      <td>21613.000000</td>\n",
       "      <td>21613.000000</td>\n",
       "      <td>21613.000000</td>\n",
       "      <td>2.161300e+04</td>\n",
       "      <td>21613.000000</td>\n",
       "      <td>21613.000000</td>\n",
       "      <td>21613.000000</td>\n",
       "      <td>21613.000000</td>\n",
       "      <td>21613.000000</td>\n",
       "      <td>21613.000000</td>\n",
       "      <td>21613.000000</td>\n",
       "      <td>21613.000000</td>\n",
       "      <td>21613.000000</td>\n",
       "      <td>21613.000000</td>\n",
       "      <td>21613.000000</td>\n",
       "      <td>21613.000000</td>\n",
       "      <td>21613.000000</td>\n",
       "    </tr>\n",
       "    <tr>\n",
       "      <th>mean</th>\n",
       "      <td>5.400881e+05</td>\n",
       "      <td>3.370842</td>\n",
       "      <td>2.114757</td>\n",
       "      <td>2079.899736</td>\n",
       "      <td>1.510697e+04</td>\n",
       "      <td>1.494309</td>\n",
       "      <td>0.007542</td>\n",
       "      <td>0.234303</td>\n",
       "      <td>3.409430</td>\n",
       "      <td>7.656873</td>\n",
       "      <td>1788.390691</td>\n",
       "      <td>291.509045</td>\n",
       "      <td>1971.005136</td>\n",
       "      <td>84.402258</td>\n",
       "      <td>47.560053</td>\n",
       "      <td>-122.213896</td>\n",
       "      <td>1986.552492</td>\n",
       "      <td>12768.455652</td>\n",
       "    </tr>\n",
       "    <tr>\n",
       "      <th>std</th>\n",
       "      <td>3.671272e+05</td>\n",
       "      <td>0.930062</td>\n",
       "      <td>0.770163</td>\n",
       "      <td>918.440897</td>\n",
       "      <td>4.142051e+04</td>\n",
       "      <td>0.539989</td>\n",
       "      <td>0.086517</td>\n",
       "      <td>0.766318</td>\n",
       "      <td>0.650743</td>\n",
       "      <td>1.175459</td>\n",
       "      <td>828.090978</td>\n",
       "      <td>442.575043</td>\n",
       "      <td>29.373411</td>\n",
       "      <td>401.679240</td>\n",
       "      <td>0.138564</td>\n",
       "      <td>0.140828</td>\n",
       "      <td>685.391304</td>\n",
       "      <td>27304.179631</td>\n",
       "    </tr>\n",
       "    <tr>\n",
       "      <th>min</th>\n",
       "      <td>7.500000e+04</td>\n",
       "      <td>0.000000</td>\n",
       "      <td>0.000000</td>\n",
       "      <td>290.000000</td>\n",
       "      <td>5.200000e+02</td>\n",
       "      <td>1.000000</td>\n",
       "      <td>0.000000</td>\n",
       "      <td>0.000000</td>\n",
       "      <td>1.000000</td>\n",
       "      <td>1.000000</td>\n",
       "      <td>290.000000</td>\n",
       "      <td>0.000000</td>\n",
       "      <td>1900.000000</td>\n",
       "      <td>0.000000</td>\n",
       "      <td>47.155900</td>\n",
       "      <td>-122.519000</td>\n",
       "      <td>399.000000</td>\n",
       "      <td>651.000000</td>\n",
       "    </tr>\n",
       "    <tr>\n",
       "      <th>25%</th>\n",
       "      <td>3.219500e+05</td>\n",
       "      <td>3.000000</td>\n",
       "      <td>1.750000</td>\n",
       "      <td>1427.000000</td>\n",
       "      <td>5.040000e+03</td>\n",
       "      <td>1.000000</td>\n",
       "      <td>0.000000</td>\n",
       "      <td>0.000000</td>\n",
       "      <td>3.000000</td>\n",
       "      <td>7.000000</td>\n",
       "      <td>1190.000000</td>\n",
       "      <td>0.000000</td>\n",
       "      <td>1951.000000</td>\n",
       "      <td>0.000000</td>\n",
       "      <td>47.471000</td>\n",
       "      <td>-122.328000</td>\n",
       "      <td>1490.000000</td>\n",
       "      <td>5100.000000</td>\n",
       "    </tr>\n",
       "    <tr>\n",
       "      <th>50%</th>\n",
       "      <td>4.500000e+05</td>\n",
       "      <td>3.000000</td>\n",
       "      <td>2.250000</td>\n",
       "      <td>1910.000000</td>\n",
       "      <td>7.618000e+03</td>\n",
       "      <td>1.500000</td>\n",
       "      <td>0.000000</td>\n",
       "      <td>0.000000</td>\n",
       "      <td>3.000000</td>\n",
       "      <td>7.000000</td>\n",
       "      <td>1560.000000</td>\n",
       "      <td>0.000000</td>\n",
       "      <td>1975.000000</td>\n",
       "      <td>0.000000</td>\n",
       "      <td>47.571800</td>\n",
       "      <td>-122.230000</td>\n",
       "      <td>1840.000000</td>\n",
       "      <td>7620.000000</td>\n",
       "    </tr>\n",
       "    <tr>\n",
       "      <th>75%</th>\n",
       "      <td>6.450000e+05</td>\n",
       "      <td>4.000000</td>\n",
       "      <td>2.500000</td>\n",
       "      <td>2550.000000</td>\n",
       "      <td>1.068800e+04</td>\n",
       "      <td>2.000000</td>\n",
       "      <td>0.000000</td>\n",
       "      <td>0.000000</td>\n",
       "      <td>4.000000</td>\n",
       "      <td>8.000000</td>\n",
       "      <td>2210.000000</td>\n",
       "      <td>560.000000</td>\n",
       "      <td>1997.000000</td>\n",
       "      <td>0.000000</td>\n",
       "      <td>47.678000</td>\n",
       "      <td>-122.125000</td>\n",
       "      <td>2360.000000</td>\n",
       "      <td>10083.000000</td>\n",
       "    </tr>\n",
       "    <tr>\n",
       "      <th>max</th>\n",
       "      <td>7.700000e+06</td>\n",
       "      <td>33.000000</td>\n",
       "      <td>8.000000</td>\n",
       "      <td>13540.000000</td>\n",
       "      <td>1.651359e+06</td>\n",
       "      <td>3.500000</td>\n",
       "      <td>1.000000</td>\n",
       "      <td>4.000000</td>\n",
       "      <td>5.000000</td>\n",
       "      <td>13.000000</td>\n",
       "      <td>9410.000000</td>\n",
       "      <td>4820.000000</td>\n",
       "      <td>2015.000000</td>\n",
       "      <td>2015.000000</td>\n",
       "      <td>47.777600</td>\n",
       "      <td>-121.315000</td>\n",
       "      <td>6210.000000</td>\n",
       "      <td>871200.000000</td>\n",
       "    </tr>\n",
       "  </tbody>\n",
       "</table>\n",
       "</div>"
      ],
      "text/plain": [
       "              price      bedrooms     bathrooms   sqft_living      sqft_lot  \\\n",
       "count  2.161300e+04  21613.000000  21613.000000  21613.000000  2.161300e+04   \n",
       "mean   5.400881e+05      3.370842      2.114757   2079.899736  1.510697e+04   \n",
       "std    3.671272e+05      0.930062      0.770163    918.440897  4.142051e+04   \n",
       "min    7.500000e+04      0.000000      0.000000    290.000000  5.200000e+02   \n",
       "25%    3.219500e+05      3.000000      1.750000   1427.000000  5.040000e+03   \n",
       "50%    4.500000e+05      3.000000      2.250000   1910.000000  7.618000e+03   \n",
       "75%    6.450000e+05      4.000000      2.500000   2550.000000  1.068800e+04   \n",
       "max    7.700000e+06     33.000000      8.000000  13540.000000  1.651359e+06   \n",
       "\n",
       "             floors    waterfront          view     condition         grade  \\\n",
       "count  21613.000000  21613.000000  21613.000000  21613.000000  21613.000000   \n",
       "mean       1.494309      0.007542      0.234303      3.409430      7.656873   \n",
       "std        0.539989      0.086517      0.766318      0.650743      1.175459   \n",
       "min        1.000000      0.000000      0.000000      1.000000      1.000000   \n",
       "25%        1.000000      0.000000      0.000000      3.000000      7.000000   \n",
       "50%        1.500000      0.000000      0.000000      3.000000      7.000000   \n",
       "75%        2.000000      0.000000      0.000000      4.000000      8.000000   \n",
       "max        3.500000      1.000000      4.000000      5.000000     13.000000   \n",
       "\n",
       "         sqft_above  sqft_basement      yr_built  yr_renovated           lat  \\\n",
       "count  21613.000000   21613.000000  21613.000000  21613.000000  21613.000000   \n",
       "mean    1788.390691     291.509045   1971.005136     84.402258     47.560053   \n",
       "std      828.090978     442.575043     29.373411    401.679240      0.138564   \n",
       "min      290.000000       0.000000   1900.000000      0.000000     47.155900   \n",
       "25%     1190.000000       0.000000   1951.000000      0.000000     47.471000   \n",
       "50%     1560.000000       0.000000   1975.000000      0.000000     47.571800   \n",
       "75%     2210.000000     560.000000   1997.000000      0.000000     47.678000   \n",
       "max     9410.000000    4820.000000   2015.000000   2015.000000     47.777600   \n",
       "\n",
       "               long  sqft_living15     sqft_lot15  \n",
       "count  21613.000000   21613.000000   21613.000000  \n",
       "mean    -122.213896    1986.552492   12768.455652  \n",
       "std        0.140828     685.391304   27304.179631  \n",
       "min     -122.519000     399.000000     651.000000  \n",
       "25%     -122.328000    1490.000000    5100.000000  \n",
       "50%     -122.230000    1840.000000    7620.000000  \n",
       "75%     -122.125000    2360.000000   10083.000000  \n",
       "max     -121.315000    6210.000000  871200.000000  "
      ]
     },
     "execution_count": 39,
     "metadata": {},
     "output_type": "execute_result"
    }
   ],
   "source": [
    "df.describe()"
   ]
  },
  {
   "cell_type": "code",
   "execution_count": null,
   "metadata": {
    "collapsed": true
   },
   "outputs": [],
   "source": []
  },
  {
   "cell_type": "markdown",
   "metadata": {},
   "source": [
    "## c) Transformación de las Variables\n",
    "\n",
    "Los modelos de regresión lineal múltiple asumen ciertas cosas sobre el *dataset*:\n",
    "\n",
    "* Las variables dependientes e independientes tienen una relación lineal\n",
    "* Las variables siguen una distribución normal\n",
    "\n",
    "Una función entregada por SciKit que nos puede ayudar para el segundo punto es StandardScaler, el cual hace lo que se llama Estandarización o Z-score normalization. Esto es, transformar las variables en sus z-scores a partir de:\n",
    "\n",
    "$$x - \\mu \\over \\sigma$$\n",
    "\n",
    "Siendo $\\mu$ el promedio de la población y $\\sigma$ la desviación estándar de ésta. Esto va a permitir que los datos tengan una media o esperanza centrada en 0, y varianzas bajo el mismo orden de magnitud.\n",
    "\n",
    "Para el caso de nuestra variable dependiente **precio**, se va a hacer además una transformación logarítmica. Ésta es una práctica común al trabajar con variables referidas a dinero, y tiene varias ventajas:\n",
    "\n",
    "* Los precios en general tienen *skewness*, o sea, su histograma está desbalanceado, con la mayor parte de los datos acumulados en cierto rango de valores. Una transformacion logarítmica puede ayudar a balancear el histograma (mejorar la simetría), y hacer que su comportamiento sea similar a una distribución normal.\n",
    "* Los cambios en el valor logarítmico de una variable pueden ser directamente interpretados como cambios porcentuales.\n",
    "* El logaritmo puede convertir relaciones multiplicativas en relaciones aditivas (como en el caso anterior, donde los cambios son convertidos en adiciones), y por tanto, hace que patrones de crecimiento exponencial se conviertan en patrones lineales, los cuales funcionan mucho mejor con nuestro modelo.\n",
    "\n",
    "http://www.jerrydallal.com/lhsp/logs.htm\n",
    "https://www.r-statistics.com/2013/05/log-transformations-for-skewed-and-wide-distributions-from-practical-data-science-with-r/\n",
    "https://people.duke.edu/~rnau/411log.htm\n"
   ]
  },
  {
   "cell_type": "code",
   "execution_count": 40,
   "metadata": {
    "collapsed": false
   },
   "outputs": [],
   "source": [
    "#Se guarda en la variable X todo el dataset\n",
    "X = df\n",
    "#Transformacion Logaritmica\n",
    "y = np.log(df['price'])\n",
    "\n",
    "# Se crea un vector \"mascara\" del largo del dataframe X, \n",
    "# y se elige un limite del 70% del dataset para ser usado como conjunto de entrenamiento\n",
    "# El otro 30% sera un conjunto de prueba\n",
    "mask = np.zeros(len(X))\n",
    "limit = int(len(X)*0.7)\n",
    "mask[:limit] = 1\n",
    "istrain = (mask== 1)\n",
    "Xtrain = X[istrain]\n",
    "ytrain = y[istrain]\n",
    "Xtest = X[np.logical_not(istrain)]\n",
    "ytest = y[np.logical_not(istrain)]\n",
    "\n",
    "# Se quita la columna de precio de X despues de la normalización, ya que esto estara en el vector Y\n",
    "Xtrain = Xtrain.drop(['price'], axis=1)\n",
    "Xtest = Xtest.drop(['price'], axis=1)\n"
   ]
  },
  {
   "cell_type": "code",
   "execution_count": 41,
   "metadata": {
    "collapsed": false
   },
   "outputs": [
    {
     "data": {
      "image/png": "[encoded data removed]",
      "text/plain": [
       "<matplotlib.figure.Figure at 0xce5b550>"
      ]
     },
     "metadata": {},
     "output_type": "display_data"
    }
   ],
   "source": [
    "plt.hist(df['price'], bins=100)\n",
    "plt.show()"
   ]
  },
  {
   "cell_type": "code",
   "execution_count": 42,
   "metadata": {
    "collapsed": false
   },
   "outputs": [
    {
     "data": {
      "image/png": "[encoded data removed]",
      "text/plain": [
       "<matplotlib.figure.Figure at 0xcfb64e0>"
      ]
     },
     "metadata": {},
     "output_type": "display_data"
    }
   ],
   "source": [
    "plt.hist(df_scaled_price, bins=100)\n",
    "plt.show()"
   ]
  },
  {
   "cell_type": "code",
   "execution_count": 43,
   "metadata": {
    "collapsed": false
   },
   "outputs": [
    {
     "data": {
      "image/png": "[encoded data removed]",
      "text/plain": [
       "<matplotlib.figure.Figure at 0xcfb66a0>"
      ]
     },
     "metadata": {},
     "output_type": "display_data"
    }
   ],
   "source": [
    "#plt.plot(np.arange(1,200), df_scaled['price'][0:199])\n",
    "plt.plot(np.arange(1,21614), df['price'])\n",
    "plt.title('sin log normalizacion')\n",
    "plt.show()"
   ]
  },
  {
   "cell_type": "code",
   "execution_count": 44,
   "metadata": {
    "collapsed": false
   },
   "outputs": [
    {
     "data": {
      "image/png": "[encoded data removed]",
      "text/plain": [
       "<matplotlib.figure.Figure at 0xbb88f98>"
      ]
     },
     "metadata": {},
     "output_type": "display_data"
    }
   ],
   "source": [
    "# ESTO ES EXPERIMENTACION, BORRAR DE AHI. TODO.\n",
    "\n",
    "df_scaled_price = np.log(df['price'])\n",
    "\n",
    "#plt.plot(np.arange(1,200), df_scaled['price'][0:199])\n",
    "plt.plot(np.arange(1,21614), df_scaled_price)\n",
    "plt.title('con log normalizacion')\n",
    "plt.show()\n"
   ]
  },
  {
   "cell_type": "markdown",
   "metadata": {},
   "source": [
    "Como vemos, logramos hacer que la media de las variables independientes sea muy cercana a cero, y que logre seguir distribuciones parecidas a una Gaussiana. Para el caso de la variable de precio, obtuvimos una escala distinta, pero también de tipo gaussiana.\n",
    "\n",
    "## d) Contrucción del Modelo\n",
    "\n",
    "A continuación se hará la regresión lineal. Recordando que la regresión lineal múltiple se puede ver como la resolución de un sistema de ecuaciones, donde cada elemento del conjunto de respuestas se puede ver como:\n",
    "\n",
    "$$y_i = \\beta_0 1 + \\beta_1 x_{i1} + \\cdots + \\beta_q x_{iq} + \\varepsilon_i$$\n",
    "\n",
    "Sea $n$ el tamaño de la muestra (aquí, 21613) y $q$ el número de parámetros (aquí, 18). La ecuación de regresión lineal múltiple es:\n",
    "\n",
    "$$ \\large Y_{n \\times 1} = X_{n \\times q} \\, \\beta_{q \\times 1} \\, + \\, \\epsilon_{n \\times 1}$$\n",
    "\n",
    "$$\n",
    "\\begin{bmatrix} y_{1} \\\\ y_{2} \\\\ \\vdots \\\\ y_{n} \\end{bmatrix} = \\begin{bmatrix} 1 & x_{11} & x_{12} & \\dots & x_{1p} \\\\ 1 & x_{21} & x_{22} & \\dots & x_{2p} \\\\ \\vdots & \\vdots & \\vdots & & \\vdots \\\\ 1 & x_{n1} & x_{n2} & \\dots & x_{np} \\end{bmatrix} \\begin{bmatrix} \\beta_0 \\\\ \\beta_1 \\\\ \\vdots \\\\ \\beta_p \\end{bmatrix} + \\begin{bmatrix} \\varepsilon_1\\\\ \\varepsilon_2\\\\ \\vdots\\\\ \\varepsilon_n \\end{bmatrix}\n",
    "$$\n",
    "\n",
    "Donde\n",
    "* $Y$ es un vector de tamaño $n\\times 1$, se le dice *vector de respuesta*\n",
    "* $\\epsilon$ es un vector de tamaño $n\\times 1$, se le dice *vector de errores*\n",
    "* $X$ es una matriz de tamaño $n\\times q$, se le dice *matriz de diseño*\n",
    "* $\\beta$ es un vector de tamaño $q\\times 1$, se le dice *vector de pendiente*\n",
    "\n",
    "Ya que el elemento $\\beta_0$ va multiplicado por uno, la matriz va a requerir una columna de unos.\n",
    "\n",
    "\n",
    "http://dept.stat.lsa.umich.edu/~kshedden/Courses/Stat401/Notes/401-multreg.pdf\n",
    "\n",
    "A la función LinearRegression le enviamos el parámetro **fit_intercept = False** debido a que los datos de precios ya están centrados"
   ]
  },
  {
   "cell_type": "code",
   "execution_count": 45,
   "metadata": {
    "collapsed": false
   },
   "outputs": [
    {
     "data": {
      "text/html": [
       "<div>\n",
       "<style>\n",
       "    .dataframe thead tr:only-child th {\n",
       "        text-align: right;\n",
       "    }\n",
       "\n",
       "    .dataframe thead th {\n",
       "        text-align: left;\n",
       "    }\n",
       "\n",
       "    .dataframe tbody tr th {\n",
       "        vertical-align: top;\n",
       "    }\n",
       "</style>\n",
       "<table border=\"1\" class=\"dataframe\">\n",
       "  <thead>\n",
       "    <tr style=\"text-align: right;\">\n",
       "      <th></th>\n",
       "      <th>bedrooms</th>\n",
       "      <th>bathrooms</th>\n",
       "      <th>sqft_living</th>\n",
       "      <th>sqft_lot</th>\n",
       "      <th>floors</th>\n",
       "      <th>waterfront</th>\n",
       "      <th>view</th>\n",
       "      <th>condition</th>\n",
       "      <th>grade</th>\n",
       "      <th>sqft_above</th>\n",
       "      <th>sqft_basement</th>\n",
       "      <th>yr_built</th>\n",
       "      <th>yr_renovated</th>\n",
       "      <th>lat</th>\n",
       "      <th>long</th>\n",
       "      <th>sqft_living15</th>\n",
       "      <th>sqft_lot15</th>\n",
       "      <th>intercept</th>\n",
       "    </tr>\n",
       "  </thead>\n",
       "  <tbody>\n",
       "    <tr>\n",
       "      <th>count</th>\n",
       "      <td>1.512900e+04</td>\n",
       "      <td>1.512900e+04</td>\n",
       "      <td>1.512900e+04</td>\n",
       "      <td>1.512900e+04</td>\n",
       "      <td>1.512900e+04</td>\n",
       "      <td>1.512900e+04</td>\n",
       "      <td>1.512900e+04</td>\n",
       "      <td>1.512900e+04</td>\n",
       "      <td>1.512900e+04</td>\n",
       "      <td>1.512900e+04</td>\n",
       "      <td>1.512900e+04</td>\n",
       "      <td>1.512900e+04</td>\n",
       "      <td>1.512900e+04</td>\n",
       "      <td>1.512900e+04</td>\n",
       "      <td>1.512900e+04</td>\n",
       "      <td>1.512900e+04</td>\n",
       "      <td>1.512900e+04</td>\n",
       "      <td>15129.0</td>\n",
       "    </tr>\n",
       "    <tr>\n",
       "      <th>mean</th>\n",
       "      <td>1.849785e-16</td>\n",
       "      <td>-3.789538e-17</td>\n",
       "      <td>4.719310e-17</td>\n",
       "      <td>3.861270e-17</td>\n",
       "      <td>-2.707568e-16</td>\n",
       "      <td>-7.205681e-16</td>\n",
       "      <td>4.689957e-16</td>\n",
       "      <td>3.856464e-16</td>\n",
       "      <td>1.383636e-15</td>\n",
       "      <td>-2.399649e-17</td>\n",
       "      <td>-1.015044e-16</td>\n",
       "      <td>5.131727e-16</td>\n",
       "      <td>-6.317132e-16</td>\n",
       "      <td>-1.266723e-14</td>\n",
       "      <td>2.541438e-14</td>\n",
       "      <td>-1.561753e-16</td>\n",
       "      <td>4.018495e-17</td>\n",
       "      <td>1.0</td>\n",
       "    </tr>\n",
       "    <tr>\n",
       "      <th>std</th>\n",
       "      <td>1.000033e+00</td>\n",
       "      <td>1.000033e+00</td>\n",
       "      <td>1.000033e+00</td>\n",
       "      <td>1.000033e+00</td>\n",
       "      <td>1.000033e+00</td>\n",
       "      <td>1.000033e+00</td>\n",
       "      <td>1.000033e+00</td>\n",
       "      <td>1.000033e+00</td>\n",
       "      <td>1.000033e+00</td>\n",
       "      <td>1.000033e+00</td>\n",
       "      <td>1.000033e+00</td>\n",
       "      <td>1.000033e+00</td>\n",
       "      <td>1.000033e+00</td>\n",
       "      <td>1.000033e+00</td>\n",
       "      <td>1.000033e+00</td>\n",
       "      <td>1.000033e+00</td>\n",
       "      <td>1.000033e+00</td>\n",
       "      <td>0.0</td>\n",
       "    </tr>\n",
       "    <tr>\n",
       "      <th>min</th>\n",
       "      <td>-3.695522e+00</td>\n",
       "      <td>-2.714893e+00</td>\n",
       "      <td>-1.844550e+00</td>\n",
       "      <td>-3.578749e-01</td>\n",
       "      <td>-8.478007e-01</td>\n",
       "      <td>-8.674852e-02</td>\n",
       "      <td>-3.101098e-01</td>\n",
       "      <td>-3.675091e+00</td>\n",
       "      <td>-3.940270e+00</td>\n",
       "      <td>-1.695150e+00</td>\n",
       "      <td>-6.746338e-01</td>\n",
       "      <td>-2.400159e+00</td>\n",
       "      <td>-2.174314e-01</td>\n",
       "      <td>-2.890957e+00</td>\n",
       "      <td>-2.184469e+00</td>\n",
       "      <td>-2.338019e+00</td>\n",
       "      <td>-4.573661e-01</td>\n",
       "      <td>1.0</td>\n",
       "    </tr>\n",
       "    <tr>\n",
       "      <th>25%</th>\n",
       "      <td>-3.963096e-01</td>\n",
       "      <td>-7.372207e-01</td>\n",
       "      <td>-7.074380e-01</td>\n",
       "      <td>-2.446882e-01</td>\n",
       "      <td>-8.478007e-01</td>\n",
       "      <td>-8.674852e-02</td>\n",
       "      <td>-3.101098e-01</td>\n",
       "      <td>-6.733930e-01</td>\n",
       "      <td>-5.071207e-01</td>\n",
       "      <td>-7.031746e-01</td>\n",
       "      <td>-6.746338e-01</td>\n",
       "      <td>-6.147711e-01</td>\n",
       "      <td>-2.174314e-01</td>\n",
       "      <td>-6.799023e-01</td>\n",
       "      <td>-8.048581e-01</td>\n",
       "      <td>-7.175202e-01</td>\n",
       "      <td>-2.870689e-01</td>\n",
       "      <td>1.0</td>\n",
       "    </tr>\n",
       "    <tr>\n",
       "      <th>50%</th>\n",
       "      <td>-3.963096e-01</td>\n",
       "      <td>-7.799663e-02</td>\n",
       "      <td>-1.775219e-01</td>\n",
       "      <td>-1.868669e-01</td>\n",
       "      <td>-8.478007e-01</td>\n",
       "      <td>-8.674852e-02</td>\n",
       "      <td>-3.101098e-01</td>\n",
       "      <td>-6.733930e-01</td>\n",
       "      <td>-5.071207e-01</td>\n",
       "      <td>-2.691856e-01</td>\n",
       "      <td>-6.746338e-01</td>\n",
       "      <td>6.367636e-02</td>\n",
       "      <td>-2.174314e-01</td>\n",
       "      <td>9.432470e-02</td>\n",
       "      <td>-1.150526e-01</td>\n",
       "      <td>-2.125067e-01</td>\n",
       "      <td>-2.007706e-01</td>\n",
       "      <td>1.0</td>\n",
       "    </tr>\n",
       "    <tr>\n",
       "      <th>75%</th>\n",
       "      <td>7.034278e-01</td>\n",
       "      <td>5.812274e-01</td>\n",
       "      <td>4.959132e-01</td>\n",
       "      <td>-1.122745e-01</td>\n",
       "      <td>1.113119e+00</td>\n",
       "      <td>-8.674852e-02</td>\n",
       "      <td>-3.101098e-01</td>\n",
       "      <td>8.274559e-01</td>\n",
       "      <td>3.511665e-01</td>\n",
       "      <td>4.747956e-01</td>\n",
       "      <td>6.581544e-01</td>\n",
       "      <td>8.135394e-01</td>\n",
       "      <td>-2.174314e-01</td>\n",
       "      <td>8.506629e-01</td>\n",
       "      <td>6.322367e-01</td>\n",
       "      <td>5.301602e-01</td>\n",
       "      <td>-1.110232e-01</td>\n",
       "      <td>1.0</td>\n",
       "    </tr>\n",
       "    <tr>\n",
       "      <th>max</th>\n",
       "      <td>8.401590e+00</td>\n",
       "      <td>7.832692e+00</td>\n",
       "      <td>1.268398e+01</td>\n",
       "      <td>3.825488e+01</td>\n",
       "      <td>4.054499e+00</td>\n",
       "      <td>1.152757e+01</td>\n",
       "      <td>4.846968e+00</td>\n",
       "      <td>2.328305e+00</td>\n",
       "      <td>4.642603e+00</td>\n",
       "      <td>9.501768e+00</td>\n",
       "      <td>1.003210e+01</td>\n",
       "      <td>1.706233e+00</td>\n",
       "      <td>4.645406e+00</td>\n",
       "      <td>1.557628e+00</td>\n",
       "      <td>6.466842e+00</td>\n",
       "      <td>6.144722e+00</td>\n",
       "      <td>3.081912e+01</td>\n",
       "      <td>1.0</td>\n",
       "    </tr>\n",
       "  </tbody>\n",
       "</table>\n",
       "</div>"
      ],
      "text/plain": [
       "           bedrooms     bathrooms   sqft_living      sqft_lot        floors  \\\n",
       "count  1.512900e+04  1.512900e+04  1.512900e+04  1.512900e+04  1.512900e+04   \n",
       "mean   1.849785e-16 -3.789538e-17  4.719310e-17  3.861270e-17 -2.707568e-16   \n",
       "std    1.000033e+00  1.000033e+00  1.000033e+00  1.000033e+00  1.000033e+00   \n",
       "min   -3.695522e+00 -2.714893e+00 -1.844550e+00 -3.578749e-01 -8.478007e-01   \n",
       "25%   -3.963096e-01 -7.372207e-01 -7.074380e-01 -2.446882e-01 -8.478007e-01   \n",
       "50%   -3.963096e-01 -7.799663e-02 -1.775219e-01 -1.868669e-01 -8.478007e-01   \n",
       "75%    7.034278e-01  5.812274e-01  4.959132e-01 -1.122745e-01  1.113119e+00   \n",
       "max    8.401590e+00  7.832692e+00  1.268398e+01  3.825488e+01  4.054499e+00   \n",
       "\n",
       "         waterfront          view     condition         grade    sqft_above  \\\n",
       "count  1.512900e+04  1.512900e+04  1.512900e+04  1.512900e+04  1.512900e+04   \n",
       "mean  -7.205681e-16  4.689957e-16  3.856464e-16  1.383636e-15 -2.399649e-17   \n",
       "std    1.000033e+00  1.000033e+00  1.000033e+00  1.000033e+00  1.000033e+00   \n",
       "min   -8.674852e-02 -3.101098e-01 -3.675091e+00 -3.940270e+00 -1.695150e+00   \n",
       "25%   -8.674852e-02 -3.101098e-01 -6.733930e-01 -5.071207e-01 -7.031746e-01   \n",
       "50%   -8.674852e-02 -3.101098e-01 -6.733930e-01 -5.071207e-01 -2.691856e-01   \n",
       "75%   -8.674852e-02 -3.101098e-01  8.274559e-01  3.511665e-01  4.747956e-01   \n",
       "max    1.152757e+01  4.846968e+00  2.328305e+00  4.642603e+00  9.501768e+00   \n",
       "\n",
       "       sqft_basement      yr_built  yr_renovated           lat          long  \\\n",
       "count   1.512900e+04  1.512900e+04  1.512900e+04  1.512900e+04  1.512900e+04   \n",
       "mean   -1.015044e-16  5.131727e-16 -6.317132e-16 -1.266723e-14  2.541438e-14   \n",
       "std     1.000033e+00  1.000033e+00  1.000033e+00  1.000033e+00  1.000033e+00   \n",
       "min    -6.746338e-01 -2.400159e+00 -2.174314e-01 -2.890957e+00 -2.184469e+00   \n",
       "25%    -6.746338e-01 -6.147711e-01 -2.174314e-01 -6.799023e-01 -8.048581e-01   \n",
       "50%    -6.746338e-01  6.367636e-02 -2.174314e-01  9.432470e-02 -1.150526e-01   \n",
       "75%     6.581544e-01  8.135394e-01 -2.174314e-01  8.506629e-01  6.322367e-01   \n",
       "max     1.003210e+01  1.706233e+00  4.645406e+00  1.557628e+00  6.466842e+00   \n",
       "\n",
       "       sqft_living15    sqft_lot15  intercept  \n",
       "count   1.512900e+04  1.512900e+04    15129.0  \n",
       "mean   -1.561753e-16  4.018495e-17        1.0  \n",
       "std     1.000033e+00  1.000033e+00        0.0  \n",
       "min    -2.338019e+00 -4.573661e-01        1.0  \n",
       "25%    -7.175202e-01 -2.870689e-01        1.0  \n",
       "50%    -2.125067e-01 -2.007706e-01        1.0  \n",
       "75%     5.301602e-01 -1.110232e-01        1.0  \n",
       "max     6.144722e+00  3.081912e+01        1.0  "
      ]
     },
     "execution_count": 45,
     "metadata": {},
     "output_type": "execute_result"
    }
   ],
   "source": [
    "#Estandarizacion del dataset\n",
    "from sklearn.preprocessing import StandardScaler\n",
    "scaler = StandardScaler().fit(Xtrain)\n",
    "df_scaled_train = pd.DataFrame(scaler.transform(Xtrain), columns=Xtrain.columns)\n",
    "\n",
    "# Se ingresa columna de unos, que son los pesos o coeficientes del primer parametro (el intercepto, beta_0)\n",
    "df_scaled_train.insert(df_scaled_train.shape[1], 'intercept', np.ones(df_scaled_train.shape[0]))\n",
    "#df_scaled_train.info()\n",
    "df_scaled_train.describe()"
   ]
  },
  {
   "cell_type": "code",
   "execution_count": 46,
   "metadata": {
    "collapsed": false
   },
   "outputs": [
    {
     "name": "stdout",
     "output_type": "stream",
     "text": [
      "Coeficientes: \n",
      " [ -8.89195792e-03   7.26612802e-02   8.47805560e-05   5.35000538e-07\n",
      "   6.96226731e-02   3.87519960e-01   5.49164475e-02   6.95786229e-02\n",
      "   1.58420469e-01   3.50351582e-05   4.97453983e-05  -3.74072202e-03\n",
      "   3.68415078e-05   1.34437531e+00  -2.89663275e-02   1.25380436e-04\n",
      "  -2.56839991e-07]\n",
      "0.763234217692\n",
      "Coeficientes: \n",
      " [ -1.10699465e-02   7.84096936e-02   8.46690030e-05   4.45837184e-07\n",
      "   8.37030642e-02   3.92769856e-01   5.84066852e-02   6.19615945e-02\n",
      "   1.70848587e-01   2.17307563e-05   6.29382464e-05  -4.82734553e-03\n",
      "   2.67878912e-05   1.24601582e+00   3.18704627e-01   1.08689574e-04\n",
      "  -4.72201258e-07]\n",
      "0.750553472119\n"
     ]
    }
   ],
   "source": [
    "#Se hace la regresion lineal multiple usando los datos de entrenamiento\n",
    "linreg = lm.LinearRegression(fit_intercept = True)\n",
    "linreg.fit(Xtrain, ytrain)\n",
    "#Coeficientes obtenidos con la regresion sobre los datos de entrenamiento\n",
    "print('Coeficientes: \\n', linreg.coef_)\n",
    "print(linreg.score(Xtest,ytest))\n",
    "\n",
    "linreg = lm.LinearRegression(fit_intercept = False)\n",
    "linreg.fit(Xtrain, ytrain)\n",
    "#Coeficientes obtenidos con la regresion sobre los datos de entrenamiento\n",
    "print('Coeficientes: \\n', linreg.coef_)\n",
    "print(linreg.score(Xtest,ytest))"
   ]
  },
  {
   "cell_type": "code",
   "execution_count": 47,
   "metadata": {
    "collapsed": false
   },
   "outputs": [
    {
     "data": {
      "text/plain": [
       "0.75055347211851919"
      ]
     },
     "execution_count": 47,
     "metadata": {},
     "output_type": "execute_result"
    }
   ],
   "source": [
    "# Se obtiene R^2 para verificar la precision de la prediccion \n",
    "linreg.score(Xtest,ytest)\n",
    "#linreg.score(Xtrain,ytrain)"
   ]
  },
  {
   "cell_type": "markdown",
   "metadata": {
    "collapsed": true
   },
   "source": [
    "## e) Análisis de variables: Pesos y Z-score"
   ]
  },
  {
   "cell_type": "code",
   "execution_count": 48,
   "metadata": {
    "collapsed": false
   },
   "outputs": [],
   "source": [
    "import scipy as sc\n",
    "from scipy import stats\n",
    "import sklearn\n",
    "from numpy import linalg\n",
    "#from tabulate import tabulate"
   ]
  },
  {
   "cell_type": "markdown",
   "metadata": {},
   "source": [
    "Tenemos que los pesos asignados a cada variable serán los coeficientes $\\hat{\\beta}$ estimados en los puntos anteriores mediante el método de minimos cuadrados. Por otro lado tenemos que los Z-Score se obtienen siguien $\\displaystyle z_i = \\frac{\\hat{\\beta_i}}{\\sigma_i\\sqrt{v_i}}$, donde $v_i$ es el elemento $i$-esimo de la diagonal de la matriz $(X^tX)^{-1}$"
   ]
  },
  {
   "cell_type": "code",
   "execution_count": 51,
   "metadata": {
    "collapsed": false
   },
   "outputs": [
    {
     "data": {
      "text/plain": [
       "array([  1.07502354e-04,  -1.62438231e-04,  -6.23451644e+26,\n",
       "         1.37104072e-04,  -6.98031758e-05,   7.88001056e-05,\n",
       "         9.24557761e-05,   7.83259037e-05,   2.28270759e-04,\n",
       "        -4.94211797e+26,  -1.53997899e+26,   1.42343243e-04,\n",
       "         7.50725049e-05,   7.34614546e-05,   9.92949102e-05,\n",
       "         4.91391884e-05,   1.42328850e-04,   5.65091468e-05])"
      ]
     },
     "execution_count": 51,
     "metadata": {},
     "output_type": "execute_result"
    }
   ],
   "source": [
    "#Se carga el dataframe de los datos de entrenamiento en una arreglo para poder trabajar con estos\n",
    "\n",
    "#X = np.array(df_scaled_train)\n",
    "X = df_scaled_train.as_matrix()\n",
    "#Se guarda la traspuesta de la matriz \n",
    "Xt = np.transpose(X)\n",
    "#se computa el producto matricial entre la Xt y X \n",
    "XtX = np.dot(Xt,X)\n",
    "# Se calcula la inversa de XtX\n",
    "V = np.linalg.inv(XtX)\n",
    "# Se guarda la diagonal de la matriz\n",
    "Vdiag = np.diag(V)\n",
    "#Se obtienen los coeficientes\n",
    "betas = linreg.coef_\n",
    "#se obtiene la desviacion estandar para cada variable\n",
    "sigma = df_scaled_train.std()\n",
    "#Se calculan los z-score\n",
    "#Zscore = betas/(sigma*np.sqrt(Vdiag))\n",
    "\n",
    "Vdiag"
   ]
  },
  {
   "cell_type": "code",
   "execution_count": 16,
   "metadata": {
    "collapsed": false
   },
   "outputs": [
    {
     "data": {
      "text/plain": [
       "(array([  2026.48669376,   6339.03956141,  13641.7571862 ,    175.60554059,\n",
       "          1842.56393195,    515.9857159 ,   2089.62069784,     45.50694334,\n",
       "         14169.55099199,   8322.60332878,   1705.38368579,     42.13665573,\n",
       "           241.89630086,   3950.10616271,     24.60793443,  10001.98131949,\n",
       "           141.82082213]),\n",
       " array([  0.00000000e+000,   0.00000000e+000,   0.00000000e+000,\n",
       "          7.36391242e-040,   0.00000000e+000,   2.37548172e-112,\n",
       "          0.00000000e+000,   1.57617925e-011,   0.00000000e+000,\n",
       "          0.00000000e+000,   0.00000000e+000,   8.77632325e-011,\n",
       "          3.98317113e-054,   0.00000000e+000,   7.10245831e-007,\n",
       "          0.00000000e+000,   1.48780098e-032]))"
      ]
     },
     "execution_count": 16,
     "metadata": {},
     "output_type": "execute_result"
    }
   ],
   "source": [
    "from sklearn.metrics import mean_squared_error, r2_score\n",
    "#z_scores  = sc.stats.zscore(X, axis=1, ddof=1)\n",
    "#print(z_scores)\n",
    "#linreg.coef_\n",
    "#mean_squared_error(ytest, ytest_pred)\n",
    "#ytest-ytest_pred\n",
    "#linreg.residues_\n",
    "#ytest_pred = linreg.predict(Xtest)\n",
    "\n",
    "#print(np.abs(ytest - ytest_pred))\n",
    "#print(r2_score(ytest, ytest_pred))\n",
    "\n",
    "sklearn.feature_selection.f_regression(Xtrain,ytrain)"
   ]
  },
  {
   "cell_type": "code",
   "execution_count": 17,
   "metadata": {
    "collapsed": false
   },
   "outputs": [
    {
     "data": {
      "text/plain": [
       "array([  2.75720300e+02,   1.76774586e+02,   1.65442825e+02,\n",
       "         1.40690535e+02,   1.31190278e+02,   1.23085549e+02,\n",
       "         1.22111950e+02,   1.15332183e+02,   1.05478108e+02,\n",
       "         9.92811085e+01,   8.97122785e+01,   8.75209835e+01,\n",
       "         7.07276320e+01,   6.63680334e+01,   6.00492336e+01,\n",
       "         5.74327083e+01,   5.34604681e+01,   3.66599579e-14])"
      ]
     },
     "execution_count": 17,
     "metadata": {},
     "output_type": "execute_result"
    }
   ],
   "source": [
    "linreg.singular_"
   ]
  },
  {
   "cell_type": "code",
   "execution_count": 18,
   "metadata": {
    "collapsed": false
   },
   "outputs": [
    {
     "data": {
      "text/plain": [
       "0.0"
      ]
     },
     "execution_count": 18,
     "metadata": {},
     "output_type": "execute_result"
    }
   ],
   "source": [
    "#w_z = pd.DataFrame([linreg.coef_,])\n",
    "#w_z.describe\n",
    "\n",
    "#import sklearn.metrics as metrics\n",
    "#metrics.classification_report()\n",
    "\n",
    "linreg.intercept_"
   ]
  },
  {
   "cell_type": "markdown",
   "metadata": {},
   "source": [
    "MSE: Mean Squared Error"
   ]
  },
  {
   "cell_type": "code",
   "execution_count": 52,
   "metadata": {
    "collapsed": false
   },
   "outputs": [
    {
     "name": "stdout",
     "output_type": "stream",
     "text": [
      "0.0664448643685\n",
      "0.0664420515973\n"
     ]
    }
   ],
   "source": [
    "yhat_test = linreg.predict(Xtest)\n",
    "mse_test = np.mean(np.power(yhat_test - ytest, 2))\n",
    "\n",
    "from sklearn.model_selection import KFold\n",
    "\n",
    "Xm = Xtrain.as_matrix()\n",
    "ym = ytrain.as_matrix()\n",
    "kf_5 = KFold(n_splits=5)\n",
    "kf_10 = KFold(n_splits=10)\n",
    "mse_cv = 0\n",
    "\n",
    "for train, val in kf_5.split(Xm):\n",
    "    linreg = lm.LinearRegression(fit_intercept = False)\n",
    "    linreg.fit(Xm[train], ym[train])\n",
    "    yhat_val = linreg.predict(Xm[val])\n",
    "    mse_fold = np.mean(np.power(yhat_val - ym[val], 2))\n",
    "    mse_cv += mse_fold\n",
    "mse_cv = mse_cv / 5\n",
    "print(mse_cv)\n",
    "\n",
    "mse_cv = 0\n",
    "\n",
    "for train, val in kf_10.split(Xm):\n",
    "    linreg = lm.LinearRegression(fit_intercept = False)\n",
    "    linreg.fit(Xm[train], ym[train])\n",
    "    yhat_val = linreg.predict(Xm[val])\n",
    "    mse_fold = np.mean(np.power(yhat_val - ym[val], 2))\n",
    "    mse_cv += mse_fold\n",
    "mse_cv = mse_cv / 10\n",
    "print(mse_cv)"
   ]
  },
  {
   "cell_type": "code",
   "execution_count": null,
   "metadata": {
    "collapsed": false
   },
   "outputs": [],
   "source": [
    "mse_cv\n"
   ]
  },
  {
   "cell_type": "code",
   "execution_count": null,
   "metadata": {
    "collapsed": true
   },
   "outputs": [],
   "source": []
  },
  {
   "cell_type": "markdown",
   "metadata": {
    "collapsed": true
   },
   "source": [
    "## j) Análisis del error y normalidad de los datos"
   ]
  },
  {
   "cell_type": "code",
   "execution_count": null,
   "metadata": {
    "collapsed": true
   },
   "outputs": [],
   "source": []
  },
  {
   "cell_type": "markdown",
   "metadata": {},
   "source": [
    "## k)"
   ]
  },
  {
   "cell_type": "code",
   "execution_count": null,
   "metadata": {
    "collapsed": false
   },
   "outputs": [],
   "source": [
    "df_A = df_scaled.sample(3000)\n",
    "frames = []\n",
    "valor = df_scaled.price\n",
    "for z in np.arange(int(np.min(valor)),int(np.max(valor))+1,0.5):\n",
    "    frames.append(df_scaled[(df_scaled.price >= z) & (df_scaled.price < z+0.5)].head(500))\n",
    "df_B = pd.concat(frames).sample(3000)\n",
    "X_A = df_A.iloc[:,1:].values\n",
    "y_A = np.log(df_A.price)\n",
    "X_B = df_B.iloc[:,1:].values\n",
    "y_B = np.log(df_B.price)\n",
    "from sklearn.model_selection import train_test_split\n",
    "Xtrain_A, Xval_A, ytrain_A, yval_A = train_test_split(X_A, y_A, test_size=0.3, random_state=42)\n",
    "Xtrain_B, Xval_B, ytrain_B, yval_B = train_test_split(X_B, y_B, test_size=0.3, random_state=42)\n",
    "\n",
    "linregA = lm.LinearRegression(fit_intercept = True)\n",
    "linregA.fit(Xtrain_A, ytrain_A)\n",
    "print('Coeficientes: \\n', linregA.coef_)\n",
    "print(linregA.score(Xval_A,yval_A))\n",
    "\n",
    "linregB = lm.LinearRegression(fit_intercept = True)\n",
    "linregB.fit(Xtrain_B, ytrain_B)\n",
    "print('Coeficientes: \\n', linregB.coef_)\n",
    "print(linregB.score(Xval_B,yval_B))"
   ]
  },
  {
   "cell_type": "code",
   "execution_count": 55,
   "metadata": {
    "collapsed": false
   },
   "outputs": [
    {
     "data": {
      "image/png": "[encoded data removed]",
      "text/plain": [
       "<matplotlib.figure.Figure at 0xb7c01d0>"
      ]
     },
     "metadata": {},
     "output_type": "display_data"
    }
   ],
   "source": [
    "import scipy.stats as stats\n",
    "\n",
    "measurements = np.random.normal(loc = 20, scale = 5, size=100)   \n",
    "stats.probplot(measurements, dist=\"norm\", plot=plt)\n",
    "plt.show()"
   ]
  },
  {
   "cell_type": "markdown",
   "metadata": {},
   "source": [
    "# 4. Peliculas\n",
    "\n",
    "Tenemos 145256 características, debido a todas las combinaciones de palabras posibles de las críticas/reviews de cada película.\n",
    "\n",
    "Son 1147 elementos de entrenamiento, 254 elementos de prueba, y 317 elementos para el cross-validation.\n"
   ]
  },
  {
   "cell_type": "code",
   "execution_count": 47,
   "metadata": {
    "collapsed": false
   },
   "outputs": [],
   "source": [
    "import pandas as pd\n",
    "import numpy as np\n",
    "from scipy.sparse import csc_matrix\n",
    "from scipy.io import mmread\n",
    "#X_movies = pd.SparseDataFrame( csr_matrix(mmread('train.x.mm')) )\n",
    "X_movies = csc_matrix(mmread('train.x.mm'))\n",
    "y_movies = np.loadtxt('train.y.dat')\n",
    "X_movies_test = csc_matrix(mmread('test.x.mm'))\n",
    "y_movies_test = np.loadtxt('test.y.dat')"
   ]
  },
  {
   "cell_type": "code",
   "execution_count": 48,
   "metadata": {
    "collapsed": false
   },
   "outputs": [
    {
     "name": "stdout",
     "output_type": "stream",
     "text": [
      "(1147, 145256)\n",
      "(1147,)\n"
     ]
    }
   ],
   "source": [
    "print(X_movies.shape)\n",
    "print(y_movies.shape)"
   ]
  },
  {
   "cell_type": "code",
   "execution_count": 49,
   "metadata": {
    "collapsed": false
   },
   "outputs": [
    {
     "name": "stdout",
     "output_type": "stream",
     "text": [
      "Usando regresión lineal ordinaria, sin preprocesamiento, R^2 es:  0.590314359229\n"
     ]
    }
   ],
   "source": [
    "import sklearn.linear_model as lm\n",
    "model = lm.LinearRegression(fit_intercept = False)\n",
    "model.fit(X_movies, y_movies)\n",
    "print(\"Usando regresión lineal ordinaria, sin preprocesamiento, R^2 es: \", model.score(X_movies_test, y_movies_test))"
   ]
  },
  {
   "cell_type": "markdown",
   "metadata": {},
   "source": [
    "Centering sparse data would destroy the sparseness structure in the data, and thus rarely is a sensible thing to do. However, it can make sense to scale sparse inputs, especially if features are on different scales.\n",
    "\n",
    "MaxAbsScaler and maxabs_scale were specifically designed for scaling sparse data, and are the recommended way to go about this. However, scale and StandardScaler can accept scipy.sparse matrices as input, as long as with_mean=False is explicitly passed to the constructor. Otherwise a ValueError will be raised as silently centering would break the sparsity and would often crash the execution by allocating excessive amounts of memory unintentionally. RobustScaler cannot be fitted to sparse inputs, but you can use the transform method on sparse inputs.\n",
    "\n",
    "Note that the scalers accept both Compressed Sparse Rows and Compressed Sparse Columns format (see scipy.sparse.csr_matrix and scipy.sparse.csc_matrix). Any other sparse input will be converted to the Compressed Sparse Rows representation. To avoid unnecessary memory copies, it is recommended to choose the CSR or CSC representation upstream.\n",
    "\n",
    "Finally, if the centered data is expected to be small enough, explicitly converting the input to an array using the toarray method of sparse matrices is another option."
   ]
  },
  {
   "cell_type": "code",
   "execution_count": 59,
   "metadata": {
    "collapsed": false
   },
   "outputs": [
    {
     "name": "stdout",
     "output_type": "stream",
     "text": [
      "(1147, 1)\n",
      "(1147, 145256)\n",
      "(1147, 145257)\n",
      "0.443035351294\n"
     ]
    }
   ],
   "source": [
    "#Estandarizacion del dataset\n",
    "from sklearn.preprocessing import MaxAbsScaler\n",
    "scaler_movies = MaxAbsScaler().fit(X_movies) # Para matriz sparse\n",
    "#X_scaled_movies_train = pd.DataFrame(scaler_movies.transform(X_movies), columns=X_movies.columns)\n",
    "X_scaled_movies_train = scaler_movies.transform(X_movies)\n",
    "\n",
    "# Se ingresa columna de unos, que son los pesos o coeficientes del primer parametro (el intercepto, beta_0)\n",
    "#X_scaled_movies_train.insert(X_scaled_movies_train.shape[1], 'intercept', np.ones(X_scaled_movies_train.shape[0]))\n",
    "from scipy.sparse import hstack\n",
    "matriz_de_unos = csc_matrix(np.ones(X_scaled_movies_train.shape[0])[:, None])\n",
    "print(matriz_de_unos.shape)\n",
    "print(X_scaled_movies_train.shape)\n",
    "X_scaled_movies_train = hstack((X_scaled_movies_train, matriz_de_unos))\n",
    "print(X_scaled_movies_train.shape)\n",
    "\n",
    "#df_scaled_train.info()\n",
    "#X_scaled_movies_train.describe()\n",
    "\n",
    "\n",
    "model_movies = lm.LinearRegression(fit_intercept = False)\n",
    "model_movies.fit(X_scaled_movies_train, y_movies)\n",
    "\n",
    "\n",
    "scaler_movies_test = MaxAbsScaler().fit(X_movies_test) # Para matriz sparse\n",
    "X_scaled_movies_test = scaler_movies_test.transform(X_movies_test)\n",
    "matriz_de_unos = csc_matrix(np.ones(X_scaled_movies_test.shape[0])[:, None])\n",
    "X_scaled_movies_test = hstack((X_scaled_movies_test, matriz_de_unos))\n",
    "print(model.score(X_scaled_movies_test, y_movies_test))"
   ]
  },
  {
   "cell_type": "code",
   "execution_count": 98,
   "metadata": {
    "collapsed": false
   },
   "outputs": [
    {
     "data": {
      "text/plain": [
       "SelectFromModel(estimator=LinearRegression(copy_X=True, fit_intercept=False, n_jobs=1, normalize=False),\n",
       "        norm_order=1, prefit=False, threshold=3.0)"
      ]
     },
     "execution_count": 98,
     "metadata": {},
     "output_type": "execute_result"
    }
   ],
   "source": [
    "from sklearn.feature_selection import RFE\n",
    "from sklearn.feature_selection import SelectFromModel\n",
    "selector = SelectFromModel(model_movies, threshold=3.0)\n",
    "selector.fit(X_scaled_movies_train, y_movies)"
   ]
  },
  {
   "cell_type": "code",
   "execution_count": 66,
   "metadata": {
    "collapsed": false
   },
   "outputs": [
    {
     "ename": "AttributeError",
     "evalue": "'SelectFromModel' object has no attribute 'support_'",
     "output_type": "error",
     "traceback": [
      "\u001b[0;31m---------------------------------------------------------------------------\u001b[0m",
      "\u001b[0;31mAttributeError\u001b[0m                            Traceback (most recent call last)",
      "\u001b[0;32m<ipython-input-66-ede0405825c8>\u001b[0m in \u001b[0;36m<module>\u001b[0;34m()\u001b[0m\n\u001b[0;32m----> 1\u001b[0;31m \u001b[0mselector\u001b[0m\u001b[1;33m.\u001b[0m\u001b[0msupport_\u001b[0m\u001b[1;33m\u001b[0m\u001b[0m\n\u001b[0m",
      "\u001b[0;31mAttributeError\u001b[0m: 'SelectFromModel' object has no attribute 'support_'"
     ]
    }
   ],
   "source": [
    "selector.support_"
   ]
  },
  {
   "cell_type": "code",
   "execution_count": 99,
   "metadata": {
    "collapsed": true
   },
   "outputs": [],
   "source": [
    "n_features = selector.transform(X_scaled_movies_train)"
   ]
  },
  {
   "cell_type": "code",
   "execution_count": 100,
   "metadata": {
    "collapsed": false
   },
   "outputs": [
    {
     "data": {
      "text/plain": [
       "<1147x145245 sparse matrix of type '<class 'numpy.float64'>'\n",
       "\twith 2764829 stored elements in Compressed Sparse Row format>"
      ]
     },
     "execution_count": 100,
     "metadata": {},
     "output_type": "execute_result"
    }
   ],
   "source": [
    "n_features"
   ]
  },
  {
   "cell_type": "code",
   "execution_count": 101,
   "metadata": {
    "collapsed": false
   },
   "outputs": [
    {
     "data": {
      "text/plain": [
       "<1147x145257 sparse matrix of type '<class 'numpy.float64'>'\n",
       "\twith 2765257 stored elements in Compressed Sparse Column format>"
      ]
     },
     "execution_count": 101,
     "metadata": {},
     "output_type": "execute_result"
    }
   ],
   "source": [
    "X_scaled_movies_train"
   ]
  },
  {
   "cell_type": "code",
   "execution_count": 102,
   "metadata": {
    "collapsed": false
   },
   "outputs": [
    {
     "name": "stdout",
     "output_type": "stream",
     "text": [
      "0.443035351294\n"
     ]
    }
   ],
   "source": [
    "model_movies = lm.LinearRegression(fit_intercept = False)\n",
    "model_movies.fit(X_scaled_movies_train, y_movies)\n",
    "\n",
    "\n",
    "scaler_movies_test = MaxAbsScaler().fit(X_movies_test) # Para matriz sparse\n",
    "X_scaled_movies_test = scaler_movies_test.transform(X_movies_test)\n",
    "matriz_de_unos = csc_matrix(np.ones(X_scaled_movies_test.shape[0])[:, None])\n",
    "X_scaled_movies_test = hstack((X_scaled_movies_test, matriz_de_unos))\n",
    "print(model.score(X_scaled_movies_test, y_movies_test))"
   ]
  },
  {
   "cell_type": "code",
   "execution_count": null,
   "metadata": {
    "collapsed": true
   },
   "outputs": [],
   "source": []
  }
 ],
 "metadata": {
  "anaconda-cloud": {},
  "kernelspec": {
   "display_name": "Python [default]",
   "language": "python",
   "name": "python3"
  },
  "language_info": {
   "codemirror_mode": {
    "name": "ipython",
    "version": 3
   },
   "file_extension": ".py",
   "mimetype": "text/x-python",
   "name": "python",
   "nbconvert_exporter": "python",
   "pygments_lexer": "ipython3",
   "version": "3.5.2"
  }
 },
 "nbformat": 4,
 "nbformat_minor": 2
}
