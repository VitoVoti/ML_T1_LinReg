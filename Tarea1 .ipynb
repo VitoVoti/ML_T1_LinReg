{
 "cells": [
  {
   "cell_type": "code",
   "execution_count": 1,
   "metadata": {
    "collapsed": true
   },
   "outputs": [],
   "source": [
    "import pandas as pd\n",
    "import numpy as np\n",
    "import sklearn.linear_model as lm\n",
    "import matplotlib.pyplot as plt\n",
    "\n",
    "from pylab import rcParams\n",
    "rcParams['figure.figsize'] = 14, 4"
   ]
  },
  {
   "cell_type": "markdown",
   "metadata": {},
   "source": [
    "# 1 Regresión Lineal Ordinaria (LSS)"
   ]
  },
  {
   "cell_type": "markdown",
   "metadata": {},
   "source": [
    "Se comenzará el informe con la contrucción de un modelo para precedir el precio de una casa. Como datos de entrada se usará un *dataset* con las ventas en el condado de King County, EEUU entre Mayo de 2014 y Mayo de 2015. Para esto, se utilizará una regresión lineal ordinaria basada en LSS (Linear Least Squares)\n",
    "\n",
    "## a) Ingreso de los datos\n",
    "\n",
    "Los datos fueron obtenidos de Kaggle, y se encuentran en un archivo CSV. Las características o *features* id (número identificador), date (fecha) y zipcode (código postal) serán descartadas ya que de ante mano podemos suponer que no tienen relación con el precio de la casa."
   ]
  },
  {
   "cell_type": "code",
   "execution_count": 4,
   "metadata": {
    "collapsed": true
   },
   "outputs": [],
   "source": [
    "df = pd.read_csv(\"kc_house_data.csv\",sep = \",\",header = 0)\n",
    "df = df.drop(['id','date','zipcode'], axis=1)"
   ]
  },
  {
   "cell_type": "markdown",
   "metadata": {},
   "source": [
    "## b) Análisis Descriptivo de los Datos\n",
    "\n",
    "Primero es útil revisar el tamaño del dataset, junto con todo el resto de las características."
   ]
  },
  {
   "cell_type": "code",
   "execution_count": 3,
   "metadata": {
    "collapsed": false
   },
   "outputs": [
    {
     "data": {
      "text/plain": [
       "(21613, 18)"
      ]
     },
     "execution_count": 3,
     "metadata": {},
     "output_type": "execute_result"
    }
   ],
   "source": [
    "df.shape"
   ]
  },
  {
   "cell_type": "code",
   "execution_count": 4,
   "metadata": {
    "collapsed": false
   },
   "outputs": [
    {
     "name": "stdout",
     "output_type": "stream",
     "text": [
      "<class 'pandas.core.frame.DataFrame'>\n",
      "RangeIndex: 21613 entries, 0 to 21612\n",
      "Data columns (total 18 columns):\n",
      "price            21613 non-null float64\n",
      "bedrooms         21613 non-null int64\n",
      "bathrooms        21613 non-null float64\n",
      "sqft_living      21613 non-null int64\n",
      "sqft_lot         21613 non-null int64\n",
      "floors           21613 non-null float64\n",
      "waterfront       21613 non-null int64\n",
      "view             21613 non-null int64\n",
      "condition        21613 non-null int64\n",
      "grade            21613 non-null int64\n",
      "sqft_above       21613 non-null int64\n",
      "sqft_basement    21613 non-null int64\n",
      "yr_built         21613 non-null int64\n",
      "yr_renovated     21613 non-null int64\n",
      "lat              21613 non-null float64\n",
      "long             21613 non-null float64\n",
      "sqft_living15    21613 non-null int64\n",
      "sqft_lot15       21613 non-null int64\n",
      "dtypes: float64(5), int64(13)\n",
      "memory usage: 3.0 MB\n"
     ]
    }
   ],
   "source": [
    "df.info()"
   ]
  },
  {
   "cell_type": "markdown",
   "metadata": {},
   "source": [
    "Tenemos que cada variable representa:\n",
    "\n",
    "**price**: Es el precio de la casa, para nuestro análisis sera la variable a predecir. \n",
    "**bedrooms**: Cantidad de dormitorios que posee la casa. \n",
    "**bathrooms**: Cantidad de baños que posee la casa.\n",
    "**sqft_living**: Pies cuadrados de la casa.\n",
    "**sqft_lot**: Pies cuadrados del terreno donde se encuentra construida la casa.\n",
    "**floors**: Cantidad de pisos que posee la casa.       \n",
    "**waterfront**: Si la casa tiene vista al mar.\n",
    "**view**:            \n",
    "**condition**: Condicion en la que se encuentra la casa.       \n",
    "**grade**: Grado general dado a la unidad de vivienda, basado en el sistema de clasificación del Condado de King.          \n",
    "**sqft_above**: Metros cuadrados de la casa sin el sotano.       \n",
    "**sqft_basement**: Metros cuadrados del sotano.\n",
    "**yr_built**: Año de construccion de la casa.        \n",
    "**yr_renovated**: Año en que la casa fue renovada.   \n",
    "**lat**: Latitud.             \n",
    "**long**: Longitud.            \n",
    "**sqft_living15**: Tamaño del living room al año 2015.   \n",
    "**sqft_lot15**: Tamaño del terreno al año 2015.   "
   ]
  },
  {
   "cell_type": "code",
   "execution_count": 5,
   "metadata": {
    "collapsed": false,
    "scrolled": true
   },
   "outputs": [
    {
     "data": {
      "text/html": [
       "<div>\n",
       "<style>\n",
       "    .dataframe thead tr:only-child th {\n",
       "        text-align: right;\n",
       "    }\n",
       "\n",
       "    .dataframe thead th {\n",
       "        text-align: left;\n",
       "    }\n",
       "\n",
       "    .dataframe tbody tr th {\n",
       "        vertical-align: top;\n",
       "    }\n",
       "</style>\n",
       "<table border=\"1\" class=\"dataframe\">\n",
       "  <thead>\n",
       "    <tr style=\"text-align: right;\">\n",
       "      <th></th>\n",
       "      <th>price</th>\n",
       "      <th>bedrooms</th>\n",
       "      <th>bathrooms</th>\n",
       "      <th>sqft_living</th>\n",
       "      <th>sqft_lot</th>\n",
       "      <th>floors</th>\n",
       "      <th>waterfront</th>\n",
       "      <th>view</th>\n",
       "      <th>condition</th>\n",
       "      <th>grade</th>\n",
       "      <th>sqft_above</th>\n",
       "      <th>sqft_basement</th>\n",
       "      <th>yr_built</th>\n",
       "      <th>yr_renovated</th>\n",
       "      <th>lat</th>\n",
       "      <th>long</th>\n",
       "      <th>sqft_living15</th>\n",
       "      <th>sqft_lot15</th>\n",
       "    </tr>\n",
       "  </thead>\n",
       "  <tbody>\n",
       "    <tr>\n",
       "      <th>count</th>\n",
       "      <td>2.161300e+04</td>\n",
       "      <td>21613.000000</td>\n",
       "      <td>21613.000000</td>\n",
       "      <td>21613.000000</td>\n",
       "      <td>2.161300e+04</td>\n",
       "      <td>21613.000000</td>\n",
       "      <td>21613.000000</td>\n",
       "      <td>21613.000000</td>\n",
       "      <td>21613.000000</td>\n",
       "      <td>21613.000000</td>\n",
       "      <td>21613.000000</td>\n",
       "      <td>21613.000000</td>\n",
       "      <td>21613.000000</td>\n",
       "      <td>21613.000000</td>\n",
       "      <td>21613.000000</td>\n",
       "      <td>21613.000000</td>\n",
       "      <td>21613.000000</td>\n",
       "      <td>21613.000000</td>\n",
       "    </tr>\n",
       "    <tr>\n",
       "      <th>mean</th>\n",
       "      <td>5.400881e+05</td>\n",
       "      <td>3.370842</td>\n",
       "      <td>2.114757</td>\n",
       "      <td>2079.899736</td>\n",
       "      <td>1.510697e+04</td>\n",
       "      <td>1.494309</td>\n",
       "      <td>0.007542</td>\n",
       "      <td>0.234303</td>\n",
       "      <td>3.409430</td>\n",
       "      <td>7.656873</td>\n",
       "      <td>1788.390691</td>\n",
       "      <td>291.509045</td>\n",
       "      <td>1971.005136</td>\n",
       "      <td>84.402258</td>\n",
       "      <td>47.560053</td>\n",
       "      <td>-122.213896</td>\n",
       "      <td>1986.552492</td>\n",
       "      <td>12768.455652</td>\n",
       "    </tr>\n",
       "    <tr>\n",
       "      <th>std</th>\n",
       "      <td>3.671272e+05</td>\n",
       "      <td>0.930062</td>\n",
       "      <td>0.770163</td>\n",
       "      <td>918.440897</td>\n",
       "      <td>4.142051e+04</td>\n",
       "      <td>0.539989</td>\n",
       "      <td>0.086517</td>\n",
       "      <td>0.766318</td>\n",
       "      <td>0.650743</td>\n",
       "      <td>1.175459</td>\n",
       "      <td>828.090978</td>\n",
       "      <td>442.575043</td>\n",
       "      <td>29.373411</td>\n",
       "      <td>401.679240</td>\n",
       "      <td>0.138564</td>\n",
       "      <td>0.140828</td>\n",
       "      <td>685.391304</td>\n",
       "      <td>27304.179631</td>\n",
       "    </tr>\n",
       "    <tr>\n",
       "      <th>min</th>\n",
       "      <td>7.500000e+04</td>\n",
       "      <td>0.000000</td>\n",
       "      <td>0.000000</td>\n",
       "      <td>290.000000</td>\n",
       "      <td>5.200000e+02</td>\n",
       "      <td>1.000000</td>\n",
       "      <td>0.000000</td>\n",
       "      <td>0.000000</td>\n",
       "      <td>1.000000</td>\n",
       "      <td>1.000000</td>\n",
       "      <td>290.000000</td>\n",
       "      <td>0.000000</td>\n",
       "      <td>1900.000000</td>\n",
       "      <td>0.000000</td>\n",
       "      <td>47.155900</td>\n",
       "      <td>-122.519000</td>\n",
       "      <td>399.000000</td>\n",
       "      <td>651.000000</td>\n",
       "    </tr>\n",
       "    <tr>\n",
       "      <th>25%</th>\n",
       "      <td>3.219500e+05</td>\n",
       "      <td>3.000000</td>\n",
       "      <td>1.750000</td>\n",
       "      <td>1427.000000</td>\n",
       "      <td>5.040000e+03</td>\n",
       "      <td>1.000000</td>\n",
       "      <td>0.000000</td>\n",
       "      <td>0.000000</td>\n",
       "      <td>3.000000</td>\n",
       "      <td>7.000000</td>\n",
       "      <td>1190.000000</td>\n",
       "      <td>0.000000</td>\n",
       "      <td>1951.000000</td>\n",
       "      <td>0.000000</td>\n",
       "      <td>47.471000</td>\n",
       "      <td>-122.328000</td>\n",
       "      <td>1490.000000</td>\n",
       "      <td>5100.000000</td>\n",
       "    </tr>\n",
       "    <tr>\n",
       "      <th>50%</th>\n",
       "      <td>4.500000e+05</td>\n",
       "      <td>3.000000</td>\n",
       "      <td>2.250000</td>\n",
       "      <td>1910.000000</td>\n",
       "      <td>7.618000e+03</td>\n",
       "      <td>1.500000</td>\n",
       "      <td>0.000000</td>\n",
       "      <td>0.000000</td>\n",
       "      <td>3.000000</td>\n",
       "      <td>7.000000</td>\n",
       "      <td>1560.000000</td>\n",
       "      <td>0.000000</td>\n",
       "      <td>1975.000000</td>\n",
       "      <td>0.000000</td>\n",
       "      <td>47.571800</td>\n",
       "      <td>-122.230000</td>\n",
       "      <td>1840.000000</td>\n",
       "      <td>7620.000000</td>\n",
       "    </tr>\n",
       "    <tr>\n",
       "      <th>75%</th>\n",
       "      <td>6.450000e+05</td>\n",
       "      <td>4.000000</td>\n",
       "      <td>2.500000</td>\n",
       "      <td>2550.000000</td>\n",
       "      <td>1.068800e+04</td>\n",
       "      <td>2.000000</td>\n",
       "      <td>0.000000</td>\n",
       "      <td>0.000000</td>\n",
       "      <td>4.000000</td>\n",
       "      <td>8.000000</td>\n",
       "      <td>2210.000000</td>\n",
       "      <td>560.000000</td>\n",
       "      <td>1997.000000</td>\n",
       "      <td>0.000000</td>\n",
       "      <td>47.678000</td>\n",
       "      <td>-122.125000</td>\n",
       "      <td>2360.000000</td>\n",
       "      <td>10083.000000</td>\n",
       "    </tr>\n",
       "    <tr>\n",
       "      <th>max</th>\n",
       "      <td>7.700000e+06</td>\n",
       "      <td>33.000000</td>\n",
       "      <td>8.000000</td>\n",
       "      <td>13540.000000</td>\n",
       "      <td>1.651359e+06</td>\n",
       "      <td>3.500000</td>\n",
       "      <td>1.000000</td>\n",
       "      <td>4.000000</td>\n",
       "      <td>5.000000</td>\n",
       "      <td>13.000000</td>\n",
       "      <td>9410.000000</td>\n",
       "      <td>4820.000000</td>\n",
       "      <td>2015.000000</td>\n",
       "      <td>2015.000000</td>\n",
       "      <td>47.777600</td>\n",
       "      <td>-121.315000</td>\n",
       "      <td>6210.000000</td>\n",
       "      <td>871200.000000</td>\n",
       "    </tr>\n",
       "  </tbody>\n",
       "</table>\n",
       "</div>"
      ],
      "text/plain": [
       "              price      bedrooms     bathrooms   sqft_living      sqft_lot  \\\n",
       "count  2.161300e+04  21613.000000  21613.000000  21613.000000  2.161300e+04   \n",
       "mean   5.400881e+05      3.370842      2.114757   2079.899736  1.510697e+04   \n",
       "std    3.671272e+05      0.930062      0.770163    918.440897  4.142051e+04   \n",
       "min    7.500000e+04      0.000000      0.000000    290.000000  5.200000e+02   \n",
       "25%    3.219500e+05      3.000000      1.750000   1427.000000  5.040000e+03   \n",
       "50%    4.500000e+05      3.000000      2.250000   1910.000000  7.618000e+03   \n",
       "75%    6.450000e+05      4.000000      2.500000   2550.000000  1.068800e+04   \n",
       "max    7.700000e+06     33.000000      8.000000  13540.000000  1.651359e+06   \n",
       "\n",
       "             floors    waterfront          view     condition         grade  \\\n",
       "count  21613.000000  21613.000000  21613.000000  21613.000000  21613.000000   \n",
       "mean       1.494309      0.007542      0.234303      3.409430      7.656873   \n",
       "std        0.539989      0.086517      0.766318      0.650743      1.175459   \n",
       "min        1.000000      0.000000      0.000000      1.000000      1.000000   \n",
       "25%        1.000000      0.000000      0.000000      3.000000      7.000000   \n",
       "50%        1.500000      0.000000      0.000000      3.000000      7.000000   \n",
       "75%        2.000000      0.000000      0.000000      4.000000      8.000000   \n",
       "max        3.500000      1.000000      4.000000      5.000000     13.000000   \n",
       "\n",
       "         sqft_above  sqft_basement      yr_built  yr_renovated           lat  \\\n",
       "count  21613.000000   21613.000000  21613.000000  21613.000000  21613.000000   \n",
       "mean    1788.390691     291.509045   1971.005136     84.402258     47.560053   \n",
       "std      828.090978     442.575043     29.373411    401.679240      0.138564   \n",
       "min      290.000000       0.000000   1900.000000      0.000000     47.155900   \n",
       "25%     1190.000000       0.000000   1951.000000      0.000000     47.471000   \n",
       "50%     1560.000000       0.000000   1975.000000      0.000000     47.571800   \n",
       "75%     2210.000000     560.000000   1997.000000      0.000000     47.678000   \n",
       "max     9410.000000    4820.000000   2015.000000   2015.000000     47.777600   \n",
       "\n",
       "               long  sqft_living15     sqft_lot15  \n",
       "count  21613.000000   21613.000000   21613.000000  \n",
       "mean    -122.213896    1986.552492   12768.455652  \n",
       "std        0.140828     685.391304   27304.179631  \n",
       "min     -122.519000     399.000000     651.000000  \n",
       "25%     -122.328000    1490.000000    5100.000000  \n",
       "50%     -122.230000    1840.000000    7620.000000  \n",
       "75%     -122.125000    2360.000000   10083.000000  \n",
       "max     -121.315000    6210.000000  871200.000000  "
      ]
     },
     "execution_count": 5,
     "metadata": {},
     "output_type": "execute_result"
    }
   ],
   "source": [
    "df.describe()"
   ]
  },
  {
   "cell_type": "markdown",
   "metadata": {},
   "source": [
    "## c) Transformación de las Variables\n",
    "\n",
    "Los modelos de regresión lineal múltiple asumen ciertas cosas sobre el *dataset*:\n",
    "\n",
    "* Las variables dependientes e independientes tienen una relación lineal\n",
    "* Las variables siguen una distribución normal\n",
    "\n",
    "Una función entregada por SciKit que nos puede ayudar para el segundo punto es StandardScaler, el cual hace lo que se llama Estandarización o Z-score normalization. Esto es, transformar las variables en sus z-scores a partir de:\n",
    "\n",
    "$$x - \\mu \\over \\sigma$$\n",
    "\n",
    "Siendo $\\mu$ el promedio de la población y $\\sigma$ la desviación estándar de ésta. Esto va a permitir que los datos tengan una media o esperanza centrada en 0, y varianzas bajo el mismo orden de magnitud.\n",
    "\n",
    "Para el caso de nuestra variable dependiente **precio**, se va a hacer además una transformación logarítmica. Ésta es una práctica común al trabajar con variables referidas a dinero, y tiene varias ventajas:\n",
    "\n",
    "* Los precios en general tienen *skewness*, o sea, su histograma está desbalanceado, con la mayor parte de los datos acumulados en cierto rango de valores. Una transformacion logarítmica puede ayudar a balancear el histograma (mejorar la simetría), y hacer que su comportamiento sea similar a una distribución normal.\n",
    "* Los cambios en el valor logarítmico de una variable pueden ser directamente interpretados como cambios porcentuales.\n",
    "* El logaritmo puede convertir relaciones multiplicativas en relaciones aditivas (como en el caso anterior, donde los cambios son convertidos en adiciones), y por tanto, hace que patrones de crecimiento exponencial se conviertan en patrones lineales, los cuales funcionan mucho mejor con nuestro modelo.\n",
    "\n",
    "http://www.jerrydallal.com/lhsp/logs.htm\n",
    "https://www.r-statistics.com/2013/05/log-transformations-for-skewed-and-wide-distributions-from-practical-data-science-with-r/\n",
    "https://people.duke.edu/~rnau/411log.htm\n"
   ]
  },
  {
   "cell_type": "code",
   "execution_count": 9,
   "metadata": {
    "collapsed": true
   },
   "outputs": [],
   "source": [
    "#Se guarda en la variable X todo el dataset\n",
    "X = df\n",
    "#Transformacion Logaritmica\n",
    "y = np.log(df['price'])\n",
    "\n",
    "# Se crea un vector \"mascara\" del largo del dataframe X, \n",
    "# y se elige un limite del 70% del dataset para ser usado como conjunto de entrenamiento\n",
    "# El otro 30% sera un conjunto de prueba\n",
    "mask = np.zeros(len(X))\n",
    "limit = int(len(X)*0.7)\n",
    "mask[:limit] = 1\n",
    "istrain = (mask== 1)\n",
    "Xtrain = X[istrain]\n",
    "ytrain = y[istrain]\n",
    "Xtest = X[np.logical_not(istrain)]\n",
    "ytest = y[np.logical_not(istrain)]\n",
    "\n",
    "# Se quita la columna de precio de X despues de la normalización, ya que esto estara en el vector Y\n",
    "Xtrain = Xtrain.drop(['price'], axis=1)\n",
    "Xtest = Xtest.drop(['price'], axis=1)\n",
    "\n",
    "from sklearn.preprocessing import StandardScaler\n",
    "scaler = StandardScaler().fit(Xtrain)\n",
    "df_scaled_train = pd.DataFrame(scaler.transform(Xtrain), columns=Xtrain.columns)\n",
    "df_scaled_train.insert(df_scaled_train.shape[1], 'intercept', np.ones(df_scaled_train.shape[0]))"
   ]
  },
  {
   "cell_type": "code",
   "execution_count": 10,
   "metadata": {
    "collapsed": false,
    "scrolled": true
   },
   "outputs": [
    {
     "data": {
      "image/png": "[encoded data removed]",
      "text/plain": [
       "<matplotlib.figure.Figure at 0xb33f940>"
      ]
     },
     "metadata": {},
     "output_type": "display_data"
    }
   ],
   "source": [
    "from matplotlib.pylab import hist, show\n",
    "from pylab import rcParams\n",
    "\n",
    "plt.title(\"Hitograma con data sin normalizar\")\n",
    "plt.hist(df['price'],bins=100)\n",
    "plt.show()"
   ]
  },
  {
   "cell_type": "code",
   "execution_count": 11,
   "metadata": {
    "collapsed": false
   },
   "outputs": [
    {
     "data": {
      "image/png": "[encoded data removed]",
      "text/plain": [
       "<matplotlib.figure.Figure at 0xbdc6dd8>"
      ]
     },
     "metadata": {},
     "output_type": "display_data"
    }
   ],
   "source": [
    "plt.title(\"Histograma con data normalizada\")\n",
    "plt.hist(np.log(df['price']), bins=100)\n",
    "plt.show()"
   ]
  },
  {
   "cell_type": "code",
   "execution_count": 10,
   "metadata": {
    "collapsed": true,
    "scrolled": true
   },
   "outputs": [],
   "source": [
    "#df_scaled_train.describe()"
   ]
  },
  {
   "cell_type": "markdown",
   "metadata": {},
   "source": [
    "Como vemos, logramos hacer que la media de las variables independientes sea muy cercana a cero, y que logre seguir distribuciones parecidas a una Gaussiana. Para el caso de la variable de precio, obtuvimos una escala distinta, pero también de tipo gaussiana.\n",
    "\n",
    "## d) Contrucción del Modelo\n",
    "\n",
    "A continuación se hará la regresión lineal. Recordando que la regresión lineal múltiple se puede ver como la resolución de un sistema de ecuaciones, donde cada elemento del conjunto de respuestas se puede ver como:\n",
    "\n",
    "$$y_i = \\beta_0 1 + \\beta_1 x_{i1} + \\cdots + \\beta_q x_{iq} + \\varepsilon_i$$\n",
    "\n",
    "Sea $n$ el tamaño de la muestra (aquí, 21613) y $q$ el número de parámetros (aquí, 18). La ecuación de regresión lineal múltiple es:\n",
    "\n",
    "$$ \\large Y_{n \\times 1} = X_{n \\times q} \\, \\beta_{q \\times 1} \\, + \\, \\epsilon_{n \\times 1}$$\n",
    "\n",
    "$$\n",
    "\\begin{bmatrix} y_{1} \\\\ y_{2} \\\\ \\vdots \\\\ y_{n} \\end{bmatrix} = \\begin{bmatrix} 1 & x_{11} & x_{12} & \\dots & x_{1p} \\\\ 1 & x_{21} & x_{22} & \\dots & x_{2p} \\\\ \\vdots & \\vdots & \\vdots & & \\vdots \\\\ 1 & x_{n1} & x_{n2} & \\dots & x_{np} \\end{bmatrix} \\begin{bmatrix} \\beta_0 \\\\ \\beta_1 \\\\ \\vdots \\\\ \\beta_p \\end{bmatrix} + \\begin{bmatrix} \\varepsilon_1\\\\ \\varepsilon_2\\\\ \\vdots\\\\ \\varepsilon_n \\end{bmatrix}\n",
    "$$\n",
    "\n",
    "Donde\n",
    "* $Y$ es un vector de tamaño $n\\times 1$, se le dice *vector de respuesta*\n",
    "* $\\epsilon$ es un vector de tamaño $n\\times 1$, se le dice *vector de errores*\n",
    "* $X$ es una matriz de tamaño $n\\times q$, se le dice *matriz de diseño*\n",
    "* $\\beta$ es un vector de tamaño $q\\times 1$, se le dice *vector de pendiente*\n",
    "\n",
    "Ya que el elemento $\\beta_0$ va multiplicado por uno, la matriz va a requerir una columna de unos.\n",
    "\n",
    "\n",
    "http://dept.stat.lsa.umich.edu/~kshedden/Courses/Stat401/Notes/401-multreg.pdf\n",
    "\n",
    "A la función LinearRegression le enviamos el parámetro **fit_intercept = False** debido a que los datos de precios ya están centrados"
   ]
  },
  {
   "cell_type": "code",
   "execution_count": 12,
   "metadata": {
    "collapsed": false
   },
   "outputs": [
    {
     "name": "stdout",
     "output_type": "stream",
     "text": [
      "Coeficientes: \n",
      " [ -8.08552791e-03   5.51112171e-02   5.69348494e-02   2.28725460e-02\n",
      "   3.55051078e-02   3.33656972e-02   4.25950104e-02   4.63595127e-02\n",
      "   1.84577448e-01   4.59367241e-02   3.22648453e-02  -1.04759352e-01\n",
      "   1.52659105e-02   1.87879541e-01  -4.03123382e-03   8.44122987e-02\n",
      "  -7.14880359e-03   1.30335010e+01]\n",
      "R^2 es:  0.767469483196\n"
     ]
    }
   ],
   "source": [
    "import sklearn.linear_model as lm\n",
    "linreg = lm.LinearRegression(fit_intercept = False)\n",
    "linreg.fit(df_scaled_train, ytrain)\n",
    "\n",
    "print('Coeficientes: \\n', linreg.coef_)\n",
    "print('R^2 es: ', linreg.score(df_scaled_train, ytrain))"
   ]
  },
  {
   "cell_type": "markdown",
   "metadata": {
    "collapsed": true
   },
   "source": [
    "## e) Análisis de variables: Pesos y Z-score"
   ]
  },
  {
   "cell_type": "markdown",
   "metadata": {},
   "source": [
    "Tenemos que los pesos asignados a cada variable serán los coeficientes $\\hat{\\beta}$ estimados en los puntos anteriores mediante el metodo de minimos cuadrados. Por otro lado tenemos que los Z-Score se obtienen siguien $\\displaystyle z_i = \\frac{\\hat{\\beta_i}}{\\sigma_i\\sqrt{v_i}}$, donde $v_i$ es el elemento $i-esimo$ de la diagonal de la matriz $(X^tX)^{-1}$"
   ]
  },
  {
   "cell_type": "code",
   "execution_count": 13,
   "metadata": {
    "collapsed": true
   },
   "outputs": [],
   "source": [
    "#Se carga el dataframe de los datos de entrenamiento en una arreglo para poder trabajar con los datos\n",
    "def zscore(M,betas,sigma):\n",
    "    #X = np.array(df_scaled_train)\n",
    "    #X = df_scaled_train.as_matrix()\n",
    "    X = M\n",
    "    #Se guarda la traspuesta de la matriz \n",
    "    Xt = np.transpose(X)\n",
    "    #se computa el producto matricial entre la Xt y X \n",
    "    XtX = np.dot(Xt,X)\n",
    "    # Se calcula la matriz de varianza-covarianza\n",
    "    V = np.linalg.inv(XtX)\n",
    "    # Se guarda la varianza (diagonal de la matriz)\n",
    "    Vdiag = np.diag(V)\n",
    "    #Se calculan los z-score\n",
    "    z_score = betas/(sigma*np.sqrt(Vdiag))\n",
    "    return np.array(z_score)"
   ]
  },
  {
   "cell_type": "code",
   "execution_count": 14,
   "metadata": {
    "collapsed": false
   },
   "outputs": [
    {
     "name": "stdout",
     "output_type": "stream",
     "text": [
      "   1. Nombre_regresor  2. Coeficientes  3. z-score\n",
      "0            bedrooms        -0.008086   -0.779803\n",
      "1           bathrooms         0.055111         NaN\n",
      "2         sqft_living         0.056935         NaN\n",
      "3            sqft_lot         0.022873    1.953327\n",
      "4              floors         0.035505         NaN\n",
      "5          waterfront         0.033366    3.758568\n",
      "6                view         0.042595    4.429731\n",
      "7           condition         0.046360    5.238076\n",
      "8               grade         0.184577   12.216285\n",
      "9          sqft_above         0.045937         NaN\n",
      "10      sqft_basement         0.032265         NaN\n",
      "11           yr_built        -0.104759   -8.780313\n",
      "12       yr_renovated         0.015266    1.761846\n",
      "13                lat         0.187880   21.919739\n",
      "14               long        -0.004031   -0.404539\n",
      "15      sqft_living15         0.084412   12.041411\n",
      "16         sqft_lot15        -0.007149   -0.599201\n",
      "17          intercept        13.033501         inf\n"
     ]
    },
    {
     "name": "stderr",
     "output_type": "stream",
     "text": [
      "C:\\Users\\Boti\\Anaconda3\\lib\\site-packages\\ipykernel\\__main__.py:15: RuntimeWarning: invalid value encountered in sqrt\n"
     ]
    }
   ],
   "source": [
    "#df_scaled_train = df_scaled_train.drop(['sqft_living','sqft_living15'],axis=1)\n",
    "#print(ytrain)\n",
    "#linreg.fit(df_scaled_train, ytrain)\n",
    "z_score = zscore(df_scaled_train.as_matrix(),linreg.coef_, df_scaled_train.std())\n",
    "d = {'1. Nombre_regresor' : df_scaled_train.columns,'2. Coeficientes' : pd.Series(linreg.coef_),'3. z-score': pd.Series(z_score)}\n",
    "print(pd.DataFrame(d))"
   ]
  },
  {
   "cell_type": "markdown",
   "metadata": {},
   "source": [
    "Como podemos apreciar tenemos que existen 3 coeficientes que son del orden de magnitud de $10^{11}$, los cuales pertenecen a las variables sqft_living, sqft_above y sqft_basement lo que hace que tambien obtengamos z-scores muy grandes para esas variables. Si nos damos cuenta estas variables representan las dimensiones en pies cuadrados de la casa, siendo la primera el tamaño completo, la segunda el tamaño sin contar el sotano y la tercera el tamaño del sotano. Podemos suponer que estas variables pueden poseer un grado de correlacion alto, ya que al sumar sqft_above y sqft_basement deberiamos obtener el tamaño total de la casa es decir sqft_living. Para comprobar lo dicho anteriormente se realizara la siguiente matriz de correlacion:"
   ]
  },
  {
   "cell_type": "code",
   "execution_count": 15,
   "metadata": {
    "collapsed": false
   },
   "outputs": [
    {
     "data": {
      "image/png": "[encoded data removed]",
      "text/plain": [
       "<matplotlib.figure.Figure at 0xc5e5c18>"
      ]
     },
     "metadata": {},
     "output_type": "display_data"
    }
   ],
   "source": [
    "import seaborn as sns\n",
    "\n",
    "corr = pd.DataFrame.corr(df_scaled_train)\n",
    "\n",
    "sns.heatmap(corr, \n",
    "        xticklabels=corr.columns,\n",
    "        yticklabels=corr.columns, cmap=\"YlGnBu\")\n",
    "\n",
    "plt.show()"
   ]
  },
  {
   "cell_type": "markdown",
   "metadata": {},
   "source": [
    "Como podemos apreciar el indice de correlacion entre $\\textbf{sqft_living}$ y $\\textbf{sqft_above}$ es $r=0.868037$ mientras que con la variable $\\textbf{sqft_basement}$ no es tan alto ($r=0.457049$), esto quizas a que en su mayoria las casas no poseen sotano. Sin embargo tambien podemos notar que el inice de correlacion entre esta variable es alto con otros predictores como $\\textbf{bathrooms}$ con un $r=0.760464$, $\\textbf{grade}$ con un $r= 0.766096$ y $\\textbf{sqft_living15}$ con un $r=0.754939$.\n",
    "\n",
    "Como podemos ver el supuesto de de que todas las variables son independientes se cae al ver la matriz de correlacion, ya que todos los valores deberian ser cercanos a 0 y aqui tenemos varios coeficientes que estan cerca de $0.5$ o incluso lo sobrepasan como el caso de $\\textbf{sqft_living}$. Para solucionar este problema se realizara nuevamente el fiting y se realizara el calculo de los z-score sin considerar la variable $\\textbf{sqft_living}$."
   ]
  },
  {
   "cell_type": "code",
   "execution_count": 53,
   "metadata": {
    "collapsed": false
   },
   "outputs": [
    {
     "name": "stdout",
     "output_type": "stream",
     "text": [
      "   1. Nombre_regresor  2. Coeficientes  3. z-score\n",
      "0            bedrooms        -0.008086   -0.771117\n",
      "1           bathrooms         0.055111    3.724857\n",
      "2            sqft_lot         0.022873    1.930916\n",
      "3              floors         0.035505    3.118415\n",
      "4          waterfront         0.033366    3.757811\n",
      "5                view         0.042595    4.419879\n",
      "6           condition         0.046360    5.219470\n",
      "7               grade         0.184577   12.216620\n",
      "8          sqft_above         0.096628    5.358861\n",
      "9       sqft_basement         0.060561    5.252478\n",
      "10           yr_built        -0.104759   -8.587932\n",
      "11       yr_renovated         0.015266    1.751052\n",
      "12                lat         0.187880   21.804983\n",
      "13               long        -0.004031   -0.404072\n",
      "14      sqft_living15         0.084412    5.990017\n",
      "15         sqft_lot15        -0.007149   -0.596438\n",
      "16          intercept        13.033501         inf\n"
     ]
    }
   ],
   "source": [
    "df2 = df\n",
    "df2 = df2.drop([\"sqft_living\"],axis=1)\n",
    "X = df2\n",
    "y2 = np.log(df2['price'])\n",
    "mask = np.zeros(len(X))\n",
    "limit = int(len(X)*0.7)\n",
    "mask[:limit] = 1\n",
    "istrain = (mask== 1)\n",
    "Xtrain2 = X[istrain]\n",
    "ytrain2 = y[istrain]\n",
    "Xtest2 = X[np.logical_not(istrain)]\n",
    "ytest2 = y[np.logical_not(istrain)]\n",
    "Xtrain2 = Xtrain2.drop(['price'], axis=1)\n",
    "Xtest2 = Xtest2.drop(['price'], axis=1)\n",
    "scaler = StandardScaler().fit(Xtrain2)\n",
    "Xtrain2_scaled = pd.DataFrame(scaler.transform(Xtrain2), columns=Xtrain2.columns)\n",
    "Xtrain2_scaled.insert(Xtrain2_scaled.shape[1], 'intercept', np.ones(Xtrain2_scaled.shape[0]))\n",
    "\n",
    "linreg.fit(Xtrain2_scaled, ytrain2)\n",
    "z_score2 = zscore(Xtrain2_scaled.as_matrix(),linreg.coef_,Xtrain2_scaled.std())\n",
    "d2 = {'1. Nombre_regresor' : Xtrain2_scaled.columns,'2. Coeficientes' : pd.Series(linreg.coef_),'3. z-score': pd.Series(z_score2)}\n",
    "print(pd.DataFrame(d2))\n"
   ]
  },
  {
   "cell_type": "markdown",
   "metadata": {},
   "source": [
    "Como podemos ver el efecto que tiene el quitar esta variable es bastante significativo, ahora los valores de los coeficientes y z-score no presentan ningun valor atipico."
   ]
  },
  {
   "cell_type": "markdown",
   "metadata": {},
   "source": [
    "## f) K-fold cross-Validation"
   ]
  },
  {
   "cell_type": "markdown",
   "metadata": {},
   "source": [
    "El sobreajuste es una complicacion que poseen la mayoria de algoritmos de machine learning, la cual conciste en ajustarse a caracteristicas muy especificas de los datos de entrenamiento provocando que el modelo pierda la capacidad de generalización. Una forma de lidiar con este problema es realizar una validacion cruzadada de los datos.\n",
    "\n",
    "Para este item se usara el metodo de K-fold cross-validation con $k=5$ y $k=10$ respectivamente.\n"
   ]
  },
  {
   "cell_type": "code",
   "execution_count": 54,
   "metadata": {
    "collapsed": false
   },
   "outputs": [
    {
     "name": "stdout",
     "output_type": "stream",
     "text": [
      "Error estandar promedio 0.06245798967315816\n",
      "R^2 es:  0.773397418665\n"
     ]
    }
   ],
   "source": [
    "#Se normaliza la data de test\n",
    "#scaler_test = StandardScaler().fit(Xtest)\n",
    "x_test2 = pd.DataFrame(scaler.transform(Xtest2),columns=Xtest2.columns)\n",
    "#x_test = x_test.drop([\"sqft_living\"],axis=1)\n",
    "\n",
    "#Se agrega la columna \"intercept\"\n",
    "x_test2.insert(x_test2.shape[1], 'intercept', np.ones(x_test2.shape[0]))\n",
    "\n",
    "#linreg = lm.LinearRegression(fit_intercept = False)\n",
    "\n",
    "linreg.fit(x_test2, ytest2)\n",
    "yhat_test = linreg.predict(x_test2)\n",
    "#Error estandar promedio cuadrado\n",
    "mse_test = np.mean(np.power(yhat_test - ytest2, 2))\n",
    "print(\"Error estandar promedio\", mse_test)\n",
    "from sklearn.model_selection import KFold\n",
    "Xm = Xtrain2_scaled.as_matrix()\n",
    "ym = ytrain2.as_matrix()\n",
    "print(\"R^2 es: \",linreg.score(x_test2, ytest2))"
   ]
  },
  {
   "cell_type": "code",
   "execution_count": 19,
   "metadata": {
    "collapsed": false
   },
   "outputs": [
    {
     "name": "stdout",
     "output_type": "stream",
     "text": [
      "Error promedio para k=10  0.0646829054256\n"
     ]
    }
   ],
   "source": [
    "kf = KFold(n_splits=10)\n",
    "mse_cv = 0\n",
    "for train, val in kf.split(Xm):\n",
    "    #train -> indices de cada fold para la data de entreamiento\n",
    "    #val -> indice de cada fold para la data de test\n",
    "    cross_scaler = StandardScaler().fit(Xm[train])\n",
    "    df_cross_train = pd.DataFrame(cross_scaler.transform(Xm[train]),columns=Xtrain.columns)\n",
    "    df_cross_train.insert(df_cross_train.shape[1], 'intercept',np.ones(df_cross_train.shape[0]))\n",
    "    linreg = lm.LinearRegression(fit_intercept = False)\n",
    "    #Por cada iteracion se recalculan los coeficientes\n",
    "    linreg.fit(df_cross_train, ym[train])\n",
    "    #Se normalizan los datos de test\n",
    "    df_cross_test = pd.DataFrame(cross_scaler.transform(Xm[val]),columns=Xtrain.columns)\n",
    "    df_cross_test.insert(df_cross_test.shape[1], 'intercept', np.ones(df_cross_test.shape[0]))\n",
    "    #Se obtiene la nueva prediccion\n",
    "    yhat_val = linreg.predict(df_cross_test)\n",
    "    mse_fold = np.mean(np.power(yhat_val - ym[val], 2))\n",
    "    #print(\"Error del fold\", mse_fold)\n",
    "    mse_cv += mse_fold\n",
    "mse_cv = mse_cv/10\n",
    "print(\"Error promedio para k=10 \", mse_cv)"
   ]
  },
  {
   "cell_type": "code",
   "execution_count": 20,
   "metadata": {
    "collapsed": false,
    "slideshow": {
     "slide_type": "-"
    }
   },
   "outputs": [
    {
     "name": "stdout",
     "output_type": "stream",
     "text": [
      "Error promedio para k=5  0.0129365810851\n"
     ]
    }
   ],
   "source": [
    "kf5 = KFold(n_splits=5)\n",
    "mse_cv_k5 = 0\n",
    "for train_k5, val_k5 in kf5.split(Xm):\n",
    "    #train -> indices de cada fold para la data de entreamiento\n",
    "    #val -> indice de cada fold para la data de test\n",
    "    cross_scaler_k5 = StandardScaler().fit(Xm[train_k5])\n",
    "    df_cross_train_k5 = pd.DataFrame(cross_scaler_k5.transform(Xm[train_k5]),columns=Xtrain.columns)\n",
    "    df_cross_train_k5.insert(df_cross_train_k5.shape[1], 'intercept',np.ones(df_cross_train_k5.shape[0]))\n",
    "    linreg = lm.LinearRegression(fit_intercept = False)\n",
    "    #Por cada iteracion se recalculan los coeficientes\n",
    "    linreg.fit(df_cross_train_k5, ym[train_k5])\n",
    "    #Se normalizan los datos de test\n",
    "    df_cross_test_k5 = pd.DataFrame(cross_scaler_k5.transform(Xm[val_k5]),columns=Xtrain.columns)\n",
    "    df_cross_test_k5.insert(df_cross_test_k5.shape[1], 'intercept', np.ones(df_cross_test_k5.shape[0]))\n",
    "    #Se obtiene la nueva prediccion\n",
    "    yhat_val_k5 = linreg.predict(df_cross_test_k5)\n",
    "    mse_fold_k5 = np.mean(np.power(yhat_val_k5 - ym[val_k5], 2))\n",
    "    #print(\"Error del fold\", mse_fold_k5)\n",
    "    mse_cv_k5 += mse_fold_k5\n",
    "mse_cv_k5 = mse_cv/5\n",
    "print(\"Error promedio para k=5 \", mse_cv_k5)"
   ]
  },
  {
   "cell_type": "code",
   "execution_count": 21,
   "metadata": {
    "collapsed": false
   },
   "outputs": [
    {
     "name": "stdout",
     "output_type": "stream",
     "text": [
      "Error promedio para k=15  0.00431219369504\n"
     ]
    }
   ],
   "source": [
    "kf15 = KFold(n_splits=15)\n",
    "mse_cv_k15 = 0\n",
    "for train_k15, val_k15 in kf15.split(Xm):\n",
    "    #train -> indices de cada fold para la data de entreamiento\n",
    "    #val -> indice de cada fold para la data de test\n",
    "    cross_scaler_k15 = StandardScaler().fit(Xm[train_k15])\n",
    "    df_cross_train_k15 = pd.DataFrame(cross_scaler_k15.transform(Xm[train_k15]),columns=Xtrain.columns)\n",
    "    df_cross_train_k15.insert(df_cross_train_k15.shape[1], 'intercept',np.ones(df_cross_train_k15.shape[0]))\n",
    "    linreg = lm.LinearRegression(fit_intercept = False)\n",
    "    #Por cada iteracion se recalculan los coeficientes\n",
    "    linreg.fit(df_cross_train_k15, ym[train_k15])\n",
    "    #Se normalizan los datos de test\n",
    "    df_cross_test_k15 = pd.DataFrame(cross_scaler_k15.transform(Xm[val_k15]),columns=Xtrain.columns)\n",
    "    df_cross_test_k15.insert(df_cross_test_k15.shape[1], 'intercept', np.ones(df_cross_test_k15.shape[0]))\n",
    "    #Se obtiene la nueva prediccion\n",
    "    yhat_val_k15 = linreg.predict(df_cross_test_k15)\n",
    "    mse_fold_k15 = np.mean(np.power(yhat_val_k15 - ym[val_k15], 2))\n",
    "    #print(\"Error del fold\", mse_fold_k5)\n",
    "    mse_cv_k15 += mse_fold_k15\n",
    "mse_cv_k15 = mse_cv/15\n",
    "print(\"Error promedio para k=15 \", mse_cv_k15)"
   ]
  },
  {
   "cell_type": "markdown",
   "metadata": {},
   "source": [
    "Vemos que el error varía demasiado entre cada ejercicio de cross-validation. Por lo tanto, podemos concluír que el modelo está **sobreajustado**."
   ]
  },
  {
   "cell_type": "markdown",
   "metadata": {},
   "source": [
    "## j) Análisis del error y normalidad de los datos"
   ]
  },
  {
   "cell_type": "code",
   "execution_count": 33,
   "metadata": {
    "collapsed": true
   },
   "outputs": [],
   "source": [
    "import scipy.stats as stats\n",
    "from scipy.stats import norm"
   ]
  },
  {
   "cell_type": "markdown",
   "metadata": {},
   "source": [
    "Primero realizaremos la prueba usando el dataframe de entrenamiento que tiene la variable \"sqft_living\" donde obtenemos la sguientes graficas"
   ]
  },
  {
   "cell_type": "code",
   "execution_count": 34,
   "metadata": {
    "collapsed": true
   },
   "outputs": [],
   "source": [
    "# se calcula la prediccion hecha por el modelo del target usando los datos de entrenamiento.\n",
    "Xtrain = np.array(df_scaled_train)\n",
    "yhat_train = linreg.predict(Xtrain)\n",
    "#Se calcula el error o residuo usando los valores reales y los obteidos por la prediccion del modelo\n",
    "e = np.array(ytrain) - yhat_train"
   ]
  },
  {
   "cell_type": "code",
   "execution_count": 35,
   "metadata": {
    "collapsed": false
   },
   "outputs": [
    {
     "data": {
      "image/png": "[encoded data removed]",
      "text/plain": [
       "<matplotlib.figure.Figure at 0xbeaa6d8>"
      ]
     },
     "metadata": {},
     "output_type": "display_data"
    }
   ],
   "source": [
    "#Se realiza un grafico de probabilidad, el cual nos entregara el mismo resultado que un QQplot ya que n es grande.\n",
    "stats.probplot(e, dist=\"norm\", plot=plt)\n",
    "plt.show()"
   ]
  },
  {
   "cell_type": "code",
   "execution_count": 36,
   "metadata": {
    "collapsed": false
   },
   "outputs": [
    {
     "data": {
      "image/png": "[encoded data removed]",
      "text/plain": [
       "<matplotlib.figure.Figure at 0xbd3fda0>"
      ]
     },
     "metadata": {},
     "output_type": "display_data"
    }
   ],
   "source": [
    "plt.title(\"Histograma de los residuos \")\n",
    "plt.hist(e,bins=100)\n",
    "plt.show()"
   ]
  },
  {
   "cell_type": "markdown",
   "metadata": {},
   "source": [
    "Como podemos ver los datos en el QQplot se ve bastante bien excepto por los ordenes de magnitud de los ejes. por otro lado mirando el histograma de los residuos podemos apreciar que la concentracion de datos esta un poco inclinada hacia el lado derecho.\n",
    "\n",
    "Ahora realizaremos las pruebas usando los datos de entenamiento sin la variable \"sqft_living\" "
   ]
  },
  {
   "cell_type": "code",
   "execution_count": 37,
   "metadata": {
    "collapsed": false,
    "scrolled": true
   },
   "outputs": [
    {
     "data": {
      "image/png": "[encoded data removed]",
      "text/plain": [
       "<matplotlib.figure.Figure at 0xbe8e3c8>"
      ]
     },
     "metadata": {},
     "output_type": "display_data"
    }
   ],
   "source": [
    "#linreg.fit(df_scaled_train, ytrain)\n",
    "Xtrain2 = np.array(df_scaled_train2)\n",
    "linreg.fit(Xtrain2,ytrain2)\n",
    "yhat_train2 = linreg.predict(Xtrain2)\n",
    "#Se calcula el error o residuo usando los valores reales y los obteidos por la prediccion del modelo\n",
    "e2 = np.array(ytrain2) - yhat_train2\n",
    "stats.probplot(e2, dist=\"norm\", plot=plt)\n",
    "plt.show()"
   ]
  },
  {
   "cell_type": "code",
   "execution_count": 38,
   "metadata": {
    "collapsed": false
   },
   "outputs": [
    {
     "data": {
      "image/png": "[encoded data removed]",
      "text/plain": [
       "<matplotlib.figure.Figure at 0xb247ef0>"
      ]
     },
     "metadata": {},
     "output_type": "display_data"
    }
   ],
   "source": [
    "plt.title(\"Histograma de los residuos \")\n",
    "plt.hist(e2,bins=100)\n",
    "plt.show()"
   ]
  },
  {
   "cell_type": "markdown",
   "metadata": {},
   "source": [
    "podemos ver claramente como mejora el ajuste de los datos en el QQplot y ver como la distribucion de los datos es practicamente una campana de gauss. \n",
    "\n",
    "V"
   ]
  },
  {
   "cell_type": "markdown",
   "metadata": {
    "collapsed": true
   },
   "source": [
    "## 1-h)"
   ]
  },
  {
   "cell_type": "code",
   "execution_count": 31,
   "metadata": {
    "collapsed": false
   },
   "outputs": [
    {
     "name": "stdout",
     "output_type": "stream",
     "text": [
      "(3000, 18)\n",
      "15.8567308868\n",
      "[ 11.   11.5  12.   12.5  13.   13.5  14.   14.5  15.   15.5]\n",
      "(3000, 18)\n"
     ]
    },
    {
     "ename": "ValueError",
     "evalue": "Can only compare identically-labeled DataFrame objects",
     "output_type": "error",
     "traceback": [
      "\u001b[0;31m---------------------------------------------------------------------------\u001b[0m",
      "\u001b[0;31mValueError\u001b[0m                                Traceback (most recent call last)",
      "\u001b[0;32m<ipython-input-31-1de190724ea7>\u001b[0m in \u001b[0;36m<module>\u001b[0;34m()\u001b[0m\n\u001b[1;32m      9\u001b[0m \u001b[0mdf_B\u001b[0m \u001b[0;34m=\u001b[0m \u001b[0mpd\u001b[0m\u001b[0;34m.\u001b[0m\u001b[0mconcat\u001b[0m\u001b[0;34m(\u001b[0m\u001b[0mframes\u001b[0m\u001b[0;34m)\u001b[0m\u001b[0;34m.\u001b[0m\u001b[0msample\u001b[0m\u001b[0;34m(\u001b[0m\u001b[0;36m3000\u001b[0m\u001b[0;34m)\u001b[0m\u001b[0;34m\u001b[0m\u001b[0m\n\u001b[1;32m     10\u001b[0m \u001b[0mprint\u001b[0m\u001b[0;34m(\u001b[0m\u001b[0mdf_B\u001b[0m\u001b[0;34m.\u001b[0m\u001b[0mshape\u001b[0m\u001b[0;34m)\u001b[0m\u001b[0;34m\u001b[0m\u001b[0m\n\u001b[0;32m---> 11\u001b[0;31m \u001b[0mprint\u001b[0m\u001b[0;34m(\u001b[0m\u001b[0mdf_A\u001b[0m \u001b[0;34m==\u001b[0m \u001b[0mdf_B\u001b[0m\u001b[0;34m)\u001b[0m\u001b[0;34m\u001b[0m\u001b[0m\n\u001b[0m\u001b[1;32m     12\u001b[0m \u001b[0mX_A\u001b[0m \u001b[0;34m=\u001b[0m \u001b[0mdf_A\u001b[0m\u001b[0;34m.\u001b[0m\u001b[0miloc\u001b[0m\u001b[0;34m[\u001b[0m\u001b[0;34m:\u001b[0m\u001b[0;34m,\u001b[0m\u001b[0;36m1\u001b[0m\u001b[0;34m:\u001b[0m\u001b[0;34m]\u001b[0m\u001b[0;34m.\u001b[0m\u001b[0mvalues\u001b[0m\u001b[0;34m\u001b[0m\u001b[0m\n\u001b[1;32m     13\u001b[0m \u001b[0my_A\u001b[0m \u001b[0;34m=\u001b[0m \u001b[0mdf_A\u001b[0m\u001b[0;34m.\u001b[0m\u001b[0mprice\u001b[0m\u001b[0;34m\u001b[0m\u001b[0m\n",
      "\u001b[0;32m/home/vito/anaconda3/lib/python3.6/site-packages/pandas/core/ops.py\u001b[0m in \u001b[0;36mf\u001b[0;34m(self, other)\u001b[0m\n\u001b[1;32m   1294\u001b[0m     \u001b[0;32mdef\u001b[0m \u001b[0mf\u001b[0m\u001b[0;34m(\u001b[0m\u001b[0mself\u001b[0m\u001b[0;34m,\u001b[0m \u001b[0mother\u001b[0m\u001b[0;34m)\u001b[0m\u001b[0;34m:\u001b[0m\u001b[0;34m\u001b[0m\u001b[0m\n\u001b[1;32m   1295\u001b[0m         \u001b[0;32mif\u001b[0m \u001b[0misinstance\u001b[0m\u001b[0;34m(\u001b[0m\u001b[0mother\u001b[0m\u001b[0;34m,\u001b[0m \u001b[0mpd\u001b[0m\u001b[0;34m.\u001b[0m\u001b[0mDataFrame\u001b[0m\u001b[0;34m)\u001b[0m\u001b[0;34m:\u001b[0m  \u001b[0;31m# Another DataFrame\u001b[0m\u001b[0;34m\u001b[0m\u001b[0m\n\u001b[0;32m-> 1296\u001b[0;31m             \u001b[0;32mreturn\u001b[0m \u001b[0mself\u001b[0m\u001b[0;34m.\u001b[0m\u001b[0m_compare_frame\u001b[0m\u001b[0;34m(\u001b[0m\u001b[0mother\u001b[0m\u001b[0;34m,\u001b[0m \u001b[0mfunc\u001b[0m\u001b[0;34m,\u001b[0m \u001b[0mstr_rep\u001b[0m\u001b[0;34m)\u001b[0m\u001b[0;34m\u001b[0m\u001b[0m\n\u001b[0m\u001b[1;32m   1297\u001b[0m         \u001b[0;32melif\u001b[0m \u001b[0misinstance\u001b[0m\u001b[0;34m(\u001b[0m\u001b[0mother\u001b[0m\u001b[0;34m,\u001b[0m \u001b[0mABCSeries\u001b[0m\u001b[0;34m)\u001b[0m\u001b[0;34m:\u001b[0m\u001b[0;34m\u001b[0m\u001b[0m\n\u001b[1;32m   1298\u001b[0m             \u001b[0;32mreturn\u001b[0m \u001b[0mself\u001b[0m\u001b[0;34m.\u001b[0m\u001b[0m_combine_series_infer\u001b[0m\u001b[0;34m(\u001b[0m\u001b[0mother\u001b[0m\u001b[0;34m,\u001b[0m \u001b[0mfunc\u001b[0m\u001b[0;34m)\u001b[0m\u001b[0;34m\u001b[0m\u001b[0m\n",
      "\u001b[0;32m/home/vito/anaconda3/lib/python3.6/site-packages/pandas/core/frame.py\u001b[0m in \u001b[0;36m_compare_frame\u001b[0;34m(self, other, func, str_rep)\u001b[0m\n\u001b[1;32m   3668\u001b[0m     \u001b[0;32mdef\u001b[0m \u001b[0m_compare_frame\u001b[0m\u001b[0;34m(\u001b[0m\u001b[0mself\u001b[0m\u001b[0;34m,\u001b[0m \u001b[0mother\u001b[0m\u001b[0;34m,\u001b[0m \u001b[0mfunc\u001b[0m\u001b[0;34m,\u001b[0m \u001b[0mstr_rep\u001b[0m\u001b[0;34m)\u001b[0m\u001b[0;34m:\u001b[0m\u001b[0;34m\u001b[0m\u001b[0m\n\u001b[1;32m   3669\u001b[0m         \u001b[0;32mif\u001b[0m \u001b[0;32mnot\u001b[0m \u001b[0mself\u001b[0m\u001b[0;34m.\u001b[0m\u001b[0m_indexed_same\u001b[0m\u001b[0;34m(\u001b[0m\u001b[0mother\u001b[0m\u001b[0;34m)\u001b[0m\u001b[0;34m:\u001b[0m\u001b[0;34m\u001b[0m\u001b[0m\n\u001b[0;32m-> 3670\u001b[0;31m             raise ValueError('Can only compare identically-labeled '\n\u001b[0m\u001b[1;32m   3671\u001b[0m                              'DataFrame objects')\n\u001b[1;32m   3672\u001b[0m         \u001b[0;32mreturn\u001b[0m \u001b[0mself\u001b[0m\u001b[0;34m.\u001b[0m\u001b[0m_compare_frame_evaluate\u001b[0m\u001b[0;34m(\u001b[0m\u001b[0mother\u001b[0m\u001b[0;34m,\u001b[0m \u001b[0mfunc\u001b[0m\u001b[0;34m,\u001b[0m \u001b[0mstr_rep\u001b[0m\u001b[0;34m)\u001b[0m\u001b[0;34m\u001b[0m\u001b[0m\n",
      "\u001b[0;31mValueError\u001b[0m: Can only compare identically-labeled DataFrame objects"
     ]
    }
   ],
   "source": [
    "df_A = df.sample(3000)\n",
    "print(df_A.shape)\n",
    "frames = []\n",
    "valor = np.log(df.price)\n",
    "print(np.max(valor))\n",
    "print(np.arange(int(np.min(valor)),int(np.max(valor))+1,0.5))\n",
    "for z in np.arange(int(np.min(valor)),int(np.max(valor))+1,0.5):\n",
    "    frames.append(df[(np.log(df.price) >= z) & (np.log(df.price) < z+0.5)].head(500))\n",
    "df_B = pd.concat(frames).sample(3000)\n",
    "print(df_B.shape)\n",
    "print(df_A == df_B)\n",
    "X_A = df_A.iloc[:,1:].values\n",
    "y_A = df_A.price\n",
    "X_B = df_B.iloc[:,1:].values\n",
    "y_B = df_B.price\n",
    "from sklearn.model_selection import train_test_split\n",
    "Xtrain_A, Xval_A, ytrain_A, yval_A = train_test_split(X_A, y_A, test_size=0.3, random_state=42)\n",
    "Xtrain_B, Xval_B, ytrain_B, yval_B = train_test_split(X_B, y_B, test_size=0.3, random_state=42)"
   ]
  },
  {
   "cell_type": "markdown",
   "metadata": {},
   "source": [
    "## 3. Regularización: Ridge Regression y Lasso\n",
    "\n",
    "Con tal de generar un modelo lineal para nuestro problema que logre evitar sobreajustes, se probarán las técnicas de regularización: Ridge Regression y Lasso. Se harán pruebas con variados valores de *alpha* (parámetro para cada algoritmo, que define la penalización a cada atributo de menor importancia al modelo), y se verá cómo cambian los coeficientes de cada característica a medida que cambia este *alpha*."
   ]
  },
  {
   "cell_type": "code",
   "execution_count": 144,
   "metadata": {
    "collapsed": true
   },
   "outputs": [],
   "source": [
    "X = df\n",
    "X = X.drop([\"sqft_living\"],axis=1)\n",
    "y = np.log(X[\"price\"])\n",
    "X = X.drop([\"price\"],axis=1)\n",
    "\n",
    "mask = np.zeros(len(X))\n",
    "limit = int(len(X)*0.7)\n",
    "mask[:limit] = 1\n",
    "istrain = (mask== 1)\n",
    "X_reg_train = X[istrain]\n",
    "y_reg_train = y[istrain]\n",
    "X_reg_test = X[np.logical_not(istrain)]\n",
    "y_reg_test = y[np.logical_not(istrain)]\n",
    "\n",
    "scaler_reg_train = StandardScaler().fit(X_reg_train)\n",
    "X_reg_train = pd.DataFrame(scaler_reg_train.transform(X_reg_train), columns=X_reg_train.columns)\n",
    "X_reg_train.insert(X_reg_train.shape[1], 'intercept', np.ones(X_reg_train.shape[0]))\n",
    "\n",
    "scaler_reg_test = StandardScaler().fit(X_reg_test)\n",
    "X_reg_test = pd.DataFrame(scaler_reg_test.transform(X_reg_test), columns=X_reg_test.columns)\n",
    "X_reg_test.insert(X_reg_test.shape[1], 'intercept', np.ones(X_reg_test.shape[0]))"
   ]
  },
  {
   "cell_type": "code",
   "execution_count": 145,
   "metadata": {
    "collapsed": false
   },
   "outputs": [
    {
     "data": {
      "image/png": "[encoded data removed]",
      "text/plain": [
       "<matplotlib.figure.Figure at 0xbd96198>"
      ]
     },
     "metadata": {},
     "output_type": "display_data"
    }
   ],
   "source": [
    "from sklearn.linear_model import Ridge\n",
    "import matplotlib.pylab as plt\n",
    "\n",
    "X_reg_train = X_reg_train.drop('intercept', axis=1)\n",
    "X_reg_test = X_reg_test.drop('intercept', axis=1)\n",
    "names_regressors = [\"bedrooms\",\"bathrooms\",\"sqft_living\",\"sqft_lot\",\"floors\",\"waterfront\",\"view\",\n",
    "\"condition\",\"grade\",\"sqft_above\",\"sqft_basement\",\"yr_built\",\"yr_renovated\",\"lat-long\",\n",
    "\"sqft_living15\",\"sqft_lot15\"]\n",
    "alphas_ = np.logspace(4,-1,base=10)\n",
    "coefs = []\n",
    "\n",
    "\n",
    "model = Ridge(fit_intercept=True, solver='svd') # Se utiliza SVD para obtener los coeficientes\n",
    "for a in alphas_:\n",
    "    model.set_params(alpha=a)\n",
    "    model.fit(X_reg_train, y_reg_train)\n",
    "    coefs.append(model.coef_)\n",
    "ax = plt.gca()\n",
    "for y_arr, label in zip(np.squeeze(coefs).T, names_regressors):\n",
    "    plt.plot(alphas_, y_arr, label=label)\n",
    "plt.legend()\n",
    "ax.set_xscale('log')\n",
    "ax.set_xlim(ax.get_xlim()[::-1]) # reverse axis\n",
    "plt.xlabel('alpha')\n",
    "plt.ylabel('weights')\n",
    "plt.title('Regularization Path RIDGE')\n",
    "plt.axis('tight')\n",
    "plt.legend(loc=1)\n",
    "plt.show()"
   ]
  },
  {
   "cell_type": "code",
   "execution_count": 146,
   "metadata": {
    "collapsed": false
   },
   "outputs": [
    {
     "name": "stdout",
     "output_type": "stream",
     "text": [
      "Mejor alpha es:  10.0\n",
      "R^2 es:  0.756475383808\n",
      "MSE es:  0.0671221743090362\n"
     ]
    }
   ],
   "source": [
    "from sklearn.linear_model import RidgeCV\n",
    "model = RidgeCV(fit_intercept=True, gcv_mode='svd')\n",
    "model.fit(X_reg_train, y_reg_train)\n",
    "print(\"Mejor alpha es: \", model.alpha_)\n",
    "print(\"R^2 es: \", model.score(X_reg_test, y_reg_test))\n",
    "print(\"MSE es: \", np.mean(np.power(model.predict(X_reg_test) - y_reg_test, 2)))"
   ]
  },
  {
   "cell_type": "markdown",
   "metadata": {},
   "source": [
    "Podemos ver que Ridge Regression, en general, reduce o penaliza los pesos de las características menos importantes (las de menor varianza, acercándolas a cero). Esta penalización aumenta a medida que aumenta el valor de *alpha*, sin embargo, en este caso las penalizaciones van a ser similares para valores bajos de *alpha*, y sólo con valores extremadamente altos, las penalizaciones serán mayores.\n",
    "\n",
    "Utilizando RidgeCV, podemos inmediatamente realizar pruebas de cross-validation para encontrar el mejor *alpha*, que en este caso, es $10^1$\n",
    "\n",
    "Ahora probaremos con Lasso."
   ]
  },
  {
   "cell_type": "code",
   "execution_count": 147,
   "metadata": {
    "collapsed": false
   },
   "outputs": [
    {
     "data": {
      "image/png": "[encoded data removed]",
      "text/plain": [
       "<matplotlib.figure.Figure at 0xd82ad30>"
      ]
     },
     "metadata": {},
     "output_type": "display_data"
    }
   ],
   "source": [
    "alphas_ = np.logspace(0,-3,base=10)\n",
    "coefs = []\n",
    "\n",
    "\n",
    "model = Lasso(fit_intercept=True)\n",
    "for a in alphas_:\n",
    "    model.set_params(alpha=a)\n",
    "    model.fit(X_reg_train, y_reg_train)\n",
    "    coefs.append(model.coef_)\n",
    "ax = plt.gca()\n",
    "for y_arr, label in zip(np.squeeze(coefs).T, names_regressors):\n",
    "    plt.plot(alphas_, y_arr, label=label)\n",
    "plt.legend()\n",
    "ax.set_xscale('log')\n",
    "ax.set_xlim(ax.get_xlim()[::-1]) # reverse axis\n",
    "plt.xlabel('alpha')\n",
    "plt.ylabel('weights')\n",
    "plt.title('Regularization Path LASSO')\n",
    "plt.axis('tight')\n",
    "plt.legend(loc=1)\n",
    "plt.show()"
   ]
  },
  {
   "cell_type": "code",
   "execution_count": 148,
   "metadata": {
    "collapsed": false
   },
   "outputs": [
    {
     "name": "stdout",
     "output_type": "stream",
     "text": [
      "Mejor alpha es:  0.000366323361348\n",
      "R^2 es:  0.7565173737\n",
      "MSE es:  0.06711060072417424\n"
     ]
    }
   ],
   "source": [
    "from sklearn.linear_model import LassoCV\n",
    "model = LassoCV(fit_intercept=True)\n",
    "model.fit(X_reg_train, y_reg_train)\n",
    "print(\"Mejor alpha es: \", model.alpha_)\n",
    "print(\"R^2 es: \", model.score(X_reg_test, y_reg_test))\n",
    "print(\"MSE es: \", np.mean(np.power(model.predict(X_reg_test) - y_reg_test, 2)))"
   ]
  },
  {
   "cell_type": "markdown",
   "metadata": {},
   "source": [
    "Podemos ver que el caso para Lasso es distinto. Lasso, en general, llega a eliminar los coeficientes de las características de menor varianza (dejandolos como cero), y en este caso mayor sea *alpha*, más características serán eliminadas. Esto permite que Lasso también sea usado como un método de selección de características (*Feature Selection*), si se hacen las pruebas de cross-validation (CV) adecuadas."
   ]
  },
  {
   "cell_type": "markdown",
   "metadata": {},
   "source": [
    "Al igual que Ridge, el ajuste del parámetro *alpha* se puede ver como un problema en sí, y va a afectar el rendimiento del modelo. Podemos graficar el caso de Lasso con varios valores de *alpha* y ver qué ocurre."
   ]
  },
  {
   "cell_type": "code",
   "execution_count": 149,
   "metadata": {
    "collapsed": false,
    "scrolled": true
   },
   "outputs": [
    {
     "data": {
      "image/png": "[encoded data removed]",
      "text/plain": [
       "<matplotlib.figure.Figure at 0xbe58240>"
      ]
     },
     "metadata": {},
     "output_type": "display_data"
    }
   ],
   "source": [
    "alphas_list = np.logspace(0.5,-2,base=10)\n",
    "mse_train = []\n",
    "mse_test = []\n",
    "for i in alphas_list:\n",
    "    model_graph = Lasso(alpha = i, fit_intercept = True)\n",
    "    model_graph.fit(X_reg_train, y_reg_train)\n",
    "    mse_train.append(np.mean(np.power(model_graph.predict(X_reg_train) - y_reg_train, 2)))\n",
    "    mse_test.append(np.mean(np.power(model_graph.predict(X_reg_test) - y_reg_test, 2)))\n",
    "\n",
    "plt.plot(alphas_list, mse_train, color = \"b\", label = \"MSE Training Set\")\n",
    "plt.plot(alphas_list, mse_test, color = \"g\", label = \"MSE Test Set\")\n",
    "plt.xlabel('alpha')\n",
    "plt.ylabel('MSE')\n",
    "plt.title('Error de LASSO')\n",
    "plt.legend(loc=3)\n",
    "plt.gca().invert_xaxis() # reverse axis\n",
    "plt.show()"
   ]
  },
  {
   "cell_type": "code",
   "execution_count": 141,
   "metadata": {
    "collapsed": false
   },
   "outputs": [
    {
     "name": "stdout",
     "output_type": "stream",
     "text": [
      "0.767469483196\n",
      "0.763234217692\n"
     ]
    }
   ],
   "source": [
    "model_ls = LinearRegression(fit_intercept = True)\n",
    "model_ls.fit(X_reg_train, y_reg_train)\n",
    "print(model_ls.score(X_reg_train, y_reg_train))\n",
    "print(model_ls.score(X_reg_test, y_reg_test))"
   ]
  },
  {
   "cell_type": "code",
   "execution_count": 152,
   "metadata": {
    "collapsed": false
   },
   "outputs": [
    {
     "data": {
      "image/png": "[encoded data removed]",
      "text/plain": [
       "<matplotlib.figure.Figure at 0xe1ce4a8>"
      ]
     },
     "metadata": {},
     "output_type": "display_data"
    }
   ],
   "source": [
    "plt.plot(alphas_list, mse_train, color = \"b\", label = \"MSE Training Set\")\n",
    "plt.plot(alphas_list, mse_test, color = \"g\", label = \"MSE Test Set\")\n",
    "plt.xlabel('alpha')\n",
    "plt.ylabel('MSE')\n",
    "plt.title('Error de LASSO')\n",
    "plt.legend(loc=3)\n",
    "plt.gca().invert_xaxis() # reverse axis\n",
    "plt.gca().set_xscale('log')\n",
    "plt.show()"
   ]
  },
  {
   "cell_type": "markdown",
   "metadata": {},
   "source": [
    "Podemos notar que con un *alpha* igual o mayor a $\\approx 0.4$, el error cuadrático medio se estanca para ambos casos (con *set* de entramiento y set de pruebas), sin embargo, con valores menores comienza a reducirse.\n",
    "\n",
    "Utilizando cross-validation mediante LassoCV (usando el mismo *set* de entrenamiento, y CV tipo 3-fold) obtenemos que el mejor *alpha* es aproximadamente $0.000366323361348 \\approx 10^{-4}$. Sin embargo, también podemos buscar un mejor *alpha* usando 10-fold CV, y usando un menor MSE como medida de evaluación."
   ]
  },
  {
   "cell_type": "code",
   "execution_count": 157,
   "metadata": {
    "collapsed": false
   },
   "outputs": [
    {
     "name": "stdout",
     "output_type": "stream",
     "text": [
      "Mejor alpha es:  1.0  , MSE(CV) es:  0.277498496095\n",
      "Mejor alpha es:  0.568986602902  , MSE(CV) es:  0.277498496095\n",
      "Mejor alpha es:  0.323745754282  , MSE(CV) es:  0.2739696934\n",
      "Mejor alpha es:  0.281176869797  , MSE(CV) es:  0.268229377715\n",
      "Mejor alpha es:  0.244205309455  , MSE(CV) es:  0.261532320448\n",
      "Mejor alpha es:  0.212095088792  , MSE(CV) es:  0.254161983117\n",
      "Mejor alpha es:  0.184206996933  , MSE(CV) es:  0.246260895908\n",
      "Mejor alpha es:  0.159985871961  , MSE(CV) es:  0.238321060662\n",
      "Mejor alpha es:  0.138949549437  , MSE(CV) es:  0.230590798759\n",
      "Mejor alpha es:  0.120679264064  , MSE(CV) es:  0.223225427117\n",
      "Mejor alpha es:  0.104811313415  , MSE(CV) es:  0.216299631015\n",
      "Mejor alpha es:  0.0910298177992  , MSE(CV) es:  0.209776555616\n",
      "Mejor alpha es:  0.0790604321091  , MSE(CV) es:  0.203667017863\n",
      "Mejor alpha es:  0.0686648845004  , MSE(CV) es:  0.197972734083\n",
      "Mejor alpha es:  0.0596362331659  , MSE(CV) es:  0.192606480831\n",
      "Mejor alpha es:  0.0517947467923  , MSE(CV) es:  0.187552263023\n",
      "Mejor alpha es:  0.0449843266897  , MSE(CV) es:  0.182797226883\n",
      "Mejor alpha es:  0.0390693993705  , MSE(CV) es:  0.178315574306\n",
      "Mejor alpha es:  0.033932217719  , MSE(CV) es:  0.174100827089\n",
      "Mejor alpha es:  0.0294705170255  , MSE(CV) es:  0.170143911401\n",
      "Mejor alpha es:  0.025595479227  , MSE(CV) es:  0.166426781195\n",
      "Mejor alpha es:  0.0222299648253  , MSE(CV) es:  0.162933254585\n",
      "Mejor alpha es:  0.0193069772888  , MSE(CV) es:  0.159650120442\n",
      "Mejor alpha es:  0.0167683293681  , MSE(CV) es:  0.156563580958\n",
      "Mejor alpha es:  0.014563484775  , MSE(CV) es:  0.153658957535\n",
      "Mejor alpha es:  0.0126485521686  , MSE(CV) es:  0.150922158889\n",
      "Mejor alpha es:  0.0109854114199  , MSE(CV) es:  0.148341194533\n",
      "Mejor alpha es:  0.0095409547635  , MSE(CV) es:  0.145904709793\n",
      "Mejor alpha es:  0.00828642772855  , MSE(CV) es:  0.143602072537\n",
      "Mejor alpha es:  0.00719685673001  , MSE(CV) es:  0.141423427388\n",
      "Mejor alpha es:  0.00625055192527  , MSE(CV) es:  0.139359741011\n",
      "Mejor alpha es:  0.00542867543932  , MSE(CV) es:  0.137402593125\n",
      "Mejor alpha es:  0.00471486636346  , MSE(CV) es:  0.135544170435\n",
      "Mejor alpha es:  0.00409491506238  , MSE(CV) es:  0.133777440223\n",
      "Mejor alpha es:  0.00355648030622  , MSE(CV) es:  0.132095986021\n",
      "Mejor alpha es:  0.00308884359648  , MSE(CV) es:  0.13049389675\n",
      "Mejor alpha es:  0.00268269579528  , MSE(CV) es:  0.128965702064\n",
      "Mejor alpha es:  0.00232995181052  , MSE(CV) es:  0.127506489829\n",
      "Mejor alpha es:  0.00202358964773  , MSE(CV) es:  0.126111774163\n",
      "Mejor alpha es:  0.00175751062485  , MSE(CV) es:  0.124777407857\n",
      "Mejor alpha es:  0.00152641796718  , MSE(CV) es:  0.123499587627\n",
      "Mejor alpha es:  0.00132571136559  , MSE(CV) es:  0.122274830685\n",
      "Mejor alpha es:  0.00115139539933  , MSE(CV) es:  0.121099905309\n",
      "Mejor alpha es:  0.001  , MSE(CV) es:  0.119971860973\n"
     ]
    }
   ],
   "source": [
    "from sklearn.linear_model import Lasso\n",
    "MSE = lambda y,yhat: np.mean(np.power(y-yhat,2))\n",
    "Xm = Xtrain.as_matrix()\n",
    "ym = ytrain.as_matrix()\n",
    "from sklearn import cross_validation\n",
    "k_fold = cross_validation.KFold(len(Xm),10)\n",
    "best_cv_mse = float(\"inf\")\n",
    "model = Lasso(fit_intercept=True)\n",
    "mse_list_k10 = []\n",
    "alphas_list = []\n",
    "best_mse_list = []\n",
    "for a in alphas_:\n",
    "    model.set_params(alpha=a)\n",
    "    for train,vald in k_fold:\n",
    "        cross_scaler = StandardScaler().fit(Xm[train])\n",
    "        df_cross_train = pd.DataFrame(cross_scaler.transform(Xm[train]),\n",
    "        columns=Xtrain.columns)\n",
    "        df_cross_train.insert(df_cross_train.shape[1], 'intercept',\n",
    "        np.ones(df_cross_train.shape[0]))\n",
    "        df_cross_test = pd.DataFrame(cross_scaler.transform(Xm[vald]),\n",
    "        columns=Xtrain.columns)\n",
    "        df_cross_test.insert(df_cross_test.shape[1], 'intercept',\n",
    "        np.ones(df_cross_test.shape[0]))\n",
    "        mse_list_k10.append(MSE(model.fit(df_cross_train, ym[train]).predict(df_cross_test),ym[vald]))\n",
    "    if np.mean(mse_list_k10) < best_cv_mse:\n",
    "        best_cv_mse = np.mean(mse_list_k10)\n",
    "        best_alpha = a\n",
    "        alphas_list.append(a)\n",
    "        best_mse_list.append(best_cv_mse)\n",
    "        print(\"Mejor alpha es: \", best_alpha, \" , MSE(CV) es: \" , best_cv_mse)"
   ]
  },
  {
   "cell_type": "code",
   "execution_count": 162,
   "metadata": {
    "collapsed": false
   },
   "outputs": [
    {
     "data": {
      "image/png": "[encoded data removed]",
      "text/plain": [
       "<matplotlib.figure.Figure at 0xc5fe080>"
      ]
     },
     "metadata": {},
     "output_type": "display_data"
    }
   ],
   "source": [
    "n_iter = []\n",
    "mse_test = []\n",
    "for i in alphas_list:\n",
    "    model_graph = Lasso(alpha = i, fit_intercept = True)\n",
    "    model_graph.fit(X_reg_train, y_reg_train)\n",
    "    n_iter.append(model_graph.n_iter_)\n",
    "    mse_test.append(np.mean(np.power(model_graph.predict(X_reg_test) - y_reg_test, 2)))\n",
    "\n",
    "plt.plot(alphas_list, mse_test, color = \"g\", label = \"MSE Test Set\")\n",
    "plt.xlabel('alpha')\n",
    "plt.ylabel('MSE')\n",
    "plt.title('Error de LASSO')\n",
    "plt.legend(loc=3)\n",
    "plt.gca().invert_xaxis() # reverse axis\n",
    "plt.gca().set_xscale('log')\n",
    "plt.show()"
   ]
  },
  {
   "cell_type": "code",
   "execution_count": 161,
   "metadata": {
    "collapsed": false
   },
   "outputs": [
    {
     "data": {
      "image/png": "[encoded data removed]",
      "text/plain": [
       "<matplotlib.figure.Figure at 0xb69aef0>"
      ]
     },
     "metadata": {},
     "output_type": "display_data"
    }
   ],
   "source": [
    "plt.plot(alphas_list, n_iter, color = \"b\", label = \"n_iter_\")\n",
    "plt.xlabel('alpha')\n",
    "plt.ylabel('Numero de Iteraciones')\n",
    "plt.title('Numero de Iteraciones según alpha de LASSO')\n",
    "plt.legend(loc=3)\n",
    "plt.gca().invert_xaxis() # reverse axis\n",
    "plt.gca().set_xscale('log')\n",
    "plt.show()"
   ]
  },
  {
   "cell_type": "markdown",
   "metadata": {},
   "source": [
    "Podemos darnos cuenta que en este caso, un test de CV nos indica que el MSE promedio va bajando a medida que reducimos *alpha*, sin embargo, esto tiene un costo asociado: el número de iteraciones de Lasso va en aumento, lo que hace que el tiempo de ejecución vaya subiendo. Según la aplicación de nuestro análisis, puede que intentemos buscar el mejor *alpha* para minimizar el MSE de nuestro modelo en general, e intentar maximizar nuestro $R^2$, pero hay que recordar que existen otros factores importantes, como son el tiempo de ejecución, el uso de memoria y el nivel de generalización que vayamos a obtener con el modelo."
   ]
  },
  {
   "cell_type": "markdown",
   "metadata": {},
   "source": [
    "## 4. Análisis del data set de películas: Movie$ Data Corpus\n",
    "\n",
    "A continuación se hará un análisis del dataset \"Movie$ Data Corpus\". Este conjunto tiene 145256 características, debido a todas las combinaciones de palabras posibles de las críticas/reviews de cada película. Por lo tanto, se debe tratar con herramientas hechas para matrices *sparse*.\n",
    "\n",
    "### a. Análisis Inicial\n",
    "\n",
    "Son 1147 elementos de entrenamiento, 254 elementos de prueba, y 317 elementos para el cross-validation.\n",
    "\n",
    "Se comenzará cargando los datos."
   ]
  },
  {
   "cell_type": "code",
   "execution_count": 215,
   "metadata": {
    "collapsed": true
   },
   "outputs": [],
   "source": [
    "import pandas as pd\n",
    "import numpy as np\n",
    "from scipy.sparse import csc_matrix\n",
    "from scipy.io import mmread\n",
    "from sklearn.metrics import mean_squared_error\n",
    "\n",
    "\n",
    "#X_movies = pd.SparseDataFrame( csr_matrix(mmread('train.x.mm')) )\n",
    "X_movies = csc_matrix(mmread('train.x.mm'))\n",
    "y_movies = np.loadtxt('train.y.dat')\n",
    "X_movies_dev = csc_matrix(mmread('dev.x.mm'))\n",
    "y_movies_dev = np.loadtxt('dev.y.dat')\n",
    "X_movies_test = csc_matrix(mmread('test.x.mm'))\n",
    "y_movies_test = np.loadtxt('test.y.dat')"
   ]
  },
  {
   "cell_type": "markdown",
   "metadata": {},
   "source": [
    "Intentando hacer una regresión lineal convencional, obtenemos resultados mediocres con un error muy alto."
   ]
  },
  {
   "cell_type": "code",
   "execution_count": 216,
   "metadata": {
    "collapsed": false
   },
   "outputs": [
    {
     "name": "stdout",
     "output_type": "stream",
     "text": [
      "Usando regresión lineal ordinaria, sin preprocesamiento, R^2 es:  0.590314359229\n",
      "MSE:  1.9509771333e+14\n"
     ]
    }
   ],
   "source": [
    "import sklearn.linear_model as lm\n",
    "model = lm.LinearRegression(fit_intercept = False)\n",
    "model.fit(X_movies, y_movies)\n",
    "print(\"Usando regresión lineal ordinaria, sin preprocesamiento, R^2 es: \", model.score(X_movies_test, y_movies_test))\n",
    "y_movies_pred = model.predict(X_movies_test)\n",
    "print(\"MSE: \", mean_squared_error(y_movies_test, y_movies_pred))"
   ]
  },
  {
   "cell_type": "markdown",
   "metadata": {},
   "source": [
    "Antes de probar otros modelos, ya que la variable objetivo será la ganancia de las películas, se hará una **Transformación Logarítmica** a los y."
   ]
  },
  {
   "cell_type": "code",
   "execution_count": 217,
   "metadata": {
    "collapsed": true
   },
   "outputs": [],
   "source": [
    "y_movies = np.log(y_movies)\n",
    "y_movies_dev = np.log(y_movies_dev)\n",
    "y_movies_test = np.log(y_movies_test)"
   ]
  },
  {
   "cell_type": "markdown",
   "metadata": {},
   "source": [
    "Según la documentación de Scikit, no se debe usar estandarización mediante StandardScaler con datos *sparse* debido a que se arruinaría su estructura. Por lo tanto, se recomiendaría usar MaxAbsScaler, el cual hace un *scaling* de cada característica con tal de que el valor máximo de cada una sea 1.0. Vamos a intentar realizar *scaling* con este preprocesador."
   ]
  },
  {
   "cell_type": "code",
   "execution_count": 218,
   "metadata": {
    "collapsed": false
   },
   "outputs": [
    {
     "name": "stdout",
     "output_type": "stream",
     "text": [
      "Usando regresión lineal ordinaria, con estandarizacion MaxAbsScaler, R^2 es:  0.362029825727\n",
      "MSE:  7.09634213212\n"
     ]
    }
   ],
   "source": [
    "from sklearn.preprocessing import MaxAbsScaler\n",
    "from scipy.sparse import hstack\n",
    "\n",
    "\n",
    "scaler_movies = MaxAbsScaler().fit(X_movies) # Para matriz sparse\n",
    "X_scaled_movies_train = scaler_movies.transform(X_movies)\n",
    "\n",
    "# Se ingresa columna de unos, que son los pesos o coeficientes del primer parametro (el intercepto, beta_0)\n",
    "matriz_de_unos = csc_matrix(np.ones(X_scaled_movies_train.shape[0])[:, None])\n",
    "X_scaled_movies_train = hstack((X_scaled_movies_train, matriz_de_unos))\n",
    "\n",
    "model_movies = lm.LinearRegression(fit_intercept = False)\n",
    "model_movies.fit(X_scaled_movies_train, y_movies)\n",
    "\n",
    "#scaler_movies_test = MaxAbsScaler().fit(X_movies_test) # Para matriz sparse\n",
    "X_scaled_movies_test = scaler_movies.transform(X_movies_test)\n",
    "matriz_de_unos = csc_matrix(np.ones(X_scaled_movies_test.shape[0])[:, None])\n",
    "X_scaled_movies_test = hstack((X_scaled_movies_test, matriz_de_unos))\n",
    "r2_2 = model_movies.score(X_scaled_movies_test, y_movies_test)\n",
    "\n",
    "print(\"Usando regresión lineal ordinaria, con estandarizacion MaxAbsScaler, R^2 es: \", r2_2)\n",
    "print(\"MSE: \", mean_squared_error(y_movies_test, model_movies.predict(X_scaled_movies_test)))"
   ]
  },
  {
   "cell_type": "markdown",
   "metadata": {},
   "source": [
    "La regresión lineal presenta un peor rendimiento, pero al menos el error cuadrático medio es más legible.\n",
    "\n",
    "### b. Feature Selection\n",
    "\n",
    "Debido a que tenemos demasiadas características, vamos a intentar hacer **Feature Selection**.\n",
    "\n",
    "Se comenzará con un algoritmo de selección simple: VarianceThreshold, el cual elimina las características que tengan una varianza menor a cierto *threshold*.\n",
    "\n",
    "Pensando en que este dataset tiene muchas variables binarias, si es que queremos eliminar las variables que tienen el mismo valor en 95% de las muestras, podemos obtener este *threshold* de la varianza usando la fórmula de varianza de la función de Bernoulli:\n",
    "\n",
    "$$Var[X] = p (1-p)$$\n",
    "\n",
    "Probaremos con $p = 0.95$"
   ]
  },
  {
   "cell_type": "code",
   "execution_count": 219,
   "metadata": {
    "collapsed": true
   },
   "outputs": [],
   "source": [
    "from sklearn.feature_selection import VarianceThreshold\n",
    "\n",
    "var_threshold = (.95 * (1 - .95))\n",
    "sel = VarianceThreshold(threshold=var_threshold)\n",
    "X_movies_fs_var = sel.fit_transform(X_scaled_movies_train)\n",
    "X_movies_test_fs_var = sel.transform(X_scaled_movies_test)"
   ]
  },
  {
   "cell_type": "code",
   "execution_count": 220,
   "metadata": {
    "collapsed": false
   },
   "outputs": [
    {
     "name": "stdout",
     "output_type": "stream",
     "text": [
      "(1147, 193)\n",
      "(254, 193)\n"
     ]
    }
   ],
   "source": [
    "print(X_movies_fs_var.shape)\n",
    "print(X_movies_test_fs_var.shape)"
   ]
  },
  {
   "cell_type": "markdown",
   "metadata": {},
   "source": [
    "Con esta selección sólo quedan 193 variables."
   ]
  },
  {
   "cell_type": "code",
   "execution_count": 221,
   "metadata": {
    "collapsed": false
   },
   "outputs": [
    {
     "name": "stdout",
     "output_type": "stream",
     "text": [
      "Usando regresión lineal ordinaria, al usar feat. selection, R^2 es:  0.754234300908\n",
      "MSE:  2.73372887233\n"
     ]
    }
   ],
   "source": [
    "import sklearn.linear_model as lm\n",
    "model = lm.LinearRegression(fit_intercept = False)\n",
    "model.fit(X_movies_fs_var, y_movies)\n",
    "print(\"Usando regresión lineal ordinaria, al usar feat. selection, R^2 es: \", model.score(X_movies_test_fs_var, y_movies_test))\n",
    "print(\"MSE: \", mean_squared_error(y_movies_test, model.predict(X_movies_test_fs_var)))"
   ]
  },
  {
   "cell_type": "code",
   "execution_count": 222,
   "metadata": {
    "collapsed": false
   },
   "outputs": [
    {
     "name": "stdout",
     "output_type": "stream",
     "text": [
      "Numero de atributos que quedaron con pesos no nulos:  193\n",
      "VV_choke , VV_being , NY_crime , VV_himself , NY_producer , VV_de , EW_fake , VV_appear , NY_<TOKNUM> , VA_gangster , NY_pervasive , NY_hard , NY_states , VV_deep , VA_more , NY_clear , VV_neighborhood , VV_spite , NY_imperative , NY_rape , NY_exposition , NY_diabolical , VV_story , NY_silent , VA_rep , VA_relationship , VA_iffy , VV_crazy , NY_age , VA_topic , NY_together , VA_plot , VA_joey , EW_high , NY_tina , NY_neighborhood , NY_insist , NY_class , NY_persian , EW_knockoff , NY_touch , VA_implication , NY_time , NY_relish , NY_not , VA_court , VA_tech , NY_agent , NY_connect , NY_only , VV_join , VV_marsden , VV_up , VV_enable , VV_his , VA_well , VV_knee , VA_all , VA_wolf , VV_mostly , VA_story , VA_thanks , NY_half , VA_storm , VA_philadelphia , VA_informant , VA_rac , NY_women , VV_watch , VV_muck , NY_packed , VA_gulf , VV_blood , EW_face , NY_drug , VA_cousin , VV_returns , NY_city , NY_guy , NY_front , VA_kid , NY_harvey , NY_hysterical , NY_exit , NY_without , NY_wire , NY_violence , VV_vincent , VV_crash , VA_leslie , VA_turn , EW_skin , NY_rage , EW_rest , EW_late , NY_provide , NY_narration , VV_grow , VV_time , VV_or , NY_morality , NY_stew , NY_partner , NY_nobility , VA_resemblance , VV_nonstop , VA_they , NY_united , EW_smash , VV_name , NY_simmer , NY_member , EW_max , EW_war , EW_bottle , NY_good , NY_winning , VA_crash , NY_mind , NY_technical , NY_immediately , VA_scarface , VA_agree , NY_aunt , NY_got , NY_sympathy , NY_agenda , NY_menace , NY_father , NY_hybrid , VA_people , NY_prison , NY_information , VA_feature , VA_ambition , VA_sudden , EW_s , VA_officer , NY_usual , VA_than , NY_occur , NY_urban , VA_guy , VA_devotion , NY_two , NY_adult , VA_take , VA_traffick , VV_rising , VA_like , EW_slick , EW_stage , NY_club , VA_despite , NY_dad , VA_reluctant , VA_piper , NY_revenge , VA_become , NY_academy , NY_deserve , NY_dash , NY_attempt , VV_joey , NY_nowadays , NY_loyalty , VA_cast , VA_quite , NY_blood , VV_enliven , VA_evidence , VV_never , NY_event , NY_try , VV_joseph , VA_while , NY_stole , NY_recall , VA_flashback , EW_veteran , VA_when , VV_wolf , VV_co , NY_husband , NY_crash , NY_stereotype , EW_but , EW_james , VV_gun , VA_feel , VA_brian , VA_ann , VV_cold , "
     ]
    }
   ],
   "source": [
    "print( \"Numero de atributos que quedaron con pesos no nulos: \", np.count_nonzero(model.coef_) )\n",
    "import linecache\n",
    "for i in (np.nonzero(model.coef_)[0]):\n",
    "    print(linecache.getline('vocab', i+1).split()[0], \", \", end='')"
   ]
  },
  {
   "cell_type": "markdown",
   "metadata": {},
   "source": [
    "Obtuvimos un $R^2$ mejor que antes, pero el error aún es significativo.\n",
    "\n",
    "Ahora vamos a intentar **Recursive Feature Elimination (RFE)**, lo cual es básicamente ir probando cierto estimador (en este caso, regresión lineal) eliminando variables (características) una en una hasta llegar a cierto número (por defecto, la mitad de las variables iniciales).\n",
    "\n",
    "Esto es parecido a lo que se hizo anteriormente con FSS (Forward Step Selection). Lamentablemente, ya que tenemos demasiadas características y el costo computacional de RFE es alto, primero se utilizará VarianceThreshold con $p=0.96$, y luego se ejecutará RFE para seleccionar 100 características."
   ]
  },
  {
   "cell_type": "code",
   "execution_count": 223,
   "metadata": {
    "collapsed": false
   },
   "outputs": [
    {
     "name": "stdout",
     "output_type": "stream",
     "text": [
      "(1147, 429)\n",
      "(254, 429)\n",
      "(1147, 100)\n",
      "(254, 100)\n"
     ]
    }
   ],
   "source": [
    "from sklearn.feature_selection import RFE\n",
    "from sklearn.feature_selection import VarianceThreshold\n",
    "\n",
    "var_threshold = (.96 * (1 - .96))\n",
    "sel_1 = VarianceThreshold(threshold=var_threshold)\n",
    "X_movies_fs_var = sel_1.fit_transform(X_scaled_movies_train)\n",
    "X_movies_test_fs_var = sel_1.transform(X_scaled_movies_test)\n",
    "\n",
    "print(X_movies_fs_var.shape)\n",
    "print(X_movies_test_fs_var.shape)\n",
    "\n",
    "sel_2 = RFE(lm.LinearRegression(fit_intercept = False), n_features_to_select=100)\n",
    "\n",
    "X_movies_fs_kb = sel_2.fit_transform(X_movies_fs_var, y_movies)\n",
    "X_movies_test_fs_kb = sel_2.transform(X_movies_test_fs_var)\n",
    "\n",
    "print(X_movies_fs_kb.shape)\n",
    "print(X_movies_test_fs_kb.shape)"
   ]
  },
  {
   "cell_type": "code",
   "execution_count": 224,
   "metadata": {
    "collapsed": false
   },
   "outputs": [
    {
     "name": "stdout",
     "output_type": "stream",
     "text": [
      "Usando regresión lineal ordinaria, al usar feat. selection, R^2 es:  0.756473655381\n",
      "MSE:  2.70881983091\n"
     ]
    }
   ],
   "source": [
    "import sklearn.linear_model as lm\n",
    "model = lm.LinearRegression(fit_intercept = False)\n",
    "model.fit(X_movies_fs_kb, y_movies)\n",
    "print(\"Usando regresión lineal ordinaria, al usar feat. selection, R^2 es: \", model.score(X_movies_test_fs_kb, y_movies_test))\n",
    "print(\"MSE: \", mean_squared_error(y_movies_test, model.predict(X_movies_test_fs_kb)))"
   ]
  },
  {
   "cell_type": "code",
   "execution_count": 225,
   "metadata": {
    "collapsed": false
   },
   "outputs": [
    {
     "name": "stdout",
     "output_type": "stream",
     "text": [
      "Numero de atributos que quedaron con pesos no nulos:  100\n",
      "VV_choke , VV_being , NY_crime , VV_himself , NY_producer , VV_de , EW_fake , VV_appear , NY_<TOKNUM> , VA_gangster , NY_pervasive , NY_hard , NY_states , VV_deep , VA_more , NY_clear , VV_neighborhood , VV_spite , NY_imperative , NY_rape , NY_exposition , NY_diabolical , VV_story , NY_silent , VA_rep , VA_relationship , VA_iffy , VV_crazy , NY_age , VA_topic , NY_together , VA_plot , VA_joey , EW_high , NY_tina , NY_neighborhood , NY_insist , NY_class , NY_persian , EW_knockoff , NY_touch , VA_implication , NY_time , NY_relish , NY_not , VA_court , VA_tech , NY_agent , NY_connect , NY_only , VV_join , VV_marsden , VV_up , VV_enable , VV_his , VA_well , VV_knee , VA_all , VA_wolf , VV_mostly , VA_story , VA_thanks , NY_half , VA_storm , VA_philadelphia , VA_informant , VA_rac , NY_women , VV_watch , VV_muck , NY_packed , VA_gulf , VV_blood , EW_face , NY_drug , VA_cousin , VV_returns , NY_city , NY_guy , NY_front , VA_kid , NY_harvey , NY_hysterical , NY_exit , NY_without , NY_wire , NY_violence , VV_vincent , VV_crash , VA_leslie , VA_turn , EW_skin , NY_rage , EW_rest , EW_late , NY_provide , NY_narration , VV_grow , VV_time , VV_or , "
     ]
    }
   ],
   "source": [
    "print( \"Numero de atributos que quedaron con pesos no nulos: \", np.count_nonzero(model.coef_) )\n",
    "import linecache\n",
    "for i in (np.nonzero(model.coef_)[0]):\n",
    "    print(linecache.getline('vocab', i+1).split()[0], \", \", end='')"
   ]
  },
  {
   "cell_type": "markdown",
   "metadata": {},
   "source": [
    "Logramos llegar a un modelo de sólo 100 características con un R^2 bastante decente, sin embargo, quizás sea necesario utilizar otro algoritmo con tal de llegar a un modelo bueno.\n",
    "\n",
    "Viendo que nuestra matriz de datos inicial es *sparse*, y buscando la necesidad de no tener que utilizar las 145256 características, vamos a intentar con el estimador Lasso. Comenzaremos con un $\\alpha = 0.6$ y tres conjuntos de datos: El original, uno con el *scaling*, y uno que tiene *scaling* y las 100 características obtenidas anteriormente."
   ]
  },
  {
   "cell_type": "code",
   "execution_count": 226,
   "metadata": {
    "collapsed": false
   },
   "outputs": [
    {
     "name": "stdout",
     "output_type": "stream",
     "text": [
      "Usando Lasso sin scaling de la data, R^2 es:  0.823362503132\n",
      "MSE:  1.9647942203\n"
     ]
    }
   ],
   "source": [
    "# Datos originales\n",
    "\n",
    "from sklearn.linear_model import Lasso\n",
    "alpha = 0.6\n",
    "model = Lasso(alpha=alpha, tol=0.0001)\n",
    "model.fit(X_movies, y_movies)\n",
    "y_movies_pred_lasso = model.predict(X_movies_test)\n",
    "print(\"Usando Lasso sin scaling de la data, R^2 es: \", model.score(X_movies_test, y_movies_test))\n",
    "\n",
    "from sklearn.metrics import mean_squared_error\n",
    "print(\"MSE: \", mean_squared_error(y_movies_test, y_movies_pred_lasso))"
   ]
  },
  {
   "cell_type": "code",
   "execution_count": 227,
   "metadata": {
    "collapsed": false
   },
   "outputs": [
    {
     "name": "stdout",
     "output_type": "stream",
     "text": [
      "Usando Lasso con scaling de la data, R^2 es:  0.444710633804\n",
      "MSE:  6.17665759899\n"
     ]
    }
   ],
   "source": [
    "# Datos con scaling\n",
    "\n",
    "alpha = 0.6\n",
    "model = Lasso(alpha=alpha, tol=0.0001)\n",
    "model.fit(X_scaled_movies_train, y_movies)\n",
    "y_movies_pred_lasso = model.predict(X_scaled_movies_test)\n",
    "print(\"Usando Lasso con scaling de la data, R^2 es: \", model.score(X_scaled_movies_test, y_movies_test))\n",
    "print(\"MSE: \", mean_squared_error(y_movies_test, y_movies_pred_lasso))"
   ]
  },
  {
   "cell_type": "code",
   "execution_count": 228,
   "metadata": {
    "collapsed": false
   },
   "outputs": [
    {
     "name": "stdout",
     "output_type": "stream",
     "text": [
      "Usando Lasso con scaling de la data y feat. selection, R^2 es:  0.444710631903\n",
      "MSE:  6.17665762014\n"
     ]
    }
   ],
   "source": [
    "# Datos con scaling y 100 features\n",
    "\n",
    "alpha = 0.6\n",
    "model = Lasso(alpha=alpha, tol=0.0001)\n",
    "model.fit(X_movies_fs_kb, y_movies)\n",
    "y_movies_pred_lasso = model.predict(X_movies_test_fs_kb)\n",
    "print(\"Usando Lasso con scaling de la data y feat. selection, R^2 es: \", model.score(X_movies_test_fs_kb, y_movies_test))\n",
    "print(\"MSE: \", mean_squared_error(y_movies_test, y_movies_pred_lasso))"
   ]
  },
  {
   "cell_type": "markdown",
   "metadata": {},
   "source": [
    "Al igual que el caso de regresión lineal ordinaria, obtuvimos un peor rendimiento al hacer *scaling*. Pero antes de descartar este preprocesamiento, utilizaremos LassoCV para encontrar un *alpha* mejor."
   ]
  },
  {
   "cell_type": "code",
   "execution_count": 229,
   "metadata": {
    "collapsed": false
   },
   "outputs": [
    {
     "name": "stdout",
     "output_type": "stream",
     "text": [
      "Usando LassoCV con scaling de la data, R^2 es:  0.857778934138\n",
      "MSE:  1.58196947514\n",
      "Alpha optimo obtenido es:  0.00163609684932\n"
     ]
    }
   ],
   "source": [
    "# Datos con scaling y 100 features, con LassoCV\n",
    "\n",
    "from sklearn.linear_model import LassoCV\n",
    "model = LassoCV(tol=0.001)\n",
    "model.fit(X_movies_fs_kb, y_movies)\n",
    "y_movies_pred_lasso = model.predict(X_movies_test_fs_kb)\n",
    "print(\"Usando LassoCV con scaling de la data, R^2 es: \", model.score(X_movies_test_fs_kb, y_movies_test))\n",
    "print(\"MSE: \", mean_squared_error(y_movies_test, y_movies_pred_lasso))\n",
    "\n",
    "alpha_optimo = model.alpha_\n",
    "print(\"Alpha optimo obtenido es: \", alpha_optimo)"
   ]
  },
  {
   "cell_type": "markdown",
   "metadata": {},
   "source": [
    "Obtuvimos un $\\alpha \\approx 0.00163609684932$. Intentemos usar este *alpha* en los otros dos casos (datos originales y datos solo con *scaling*)"
   ]
  },
  {
   "cell_type": "code",
   "execution_count": 206,
   "metadata": {
    "collapsed": false
   },
   "outputs": [
    {
     "name": "stdout",
     "output_type": "stream",
     "text": [
      "Usando Lasso sin scaling de la data, R^2 es:  0.766890970983\n",
      "MSE:  2.5929447656\n"
     ]
    },
    {
     "name": "stderr",
     "output_type": "stream",
     "text": [
      "C:\\Users\\Boti\\Anaconda3\\lib\\site-packages\\sklearn\\linear_model\\coordinate_descent.py:491: ConvergenceWarning: Objective did not converge. You might want to increase the number of iterations. Fitting data with very small alpha may cause precision problems.\n",
      "  ConvergenceWarning)\n"
     ]
    }
   ],
   "source": [
    "# Datos originales, alpha optimo\n",
    "\n",
    "alpha = alpha_optimo\n",
    "model = Lasso(alpha=alpha, tol=0.0001)\n",
    "model.fit(X_movies, y_movies)\n",
    "y_movies_pred_lasso = model.predict(X_movies_test)\n",
    "print(\"Usando Lasso sin scaling de la data, R^2 es: \", model.score(X_movies_test, y_movies_test))\n",
    "\n",
    "from sklearn.metrics import mean_squared_error\n",
    "print(\"MSE: \", mean_squared_error(y_movies_test, y_movies_pred_lasso))"
   ]
  },
  {
   "cell_type": "code",
   "execution_count": 230,
   "metadata": {
    "collapsed": false
   },
   "outputs": [
    {
     "name": "stdout",
     "output_type": "stream",
     "text": [
      "Usando Lasso con scaling de la data, R^2 es:  0.834952584334\n",
      "MSE:  1.83587411578\n"
     ]
    }
   ],
   "source": [
    "# Datos con scaling, alpha optimo\n",
    "\n",
    "alpha = alpha_optimo\n",
    "model = Lasso(alpha=alpha, tol=0.0001)\n",
    "model.fit(X_scaled_movies_train, y_movies)\n",
    "y_movies_pred_lasso = model.predict(X_scaled_movies_test)\n",
    "print(\"Usando Lasso con scaling de la data, R^2 es: \", model.score(X_scaled_movies_test, y_movies_test))\n",
    "print(\"MSE: \", mean_squared_error(y_movies_test, y_movies_pred_lasso))"
   ]
  },
  {
   "cell_type": "markdown",
   "metadata": {},
   "source": [
    "El procesamiento de estos dos casos tarda mucho (con un *timeout* en el caso de los datos originales sin *scaling*), y no logra obtener mejoras significativas en el rendimiento del modelo. Por lo tanto, nos quedaremos con nuestro modelo *scaled* de 100 características con Lasso.\n",
    "\n",
    "Sin embargo, debemos recordar que Lasso podría haber eliminado alguna de estas 100 variables. Volveremos al caso elegido y verificaremos."
   ]
  },
  {
   "cell_type": "markdown",
   "metadata": {},
   "source": [
    "### c. Modelo elegido"
   ]
  },
  {
   "cell_type": "code",
   "execution_count": 231,
   "metadata": {
    "collapsed": false
   },
   "outputs": [
    {
     "name": "stdout",
     "output_type": "stream",
     "text": [
      "Usando Lasso con scaling de la data y feat. selection, R^2 es:  0.857820819772\n",
      "MSE:  1.58150356811\n"
     ]
    }
   ],
   "source": [
    "# Datos con scaling y 100 features, usando alpha optimo\n",
    "\n",
    "alpha = alpha_optimo\n",
    "model = Lasso(alpha=alpha, tol=0.0001)\n",
    "model.fit(X_movies_fs_kb, y_movies)\n",
    "y_movies_pred_lasso = model.predict(X_movies_test_fs_kb)\n",
    "print(\"Usando Lasso con scaling de la data y feat. selection, R^2 es: \", model.score(X_movies_test_fs_kb, y_movies_test))\n",
    "print(\"MSE: \", mean_squared_error(y_movies_test, y_movies_pred_lasso))"
   ]
  },
  {
   "cell_type": "code",
   "execution_count": 232,
   "metadata": {
    "collapsed": false
   },
   "outputs": [
    {
     "name": "stdout",
     "output_type": "stream",
     "text": [
      "Numero de atributos que quedaron con pesos no nulos:  61\n",
      "Sus indices son:  (array([ 0,  1,  2,  3,  4,  5, 11, 14, 15, 16, 18, 20, 21, 23, 24, 26, 27,\n",
      "       28, 29, 31, 34, 35, 37, 38, 39, 42, 43, 45, 48, 50, 52, 53, 55, 56,\n",
      "       59, 60, 61, 66, 67, 69, 70, 71, 72, 73, 74, 76, 77, 80, 81, 82, 84,\n",
      "       85, 86, 88, 89, 92, 93, 95, 96, 97, 98], dtype=int64),)\n",
      "Los coeficientes son:  [-0.3165251   0.01111254 -0.5767283   0.43088258  0.62695271  0.38241787\n",
      " -0.02202423  0.18338901  0.21231609  0.23097705 -0.13600673  0.47121312\n",
      " -0.09472101  0.52519087  0.69483648 -0.26852288  0.41809554 -0.0611088\n",
      "  0.40327172  0.17320653 -0.01225841  0.35030942  0.02106562 -0.87488956\n",
      " -0.10832007 -0.26325355 -0.07834724  0.43749891  0.05272507 -0.12207098\n",
      "  0.02999983 -0.36143319  0.08721171  0.56902943  0.21325997  0.32257353\n",
      " -0.45952122 -0.34361018  0.06617758 -1.00243123  0.98048133  0.78240794\n",
      "  0.07792235 -0.00941924  0.06885636  0.00876904  0.35398595 -0.09985895\n",
      "  0.53012202 -0.06318387  0.56884288  0.06259662 -0.33032062 -0.30226624\n",
      "  0.65872202  0.5030989   6.82309371  0.25239516  0.81674601 -0.54612297\n",
      "  0.52692218]\n"
     ]
    }
   ],
   "source": [
    "print( \"Numero de atributos que quedaron con pesos no nulos: \", np.count_nonzero(model.coef_) )\n",
    "print( \"Sus indices son: \", np.nonzero(model.coef_) )\n",
    "print( \"Los coeficientes son: \", model.coef_[np.nonzero(model.coef_)] )"
   ]
  },
  {
   "cell_type": "markdown",
   "metadata": {},
   "source": [
    "Finalmente obtuvimos un modelo lineal de 61 características, las cuales son:"
   ]
  },
  {
   "cell_type": "code",
   "execution_count": 233,
   "metadata": {
    "collapsed": false
   },
   "outputs": [
    {
     "name": "stdout",
     "output_type": "stream",
     "text": [
      "VV_choke      -0.316525098684\n",
      "VV_being      0.0111125378131\n",
      "NY_crime      -0.576728297295\n",
      "VV_himself      0.430882579069\n",
      "NY_producer      0.626952708117\n",
      "VV_de      0.38241786545\n",
      "NY_hard      -0.0220242277666\n",
      "VA_more      0.183389007611\n",
      "NY_clear      0.212316089313\n",
      "VV_neighborhood      0.230977054294\n",
      "NY_imperative      -0.136006730735\n",
      "NY_exposition      0.471213119739\n",
      "NY_diabolical      -0.0947210079785\n",
      "NY_silent      0.525190872079\n",
      "VA_rep      0.694836481371\n",
      "VA_iffy      -0.268522883458\n",
      "VV_crazy      0.418095538887\n",
      "NY_age      -0.0611088023713\n",
      "VA_topic      0.403271720276\n",
      "VA_plot      0.173206531534\n",
      "NY_tina      -0.0122584130601\n",
      "NY_neighborhood      0.35030941577\n",
      "NY_class      0.0210656156058\n",
      "NY_persian      -0.874889561369\n",
      "EW_knockoff      -0.108320074257\n",
      "NY_time      -0.263253551294\n",
      "NY_relish      -0.0783472436504\n",
      "VA_court      0.437498906991\n",
      "NY_connect      0.0527250699229\n",
      "VV_join      -0.122070980488\n",
      "VV_up      0.0299998298199\n",
      "VV_enable      -0.361433189751\n",
      "VA_well      0.0872117080307\n",
      "VV_knee      0.569029434071\n",
      "VV_mostly      0.213259971053\n",
      "VA_story      0.322573532629\n",
      "VA_thanks      -0.459521221356\n",
      "VA_rac      -0.343610180836\n",
      "NY_women      0.0661775821468\n",
      "VV_muck      -1.0024312257\n",
      "NY_packed      0.980481328418\n",
      "VA_gulf      0.782407944854\n",
      "VV_blood      0.0779223490769\n",
      "EW_face      -0.00941924276999\n",
      "NY_drug      0.0688563646772\n",
      "VV_returns      0.00876904451906\n",
      "NY_city      0.353985954532\n",
      "VA_kid      -0.0998589467047\n",
      "NY_harvey      0.530122018511\n",
      "NY_hysterical      -0.0631838715737\n",
      "NY_without      0.568842884816\n",
      "NY_wire      0.0625966241721\n",
      "NY_violence      -0.330320621533\n",
      "VV_crash      -0.302266241139\n",
      "VA_leslie      0.658722022734\n",
      "NY_rage      0.503098896802\n",
      "EW_rest      6.82309371095\n",
      "NY_provide      0.252395157382\n",
      "NY_narration      0.816746010375\n",
      "VV_grow      -0.546122974703\n",
      "VV_time      0.526922176756\n"
     ]
    }
   ],
   "source": [
    "import linecache\n",
    "for i in (np.nonzero(model.coef_)[0]):\n",
    "    print(linecache.getline('vocab', i+1).split()[0], \"    \", (model.coef_)[i])"
   ]
  },
  {
   "cell_type": "markdown",
   "metadata": {},
   "source": [
    "### d. Cross-validation\n",
    "\n",
    "Para terminar, haremos pruebas de cross-validation con K-Folds, usando el conjunto \"dev\" dejado para este fin."
   ]
  },
  {
   "cell_type": "code",
   "execution_count": 237,
   "metadata": {
    "collapsed": false
   },
   "outputs": [
    {
     "name": "stdout",
     "output_type": "stream",
     "text": [
      "[ 0.85973068  0.80912625  0.89023359  0.85741359  0.84573708]\n",
      "[ 0.87988709  0.85145813  0.83243547  0.77546647  0.88674047  0.90328641\n",
      "  0.85752644  0.85179552  0.81095675  0.89510401]\n",
      "[ 0.9099796   0.79226544  0.86090371  0.90448897  0.62082035  0.90843708\n",
      "  0.86247484  0.94920912  0.88015612  0.84723529  0.87916739  0.84181215\n",
      "  0.84966157  0.8390978   0.87169162]\n"
     ]
    }
   ],
   "source": [
    "X_scaled_movies_dev = scaler_movies.transform(X_movies_dev)\n",
    "\n",
    "matriz_de_unos = csc_matrix(np.ones(X_scaled_movies_dev.shape[0])[:, None])\n",
    "X_scaled_movies_dev = hstack((X_scaled_movies_dev, matriz_de_unos))\n",
    "\n",
    "X_scaled_movies_dev = sel_1.transform(X_scaled_movies_dev)\n",
    "\n",
    "X_scaled_movies_dev = sel_2.transform(X_scaled_movies_dev)\n",
    "\n",
    "from sklearn.model_selection import KFold, cross_val_score\n",
    "k_fold = KFold(n_splits=5)\n",
    "#for train_indices, test_indices in k_fold.split(X_movies_fs_kb):\n",
    "#    print('Train: %s | test: %s' % (train_indices, test_indices))\n",
    "print(cross_val_score(Lasso(alpha=alpha_optimo, tol=0.0001), X_scaled_movies_dev, y_movies_dev, cv=KFold(n_splits=5), n_jobs=-1))\n",
    "print(cross_val_score(Lasso(alpha=alpha_optimo, tol=0.0001), X_scaled_movies_dev, y_movies_dev, cv=KFold(n_splits=10), n_jobs=-1))\n",
    "print(cross_val_score(Lasso(alpha=alpha_optimo, tol=0.0001), X_scaled_movies_dev, y_movies_dev, cv=KFold(n_splits=15), n_jobs=-1))"
   ]
  },
  {
   "cell_type": "markdown",
   "metadata": {},
   "source": [
    "Finalmente obtuvimos buenos resultados, con algunas pequeñas excepciones (una de las pruebas 15-fold con un $R^2 \\approx 0.6208$, mientras las demás dieron valores por sobre $0.75$)"
   ]
  },
  {
   "cell_type": "markdown",
   "metadata": {},
   "source": [
    "## Conclusiones\n",
    "\n",
    "Los modelos lineales basados en mínimos cuadrados y regresiones lineales son una de las primeras aproximaciones al campo de *Machine Learning* (ML), presentando métodos utilizados en el campo de la estadística y las ciencias, y contrastando con los elementos que buscan los algoritmos de ML. Si bien las regresiones lineales nos logran generar un modelo supervisado que nos permite obtener valores para cierto $f(x)$ a partir de lo aprendido en datos de entrada anteriores, aún faltan varios pasos para llegar a lo que buscamos.\n",
    "\n",
    "En Machine Learning es necesario que los *learners* o $f(x)$ puedan entregar buenas respuestas ante nuevos datos de entrada no conocidos, las regresiones lineales ordinarias son muy rígidas, y tienden a ajustarse demasiado a los datos de los cuales se creó su función. Es de ahí que aparecen modelos tipo Ridge Regression y Lasso, los cuales buscan hacer que los $f(x)$ sean más generales, al ajustar los coeficientes de la función lineal y penalizando las características con poca varianza y valores altos.\n",
    "\n",
    "Por ello, es necesario tener varias cosas en cuenta antes de desarrollar un modelo lineal con objetivos de regresión o predicción. Primero, un bajo error al probarlo con cierto conjunto de datos no implica que el error sea bajo con todo tipo de datos: hay que saber hacer pruebas más generales, usando técnicas como Hold-Out Validation y K-Folds Validation, y entender bien la importancia de la división de datos de entrenamiento, validación y prueba. Y en segundo lugar, tener cuidado con las métricas de rendimiento: hay que saber de donde vienen, en el caso de modelos lineales, las métricas $R^2$ y $MSE$. Estas métricas tienen definiciones claras y no se deben utilizar para evaluaciones de, por ejemplo, generalización.\n",
    "\n",
    "Finalmente, es necesario mencionar la importancia de los datos en sí: su limpieza, la distribución de éstos, las transformaciones que se deben realizar, y el entendimiento de éstas. Los algoritmos tienen suposiciones que se deben cumplir , como son las distribuciones normales de los datos, falta de correlaciones, tipos de datos, etc. Siempre es necesario verificar qué datos estamos utilizando, con tal de que los algoritmos hagan lo que uno espera que realicen, y que los resultados de nuestro trabajo sean relevantes."
   ]
  },
  {
   "cell_type": "code",
   "execution_count": null,
   "metadata": {
    "collapsed": true
   },
   "outputs": [],
   "source": []
  }
 ],
 "metadata": {
  "anaconda-cloud": {},
  "kernelspec": {
   "display_name": "Python [default]",
   "language": "python",
   "name": "python3"
  },
  "language_info": {
   "codemirror_mode": {
    "name": "ipython",
    "version": 3
   },
   "file_extension": ".py",
   "mimetype": "text/x-python",
   "name": "python",
   "nbconvert_exporter": "python",
   "pygments_lexer": "ipython3",
   "version": "3.5.2"
  }
 },
 "nbformat": 4,
 "nbformat_minor": 2
}
