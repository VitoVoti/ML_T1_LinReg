{
 "cells": [
  {
   "cell_type": "code",
   "execution_count": 1,
   "metadata": {
    "collapsed": false
   },
   "outputs": [],
   "source": [
    "import pandas as pd\n",
    "import numpy as np\n",
    "import sklearn.linear_model as lm\n",
    "import matplotlib.pyplot as plt\n",
    "\n",
    "from pylab import rcParams\n",
    "rcParams['figure.figsize'] = 14, 4"
   ]
  },
  {
   "cell_type": "markdown",
   "metadata": {},
   "source": [
    "# 1 Regresión Lineal Ordinaria (LSS)"
   ]
  },
  {
   "cell_type": "markdown",
   "metadata": {},
   "source": [
    "Se comenzará el informe con la contrucción de un modelo para precedir el precio de una casa. Como datos de entrada se usará un *dataset* con las ventas en el condado de King County, EEUU entre Mayo de 2014 y Mayo de 2015. Para esto, se utilizará una regresión lineal ordinaria basada en LSS (Linear Least Squares)\n",
    "\n",
    "## a) Ingreso de los datos\n",
    "\n",
    "Los datos fueron obtenidos de Kaggle, y se encuentran en un archivo CSV. Las características o *features* id (número identificador), date (fecha) y zipcode (código postal) serán descartadas ya que de ante mano podemos suponer que no tienen relación con el precio de la casa."
   ]
  },
  {
   "cell_type": "code",
   "execution_count": 2,
   "metadata": {
    "collapsed": false
   },
   "outputs": [],
   "source": [
    "df = pd.read_csv(\"kc_house_data.csv\",sep = \",\",header = 0)\n",
    "df = df.drop(['id','date','zipcode'], axis=1)"
   ]
  },
  {
   "cell_type": "markdown",
   "metadata": {},
   "source": [
    "## b) Análisis Descriptivo de los Datos\n",
    "\n",
    "Primero es útil revisar el tamaño del dataset, junto con todo el resto de las características."
   ]
  },
  {
   "cell_type": "code",
   "execution_count": 3,
   "metadata": {
    "collapsed": false
   },
   "outputs": [
    {
     "data": {
      "text/plain": [
       "(21613, 18)"
      ]
     },
     "execution_count": 3,
     "metadata": {},
     "output_type": "execute_result"
    }
   ],
   "source": [
    "df.shape"
   ]
  },
  {
   "cell_type": "code",
   "execution_count": 4,
   "metadata": {
    "collapsed": false
   },
   "outputs": [
    {
     "name": "stdout",
     "output_type": "stream",
     "text": [
      "<class 'pandas.core.frame.DataFrame'>\n",
      "RangeIndex: 21613 entries, 0 to 21612\n",
      "Data columns (total 18 columns):\n",
      "price            21613 non-null float64\n",
      "bedrooms         21613 non-null int64\n",
      "bathrooms        21613 non-null float64\n",
      "sqft_living      21613 non-null int64\n",
      "sqft_lot         21613 non-null int64\n",
      "floors           21613 non-null float64\n",
      "waterfront       21613 non-null int64\n",
      "view             21613 non-null int64\n",
      "condition        21613 non-null int64\n",
      "grade            21613 non-null int64\n",
      "sqft_above       21613 non-null int64\n",
      "sqft_basement    21613 non-null int64\n",
      "yr_built         21613 non-null int64\n",
      "yr_renovated     21613 non-null int64\n",
      "lat              21613 non-null float64\n",
      "long             21613 non-null float64\n",
      "sqft_living15    21613 non-null int64\n",
      "sqft_lot15       21613 non-null int64\n",
      "dtypes: float64(5), int64(13)\n",
      "memory usage: 3.0 MB\n"
     ]
    }
   ],
   "source": [
    "df.info()"
   ]
  },
  {
   "cell_type": "markdown",
   "metadata": {},
   "source": [
    "Tenemos que cada variable representa:\n",
    "\n",
    "**price**: Es el precio de la casa, para nuestro análisis sera la variable a predecir. \n",
    "**bedrooms**: Cantidad de dormitorios que posee la casa. \n",
    "**bathrooms**: Cantidad de baños que posee la casa.\n",
    "**sqft_living**: Pies cuadrados de la casa.\n",
    "**sqft_lot**: Pies cuadrados del terreno donde se encuentra construida la casa.\n",
    "**floors**: Cantidad de pisos que posee la casa.       \n",
    "**waterfront**: Si la casa tiene vista al mar.\n",
    "**view**:            \n",
    "**condition**: Condicion en la que se encuentra la casa.       \n",
    "**grade**: Grado general dado a la unidad de vivienda, basado en el sistema de clasificación del Condado de King.          \n",
    "**sqft_above**: Metros cuadrados de la casa sin el sotano.       \n",
    "**sqft_basement**: Metros cuadrados del sotano.\n",
    "**yr_built**: Año de construccion de la casa.        \n",
    "**yr_renovated**: Año en que la casa fue renovada.   \n",
    "**lat**: Latitud.             \n",
    "**long**: Longitud.            \n",
    "**sqft_living15**: Tamaño del living room al año 2015.   \n",
    "**sqft_lot15**: Tamaño del terreno al año 2015.   "
   ]
  },
  {
   "cell_type": "code",
   "execution_count": 5,
   "metadata": {
    "collapsed": false,
    "scrolled": true
   },
   "outputs": [
    {
     "data": {
      "text/html": [
       "<div>\n",
       "<style>\n",
       "    .dataframe thead tr:only-child th {\n",
       "        text-align: right;\n",
       "    }\n",
       "\n",
       "    .dataframe thead th {\n",
       "        text-align: left;\n",
       "    }\n",
       "\n",
       "    .dataframe tbody tr th {\n",
       "        vertical-align: top;\n",
       "    }\n",
       "</style>\n",
       "<table border=\"1\" class=\"dataframe\">\n",
       "  <thead>\n",
       "    <tr style=\"text-align: right;\">\n",
       "      <th></th>\n",
       "      <th>price</th>\n",
       "      <th>bedrooms</th>\n",
       "      <th>bathrooms</th>\n",
       "      <th>sqft_living</th>\n",
       "      <th>sqft_lot</th>\n",
       "      <th>floors</th>\n",
       "      <th>waterfront</th>\n",
       "      <th>view</th>\n",
       "      <th>condition</th>\n",
       "      <th>grade</th>\n",
       "      <th>sqft_above</th>\n",
       "      <th>sqft_basement</th>\n",
       "      <th>yr_built</th>\n",
       "      <th>yr_renovated</th>\n",
       "      <th>lat</th>\n",
       "      <th>long</th>\n",
       "      <th>sqft_living15</th>\n",
       "      <th>sqft_lot15</th>\n",
       "    </tr>\n",
       "  </thead>\n",
       "  <tbody>\n",
       "    <tr>\n",
       "      <th>count</th>\n",
       "      <td>2.161300e+04</td>\n",
       "      <td>21613.000000</td>\n",
       "      <td>21613.000000</td>\n",
       "      <td>21613.000000</td>\n",
       "      <td>2.161300e+04</td>\n",
       "      <td>21613.000000</td>\n",
       "      <td>21613.000000</td>\n",
       "      <td>21613.000000</td>\n",
       "      <td>21613.000000</td>\n",
       "      <td>21613.000000</td>\n",
       "      <td>21613.000000</td>\n",
       "      <td>21613.000000</td>\n",
       "      <td>21613.000000</td>\n",
       "      <td>21613.000000</td>\n",
       "      <td>21613.000000</td>\n",
       "      <td>21613.000000</td>\n",
       "      <td>21613.000000</td>\n",
       "      <td>21613.000000</td>\n",
       "    </tr>\n",
       "    <tr>\n",
       "      <th>mean</th>\n",
       "      <td>5.400881e+05</td>\n",
       "      <td>3.370842</td>\n",
       "      <td>2.114757</td>\n",
       "      <td>2079.899736</td>\n",
       "      <td>1.510697e+04</td>\n",
       "      <td>1.494309</td>\n",
       "      <td>0.007542</td>\n",
       "      <td>0.234303</td>\n",
       "      <td>3.409430</td>\n",
       "      <td>7.656873</td>\n",
       "      <td>1788.390691</td>\n",
       "      <td>291.509045</td>\n",
       "      <td>1971.005136</td>\n",
       "      <td>84.402258</td>\n",
       "      <td>47.560053</td>\n",
       "      <td>-122.213896</td>\n",
       "      <td>1986.552492</td>\n",
       "      <td>12768.455652</td>\n",
       "    </tr>\n",
       "    <tr>\n",
       "      <th>std</th>\n",
       "      <td>3.671272e+05</td>\n",
       "      <td>0.930062</td>\n",
       "      <td>0.770163</td>\n",
       "      <td>918.440897</td>\n",
       "      <td>4.142051e+04</td>\n",
       "      <td>0.539989</td>\n",
       "      <td>0.086517</td>\n",
       "      <td>0.766318</td>\n",
       "      <td>0.650743</td>\n",
       "      <td>1.175459</td>\n",
       "      <td>828.090978</td>\n",
       "      <td>442.575043</td>\n",
       "      <td>29.373411</td>\n",
       "      <td>401.679240</td>\n",
       "      <td>0.138564</td>\n",
       "      <td>0.140828</td>\n",
       "      <td>685.391304</td>\n",
       "      <td>27304.179631</td>\n",
       "    </tr>\n",
       "    <tr>\n",
       "      <th>min</th>\n",
       "      <td>7.500000e+04</td>\n",
       "      <td>0.000000</td>\n",
       "      <td>0.000000</td>\n",
       "      <td>290.000000</td>\n",
       "      <td>5.200000e+02</td>\n",
       "      <td>1.000000</td>\n",
       "      <td>0.000000</td>\n",
       "      <td>0.000000</td>\n",
       "      <td>1.000000</td>\n",
       "      <td>1.000000</td>\n",
       "      <td>290.000000</td>\n",
       "      <td>0.000000</td>\n",
       "      <td>1900.000000</td>\n",
       "      <td>0.000000</td>\n",
       "      <td>47.155900</td>\n",
       "      <td>-122.519000</td>\n",
       "      <td>399.000000</td>\n",
       "      <td>651.000000</td>\n",
       "    </tr>\n",
       "    <tr>\n",
       "      <th>25%</th>\n",
       "      <td>3.219500e+05</td>\n",
       "      <td>3.000000</td>\n",
       "      <td>1.750000</td>\n",
       "      <td>1427.000000</td>\n",
       "      <td>5.040000e+03</td>\n",
       "      <td>1.000000</td>\n",
       "      <td>0.000000</td>\n",
       "      <td>0.000000</td>\n",
       "      <td>3.000000</td>\n",
       "      <td>7.000000</td>\n",
       "      <td>1190.000000</td>\n",
       "      <td>0.000000</td>\n",
       "      <td>1951.000000</td>\n",
       "      <td>0.000000</td>\n",
       "      <td>47.471000</td>\n",
       "      <td>-122.328000</td>\n",
       "      <td>1490.000000</td>\n",
       "      <td>5100.000000</td>\n",
       "    </tr>\n",
       "    <tr>\n",
       "      <th>50%</th>\n",
       "      <td>4.500000e+05</td>\n",
       "      <td>3.000000</td>\n",
       "      <td>2.250000</td>\n",
       "      <td>1910.000000</td>\n",
       "      <td>7.618000e+03</td>\n",
       "      <td>1.500000</td>\n",
       "      <td>0.000000</td>\n",
       "      <td>0.000000</td>\n",
       "      <td>3.000000</td>\n",
       "      <td>7.000000</td>\n",
       "      <td>1560.000000</td>\n",
       "      <td>0.000000</td>\n",
       "      <td>1975.000000</td>\n",
       "      <td>0.000000</td>\n",
       "      <td>47.571800</td>\n",
       "      <td>-122.230000</td>\n",
       "      <td>1840.000000</td>\n",
       "      <td>7620.000000</td>\n",
       "    </tr>\n",
       "    <tr>\n",
       "      <th>75%</th>\n",
       "      <td>6.450000e+05</td>\n",
       "      <td>4.000000</td>\n",
       "      <td>2.500000</td>\n",
       "      <td>2550.000000</td>\n",
       "      <td>1.068800e+04</td>\n",
       "      <td>2.000000</td>\n",
       "      <td>0.000000</td>\n",
       "      <td>0.000000</td>\n",
       "      <td>4.000000</td>\n",
       "      <td>8.000000</td>\n",
       "      <td>2210.000000</td>\n",
       "      <td>560.000000</td>\n",
       "      <td>1997.000000</td>\n",
       "      <td>0.000000</td>\n",
       "      <td>47.678000</td>\n",
       "      <td>-122.125000</td>\n",
       "      <td>2360.000000</td>\n",
       "      <td>10083.000000</td>\n",
       "    </tr>\n",
       "    <tr>\n",
       "      <th>max</th>\n",
       "      <td>7.700000e+06</td>\n",
       "      <td>33.000000</td>\n",
       "      <td>8.000000</td>\n",
       "      <td>13540.000000</td>\n",
       "      <td>1.651359e+06</td>\n",
       "      <td>3.500000</td>\n",
       "      <td>1.000000</td>\n",
       "      <td>4.000000</td>\n",
       "      <td>5.000000</td>\n",
       "      <td>13.000000</td>\n",
       "      <td>9410.000000</td>\n",
       "      <td>4820.000000</td>\n",
       "      <td>2015.000000</td>\n",
       "      <td>2015.000000</td>\n",
       "      <td>47.777600</td>\n",
       "      <td>-121.315000</td>\n",
       "      <td>6210.000000</td>\n",
       "      <td>871200.000000</td>\n",
       "    </tr>\n",
       "  </tbody>\n",
       "</table>\n",
       "</div>"
      ],
      "text/plain": [
       "              price      bedrooms     bathrooms   sqft_living      sqft_lot  \\\n",
       "count  2.161300e+04  21613.000000  21613.000000  21613.000000  2.161300e+04   \n",
       "mean   5.400881e+05      3.370842      2.114757   2079.899736  1.510697e+04   \n",
       "std    3.671272e+05      0.930062      0.770163    918.440897  4.142051e+04   \n",
       "min    7.500000e+04      0.000000      0.000000    290.000000  5.200000e+02   \n",
       "25%    3.219500e+05      3.000000      1.750000   1427.000000  5.040000e+03   \n",
       "50%    4.500000e+05      3.000000      2.250000   1910.000000  7.618000e+03   \n",
       "75%    6.450000e+05      4.000000      2.500000   2550.000000  1.068800e+04   \n",
       "max    7.700000e+06     33.000000      8.000000  13540.000000  1.651359e+06   \n",
       "\n",
       "             floors    waterfront          view     condition         grade  \\\n",
       "count  21613.000000  21613.000000  21613.000000  21613.000000  21613.000000   \n",
       "mean       1.494309      0.007542      0.234303      3.409430      7.656873   \n",
       "std        0.539989      0.086517      0.766318      0.650743      1.175459   \n",
       "min        1.000000      0.000000      0.000000      1.000000      1.000000   \n",
       "25%        1.000000      0.000000      0.000000      3.000000      7.000000   \n",
       "50%        1.500000      0.000000      0.000000      3.000000      7.000000   \n",
       "75%        2.000000      0.000000      0.000000      4.000000      8.000000   \n",
       "max        3.500000      1.000000      4.000000      5.000000     13.000000   \n",
       "\n",
       "         sqft_above  sqft_basement      yr_built  yr_renovated           lat  \\\n",
       "count  21613.000000   21613.000000  21613.000000  21613.000000  21613.000000   \n",
       "mean    1788.390691     291.509045   1971.005136     84.402258     47.560053   \n",
       "std      828.090978     442.575043     29.373411    401.679240      0.138564   \n",
       "min      290.000000       0.000000   1900.000000      0.000000     47.155900   \n",
       "25%     1190.000000       0.000000   1951.000000      0.000000     47.471000   \n",
       "50%     1560.000000       0.000000   1975.000000      0.000000     47.571800   \n",
       "75%     2210.000000     560.000000   1997.000000      0.000000     47.678000   \n",
       "max     9410.000000    4820.000000   2015.000000   2015.000000     47.777600   \n",
       "\n",
       "               long  sqft_living15     sqft_lot15  \n",
       "count  21613.000000   21613.000000   21613.000000  \n",
       "mean    -122.213896    1986.552492   12768.455652  \n",
       "std        0.140828     685.391304   27304.179631  \n",
       "min     -122.519000     399.000000     651.000000  \n",
       "25%     -122.328000    1490.000000    5100.000000  \n",
       "50%     -122.230000    1840.000000    7620.000000  \n",
       "75%     -122.125000    2360.000000   10083.000000  \n",
       "max     -121.315000    6210.000000  871200.000000  "
      ]
     },
     "execution_count": 5,
     "metadata": {},
     "output_type": "execute_result"
    }
   ],
   "source": [
    "df.describe()"
   ]
  },
  {
   "cell_type": "markdown",
   "metadata": {},
   "source": [
    "## c) Transformación de las Variables\n",
    "\n",
    "Los modelos de regresión lineal múltiple asumen ciertas cosas sobre el *dataset*:\n",
    "\n",
    "* Las variables dependientes e independientes tienen una relación lineal\n",
    "* Las variables siguen una distribución normal\n",
    "\n",
    "Una función entregada por SciKit que nos puede ayudar para el segundo punto es StandardScaler, el cual hace lo que se llama Estandarización o Z-score normalization. Esto es, transformar las variables en sus z-scores a partir de:\n",
    "\n",
    "$$x - \\mu \\over \\sigma$$\n",
    "\n",
    "Siendo $\\mu$ el promedio de la población y $\\sigma$ la desviación estándar de ésta. Esto va a permitir que los datos tengan una media o esperanza centrada en 0, y varianzas bajo el mismo orden de magnitud.\n",
    "\n",
    "Para el caso de nuestra variable dependiente **precio**, se va a hacer además una transformación logarítmica. Ésta es una práctica común al trabajar con variables referidas a dinero, y tiene varias ventajas:\n",
    "\n",
    "* Los precios en general tienen *skewness*, o sea, su histograma está desbalanceado, con la mayor parte de los datos acumulados en cierto rango de valores. Una transformacion logarítmica puede ayudar a balancear el histograma (mejorar la simetría), y hacer que su comportamiento sea similar a una distribución normal.\n",
    "* Los cambios en el valor logarítmico de una variable pueden ser directamente interpretados como cambios porcentuales.\n",
    "* El logaritmo puede convertir relaciones multiplicativas en relaciones aditivas (como en el caso anterior, donde los cambios son convertidos en adiciones), y por tanto, hace que patrones de crecimiento exponencial se conviertan en patrones lineales, los cuales funcionan mucho mejor con nuestro modelo.\n",
    "\n",
    "http://www.jerrydallal.com/lhsp/logs.htm\n",
    "https://www.r-statistics.com/2013/05/log-transformations-for-skewed-and-wide-distributions-from-practical-data-science-with-r/\n",
    "https://people.duke.edu/~rnau/411log.htm\n"
   ]
  },
  {
   "cell_type": "code",
   "execution_count": 6,
   "metadata": {
    "collapsed": false
   },
   "outputs": [],
   "source": [
    "#Se guarda en la variable X todo el dataset\n",
    "X = df\n",
    "#Transformacion Logaritmica\n",
    "y = np.log(df['price'])\n",
    "\n",
    "# Se crea un vector \"mascara\" del largo del dataframe X, \n",
    "# y se elige un limite del 70% del dataset para ser usado como conjunto de entrenamiento\n",
    "# El otro 30% sera un conjunto de prueba\n",
    "mask = np.zeros(len(X))\n",
    "limit = int(len(X)*0.7)\n",
    "mask[:limit] = 1\n",
    "istrain = (mask== 1)\n",
    "Xtrain = X[istrain]\n",
    "ytrain = y[istrain]\n",
    "Xtest = X[np.logical_not(istrain)]\n",
    "ytest = y[np.logical_not(istrain)]\n",
    "\n",
    "# Se quita la columna de precio de X despues de la normalización, ya que esto estara en el vector Y\n",
    "Xtrain = Xtrain.drop(['price'], axis=1)\n",
    "Xtest = Xtest.drop(['price'], axis=1)\n",
    "\n",
    "from sklearn.preprocessing import StandardScaler\n",
    "scaler = StandardScaler().fit(Xtrain)\n",
    "df_scaled_train = pd.DataFrame(scaler.transform(Xtrain), columns=Xtrain.columns)\n",
    "df_scaled_train.insert(df_scaled_train.shape[1], 'intercept', np.ones(df_scaled_train.shape[0]))"
   ]
  },
  {
   "cell_type": "code",
   "execution_count": 7,
   "metadata": {
    "collapsed": false
   },
   "outputs": [
    {
     "data": {
      "image/png": "[encoded data removed]",
      "text/plain": [
       "<matplotlib.figure.Figure at 0xafd6198>"
      ]
     },
     "metadata": {},
     "output_type": "display_data"
    }
   ],
   "source": [
    "from matplotlib.pylab import hist, show\n",
    "from pylab import rcParams\n",
    "\n",
    "plt.title(\"Hitograma con data sin normalizar\")\n",
    "plt.hist(df['price'],bins=100)\n",
    "plt.show()"
   ]
  },
  {
   "cell_type": "code",
   "execution_count": 8,
   "metadata": {
    "collapsed": false
   },
   "outputs": [
    {
     "data": {
      "image/png": "[encoded data removed]",
      "text/plain": [
       "<matplotlib.figure.Figure at 0xb9b9b70>"
      ]
     },
     "metadata": {},
     "output_type": "display_data"
    }
   ],
   "source": [
    "plt.title(\"Histograma con data normalizada\")\n",
    "plt.hist(np.log(df['price']), bins=100)\n",
    "plt.show()"
   ]
  },
  {
   "cell_type": "code",
   "execution_count": 9,
   "metadata": {
    "collapsed": false,
    "scrolled": true
   },
   "outputs": [],
   "source": [
    "#df_scaled_train.describe()"
   ]
  },
  {
   "cell_type": "markdown",
   "metadata": {},
   "source": [
    "Como vemos, logramos hacer que la media de las variables independientes sea muy cercana a cero, y que logre seguir distribuciones parecidas a una Gaussiana. Para el caso de la variable de precio, obtuvimos una escala distinta, pero también de tipo gaussiana.\n",
    "\n",
    "## d) Contrucción del Modelo\n",
    "\n",
    "A continuación se hará la regresión lineal. Recordando que la regresión lineal múltiple se puede ver como la resolución de un sistema de ecuaciones, donde cada elemento del conjunto de respuestas se puede ver como:\n",
    "\n",
    "$$y_i = \\beta_0 1 + \\beta_1 x_{i1} + \\cdots + \\beta_q x_{iq} + \\varepsilon_i$$\n",
    "\n",
    "Sea $n$ el tamaño de la muestra (aquí, 21613) y $q$ el número de parámetros (aquí, 18). La ecuación de regresión lineal múltiple es:\n",
    "\n",
    "$$ \\large Y_{n \\times 1} = X_{n \\times q} \\, \\beta_{q \\times 1} \\, + \\, \\epsilon_{n \\times 1}$$\n",
    "\n",
    "$$\n",
    "\\begin{bmatrix} y_{1} \\\\ y_{2} \\\\ \\vdots \\\\ y_{n} \\end{bmatrix} = \\begin{bmatrix} 1 & x_{11} & x_{12} & \\dots & x_{1p} \\\\ 1 & x_{21} & x_{22} & \\dots & x_{2p} \\\\ \\vdots & \\vdots & \\vdots & & \\vdots \\\\ 1 & x_{n1} & x_{n2} & \\dots & x_{np} \\end{bmatrix} \\begin{bmatrix} \\beta_0 \\\\ \\beta_1 \\\\ \\vdots \\\\ \\beta_p \\end{bmatrix} + \\begin{bmatrix} \\varepsilon_1\\\\ \\varepsilon_2\\\\ \\vdots\\\\ \\varepsilon_n \\end{bmatrix}\n",
    "$$\n",
    "\n",
    "Donde\n",
    "* $Y$ es un vector de tamaño $n\\times 1$, se le dice *vector de respuesta*\n",
    "* $\\epsilon$ es un vector de tamaño $n\\times 1$, se le dice *vector de errores*\n",
    "* $X$ es una matriz de tamaño $n\\times q$, se le dice *matriz de diseño*\n",
    "* $\\beta$ es un vector de tamaño $q\\times 1$, se le dice *vector de pendiente*\n",
    "\n",
    "Ya que el elemento $\\beta_0$ va multiplicado por uno, la matriz va a requerir una columna de unos.\n",
    "\n",
    "\n",
    "http://dept.stat.lsa.umich.edu/~kshedden/Courses/Stat401/Notes/401-multreg.pdf\n",
    "\n",
    "A la función LinearRegression le enviamos el parámetro **fit_intercept = False** debido a que los datos de precios ya están centrados"
   ]
  },
  {
   "cell_type": "code",
   "execution_count": 10,
   "metadata": {
    "collapsed": false
   },
   "outputs": [
    {
     "name": "stdout",
     "output_type": "stream",
     "text": [
      "Coeficientes: \n",
      " [ -8.08552791e-03   5.51112171e-02   5.69348494e-02   2.28725460e-02\n",
      "   3.55051078e-02   3.33656972e-02   4.25950104e-02   4.63595127e-02\n",
      "   1.84577448e-01   4.59367241e-02   3.22648453e-02  -1.04759352e-01\n",
      "   1.52659105e-02   1.87879541e-01  -4.03123382e-03   8.44122987e-02\n",
      "  -7.14880359e-03   1.30335010e+01]\n",
      "0.767469483196\n"
     ]
    }
   ],
   "source": [
    "import sklearn.linear_model as lm\n",
    "linreg = lm.LinearRegression(fit_intercept = False)\n",
    "linreg.fit(df_scaled_train, ytrain)\n",
    "\n",
    "print('Coeficientes: \\n', linreg.coef_)\n",
    "print(linreg.score(df_scaled_train, ytrain))"
   ]
  },
  {
   "cell_type": "markdown",
   "metadata": {
    "collapsed": true
   },
   "source": [
    "## e) Análisis de variables: Pesos y Z-score"
   ]
  },
  {
   "cell_type": "markdown",
   "metadata": {},
   "source": [
    "Tenemos que los pesos asignados a cada variable serán los coeficientes $\\hat{\\beta}$ estimados en los puntos anteriores mediante el metodo de minimos cuadrados. Por otro lado tenemos que los Z-Score se obtienen siguien $\\displaystyle z_i = \\frac{\\hat{\\beta_i}}{\\sigma_i\\sqrt{v_i}}$, donde $v_i$ es el elemento $i-esimo$ de la diagonal de la matriz $(X^tX)^{-1}$"
   ]
  },
  {
   "cell_type": "code",
   "execution_count": 11,
   "metadata": {
    "collapsed": false
   },
   "outputs": [],
   "source": [
    "#Se carga el dataframe de los datos de entrenamiento en una arreglo para poder trabajar con los datos\n",
    "def zscore(M,betas,sigma):\n",
    "    #X = np.array(df_scaled_train)\n",
    "    #X = df_scaled_train.as_matrix()\n",
    "    X = M\n",
    "    #Se guarda la traspuesta de la matriz \n",
    "    Xt = np.transpose(X)\n",
    "    #se computa el producto matricial entre la Xt y X \n",
    "    XtX = np.dot(Xt,X)\n",
    "    # Se calcula la matriz de varianza-covarianza\n",
    "    V = np.linalg.inv(XtX)\n",
    "    # Se guarda la varianza (diagonal de la matriz)\n",
    "    Vdiag = np.diag(V)\n",
    "    #Se calculan los z-score\n",
    "    z_score = betas/(sigma*np.sqrt(Vdiag))\n",
    "    return np.array(z_score)"
   ]
  },
  {
   "cell_type": "code",
   "execution_count": 12,
   "metadata": {
    "collapsed": false
   },
   "outputs": [
    {
     "name": "stdout",
     "output_type": "stream",
     "text": [
      "   1. Nombre_regresor  2. Coeficientes  3. z-score\n",
      "0            bedrooms        -0.008086   -0.779803\n",
      "1           bathrooms         0.055111         NaN\n",
      "2         sqft_living         0.056935         NaN\n",
      "3            sqft_lot         0.022873    1.953327\n",
      "4              floors         0.035505         NaN\n",
      "5          waterfront         0.033366    3.758568\n",
      "6                view         0.042595    4.429731\n",
      "7           condition         0.046360    5.238076\n",
      "8               grade         0.184577   12.216285\n",
      "9          sqft_above         0.045937         NaN\n",
      "10      sqft_basement         0.032265         NaN\n",
      "11           yr_built        -0.104759   -8.780313\n",
      "12       yr_renovated         0.015266    1.761846\n",
      "13                lat         0.187880   21.919739\n",
      "14               long        -0.004031   -0.404539\n",
      "15      sqft_living15         0.084412   12.041411\n",
      "16         sqft_lot15        -0.007149   -0.599201\n",
      "17          intercept        13.033501         inf\n"
     ]
    },
    {
     "name": "stderr",
     "output_type": "stream",
     "text": [
      "C:\\Users\\Boti\\Anaconda3\\lib\\site-packages\\ipykernel\\__main__.py:15: RuntimeWarning: invalid value encountered in sqrt\n"
     ]
    }
   ],
   "source": [
    "#df_scaled_train = df_scaled_train.drop(['sqft_living','sqft_living15'],axis=1)\n",
    "#print(ytrain)\n",
    "#linreg.fit(df_scaled_train, ytrain)\n",
    "z_score = zscore(df_scaled_train.as_matrix(),linreg.coef_, df_scaled_train.std())\n",
    "d = {'1. Nombre_regresor' : df_scaled_train.columns,'2. Coeficientes' : pd.Series(linreg.coef_),'3. z-score': pd.Series(z_score)}\n",
    "print(pd.DataFrame(d))"
   ]
  },
  {
   "cell_type": "markdown",
   "metadata": {},
   "source": [
    "Como podemos apreciar tenemos que existen 3 coeficientes que son del orden de magnitud de $10^{11}$, los cuales pertenecen a las variables sqft_living, sqft_above y sqft_basement lo que hace que tambien obtengamos z-scores muy grandes para esas variables. Si nos damos cuenta estas variables representan las dimensiones en pies cuadrados de la casa, siendo la primera el tamaño completo, la segunda el tamaño sin contar el sotano y la tercera el tamaño del sotano. Podemos suponer que estas variables pueden poseer un grado de correlacion alto, ya que al sumar sqft_above y sqft_basement deberiamos obtener el tamaño total de la casa es decir sqft_living. Para comprobar lo dicho anteriormente se realizara la siguiente matriz de correlacion:"
   ]
  },
  {
   "cell_type": "code",
   "execution_count": 13,
   "metadata": {
    "collapsed": false
   },
   "outputs": [
    {
     "data": {
      "image/png": "[encoded data removed]",
      "text/plain": [
       "<matplotlib.figure.Figure at 0xba48860>"
      ]
     },
     "metadata": {},
     "output_type": "display_data"
    }
   ],
   "source": [
    "import seaborn as sns\n",
    "\n",
    "corr = pd.DataFrame.corr(df_scaled_train)\n",
    "\n",
    "sns.heatmap(corr, \n",
    "        xticklabels=corr.columns,\n",
    "        yticklabels=corr.columns, cmap=\"YlGnBu\")\n",
    "\n",
    "plt.show()"
   ]
  },
  {
   "cell_type": "markdown",
   "metadata": {},
   "source": [
    "Como podemos apreciar el indice de correlacion entre $\\textbf{sqft_living}$ y $\\textbf{sqft_above}$ es $r=0.868037$ mientras que con la variable $\\textbf{sqft_basement}$ no es tan alto ($r=0.457049$), esto quizas a que en su mayoria las casas no poseen sotano. Sin embargo tambien podemos notar que el inice de correlacion entre esta variable es alto con otros predictores como $\\textbf{bathrooms}$ con un $r=0.760464$, $\\textbf{grade}$ con un $r= 0.766096$ y $\\textbf{sqft_living15}$ con un $r=0.754939$.\n",
    "\n",
    "Como podemos ver el supuesto de de que todas las variables son independientes se cae al ver la matriz de correlacion, ya que todos los valores deberian ser cercanos a 0 y aqui tenemos varios coeficientes que estan cerca de $0.5$ o incluso lo sobrepasan como el caso de $\\textbf{sqft_living}$. Para solucionar este problema se realizara nuevamente el fiting y se realizara el calculo de los z-score sin considerar la variable $\\textbf{sqft_living}$."
   ]
  },
  {
   "cell_type": "code",
   "execution_count": 25,
   "metadata": {
    "collapsed": false
   },
   "outputs": [
    {
     "name": "stdout",
     "output_type": "stream",
     "text": [
      "   1. Nombre_regresor  2. Coeficientes  3. z-score\n",
      "0            bedrooms        -0.008086   -0.771117\n",
      "1           bathrooms         0.055111    3.724857\n",
      "2            sqft_lot         0.022873    1.930916\n",
      "3              floors         0.035505    3.118415\n",
      "4          waterfront         0.033366    3.757811\n",
      "5                view         0.042595    4.419879\n",
      "6           condition         0.046360    5.219470\n",
      "7               grade         0.184577   12.216620\n",
      "8          sqft_above         0.096628    5.358861\n",
      "9       sqft_basement         0.060561    5.252478\n",
      "10           yr_built        -0.104759   -8.587932\n",
      "11       yr_renovated         0.015266    1.751052\n",
      "12                lat         0.187880   21.804983\n",
      "13               long        -0.004031   -0.404072\n",
      "14      sqft_living15         0.084412    5.990017\n",
      "15         sqft_lot15        -0.007149   -0.596438\n",
      "16          intercept        13.033501         inf\n"
     ]
    }
   ],
   "source": [
    "df2 = df\n",
    "df2 = df2.drop([\"sqft_living\"],axis=1)\n",
    "X = df2\n",
    "y2 = np.log(df2['price'])\n",
    "mask = np.zeros(len(X))\n",
    "limit = int(len(X)*0.7)\n",
    "mask[:limit] = 1\n",
    "istrain = (mask== 1)\n",
    "Xtrain2 = X[istrain]\n",
    "ytrain2 = y[istrain]\n",
    "Xtest2 = X[np.logical_not(istrain)]\n",
    "ytest2 = y[np.logical_not(istrain)]\n",
    "Xtrain2 = Xtrain2.drop(['price'], axis=1)\n",
    "Xtest2 = Xtest2.drop(['price'], axis=1)\n",
    "scaler = StandardScaler().fit(Xtrain2)\n",
    "df_scaled_train2 = pd.DataFrame(scaler.transform(Xtrain2), columns=Xtrain2.columns)\n",
    "df_scaled_train2.insert(df_scaled_train2.shape[1], 'intercept', np.ones(df_scaled_train2.shape[0]))\n",
    "\n",
    "linreg.fit(df_scaled_train2, ytrain2)\n",
    "z_score2 = zscore(df_scaled_train2.as_matrix(),linreg.coef_,df_scaled_train2.std())\n",
    "d2 = {'1. Nombre_regresor' : df_scaled_train2.columns,'2. Coeficientes' : pd.Series(linreg.coef_),'3. z-score': pd.Series(z_score2)}\n",
    "print(pd.DataFrame(d2))\n"
   ]
  },
  {
   "cell_type": "markdown",
   "metadata": {},
   "source": [
    "Como podemos ver el efecto que tiene el quitar esta variable es bastante significativo, ahora los valores de los coeficientes y z-score no presentan ningun valor atipico."
   ]
  },
  {
   "cell_type": "markdown",
   "metadata": {
    "collapsed": false
   },
   "source": [
    "## f) K-fold cross-Validation"
   ]
  },
  {
   "cell_type": "markdown",
   "metadata": {},
   "source": [
    "El sobreajuste es una complicacion que poseen la mayoria de algoritmos de machine learning, la cual conciste en ajustarse a caracteristicas muy especificas de los datos de entrenamiento provocando que el modelo pierda la capacidad de generalización. Una forma de lidiar con este problema es realizar una validacion cruzadada de los datos.\n",
    "\n",
    "Para este item se usara el metodo de K-fold cross-validation con $k=5$ y $k=10$ respectivamente.\n"
   ]
  },
  {
   "cell_type": "code",
   "execution_count": 30,
   "metadata": {
    "collapsed": false
   },
   "outputs": [
    {
     "name": "stdout",
     "output_type": "stream",
     "text": [
      "Error estandar promedio 0.06245798967315816\n",
      "0.773397418665\n"
     ]
    }
   ],
   "source": [
    "#Se normaliza la data de test\n",
    "#scaler_test = StandardScaler().fit(Xtest)\n",
    "x_test = pd.DataFrame(scaler.transform(Xtest2),columns=Xtest2.columns)\n",
    "#x_test = x_test.drop([\"sqft_living\"],axis=1)\n",
    "\n",
    "#Se agrega la columna \"intercept\"\n",
    "x_test.insert(x_test.shape[1], 'intercept', np.ones(x_test.shape[0]))\n",
    "\n",
    "#linreg = lm.LinearRegression(fit_intercept = False)\n",
    "\n",
    "linreg.fit(x_test, ytest2)\n",
    "yhat_test = linreg.predict(x_test)\n",
    "#Error estandar promedio cuadrado\n",
    "mse_test = np.mean(np.power(yhat_test - ytest2, 2))\n",
    "print(\"Error estandar promedio\", mse_test)\n",
    "from sklearn.model_selection import KFold\n",
    "Xm = Xtrain.as_matrix()\n",
    "ym = ytrain.as_matrix()\n",
    "print(linreg.score(x_test, ytest2))"
   ]
  },
  {
   "cell_type": "code",
   "execution_count": 31,
   "metadata": {
    "collapsed": false
   },
   "outputs": [
    {
     "name": "stdout",
     "output_type": "stream",
     "text": [
      "Error promedio para k=10  0.0646669893869\n"
     ]
    }
   ],
   "source": [
    "kf = KFold(n_splits=10)\n",
    "mse_cv = 0\n",
    "for train, val in kf.split(Xm):\n",
    "    #train -> indices de cada fold para la data de entreamiento\n",
    "    #val -> indice de cada fold para la data de test\n",
    "    cross_scaler = StandardScaler().fit(Xm[train])\n",
    "    df_cross_train = pd.DataFrame(cross_scaler.transform(Xm[train]),columns=Xtrain.columns)\n",
    "    df_cross_train.insert(df_cross_train.shape[1], 'intercept',np.ones(df_cross_train.shape[0]))\n",
    "    linreg = lm.LinearRegression(fit_intercept = False)\n",
    "    #Por cada iteracion se recalculan los coeficientes\n",
    "    linreg.fit(df_cross_train, ym[train])\n",
    "    #Se normalizan los datos de test\n",
    "    df_cross_test = pd.DataFrame(cross_scaler.transform(Xm[val]),columns=Xtrain.columns)\n",
    "    df_cross_test.insert(df_cross_test.shape[1], 'intercept', np.ones(df_cross_test.shape[0]))\n",
    "    #Se obtiene la nueva prediccion\n",
    "    yhat_val = linreg.predict(df_cross_test)\n",
    "    mse_fold = np.mean(np.power(yhat_val - ym[val], 2))\n",
    "    #print(\"Error del fold\", mse_fold)\n",
    "    mse_cv += mse_fold\n",
    "mse_cv = mse_cv/10\n",
    "print(\"Error promedio para k=10 \", mse_cv)"
   ]
  },
  {
   "cell_type": "code",
   "execution_count": 32,
   "metadata": {
    "collapsed": false,
    "slideshow": {
     "slide_type": "-"
    }
   },
   "outputs": [
    {
     "name": "stdout",
     "output_type": "stream",
     "text": [
      "Error promedio para k=5  0.00646669893869\n"
     ]
    }
   ],
   "source": [
    "kf5 = KFold(n_splits=5)\n",
    "mse_cv_k5 = 0\n",
    "for train_k5, val_k5 in kf5.split(Xm):\n",
    "    #train -> indices de cada fold para la data de entreamiento\n",
    "    #val -> indice de cada fold para la data de test\n",
    "    cross_scaler_k5 = StandardScaler().fit(Xm[train_k5])\n",
    "    df_cross_train_k5 = pd.DataFrame(cross_scaler_k5.transform(Xm[train_k5]),columns=Xtrain.columns)\n",
    "    df_cross_train_k5.insert(df_cross_train_k5.shape[1], 'intercept',np.ones(df_cross_train_k5.shape[0]))\n",
    "    linreg = lm.LinearRegression(fit_intercept = False)\n",
    "    #Por cada iteracion se recalculan los coeficientes\n",
    "    linreg.fit(df_cross_train_k5, ym[train_k5])\n",
    "    #Se normalizan los datos de test\n",
    "    df_cross_test_k5 = pd.DataFrame(cross_scaler_k5.transform(Xm[val_k5]),columns=Xtrain.columns)\n",
    "    df_cross_test_k5.insert(df_cross_test_k5.shape[1], 'intercept', np.ones(df_cross_test_k5.shape[0]))\n",
    "    #Se obtiene la nueva prediccion\n",
    "    yhat_val_k5 = linreg.predict(df_cross_test_k5)\n",
    "    mse_fold_k5 = np.mean(np.power(yhat_val_k5 - ym[val_k5], 2))\n",
    "    #print(\"Error del fold\", mse_fold_k5)\n",
    "    mse_cv_k5 += mse_fold_k5\n",
    "mse_cv_k5 = mse_cv/10\n",
    "print(\"Error promedio para k=5 \", mse_cv_k5)"
   ]
  },
  {
   "cell_type": "markdown",
   "metadata": {
    "collapsed": false
   },
   "source": [
    "Como podemos apreciar el error para este modelo es bastante bajo entre el target obtenido usando la data de test y la real, por lo que podemos concluir que el modelo no posee sobreajuste."
   ]
  },
  {
   "cell_type": "markdown",
   "metadata": {
    "collapsed": false
   },
   "source": [
    "## j) Análisis del error y normalidad de los datos"
   ]
  },
  {
   "cell_type": "markdown",
   "metadata": {},
   "source": [
    "****Los gráficos Q-Q son similares a los gráficos de probabilidad (que para una distribución normal se llaman gráficos de probabilidad normal o gráficos rankit). La diferencia es que en un gráfico de probabilidad, en lugar de usar el cuantil de la distribución como eje X, se usa la esperanza matemática del estadístico de k-ésimo orden de la distribución. Sólo cuando n es pequeño hay una diferencia sustancial entre un gráfico Q-Q y un gráfico de probabilidad.****"
   ]
  },
  {
   "cell_type": "code",
   "execution_count": 33,
   "metadata": {
    "collapsed": false
   },
   "outputs": [],
   "source": [
    "import scipy.stats as stats\n",
    "from scipy.stats import norm"
   ]
  },
  {
   "cell_type": "markdown",
   "metadata": {},
   "source": [
    "Primero realizaremos la prueba usando el dataframe de entrenamiento que tiene la variable \"sqft_living\" donde obtenemos la sguientes graficas"
   ]
  },
  {
   "cell_type": "code",
   "execution_count": 34,
   "metadata": {
    "collapsed": false
   },
   "outputs": [],
   "source": [
    "# se calcula la prediccion hecha por el modelo del target usando los datos de entrenamiento.\n",
    "Xtrain = np.array(df_scaled_train)\n",
    "yhat_train = linreg.predict(Xtrain)\n",
    "#Se calcula el error o residuo usando los valores reales y los obteidos por la prediccion del modelo\n",
    "e = np.array(ytrain) - yhat_train"
   ]
  },
  {
   "cell_type": "code",
   "execution_count": 35,
   "metadata": {
    "collapsed": false
   },
   "outputs": [
    {
     "data": {
      "image/png": "[encoded data removed]",
      "text/plain": [
       "<matplotlib.figure.Figure at 0xbeaa6d8>"
      ]
     },
     "metadata": {},
     "output_type": "display_data"
    }
   ],
   "source": [
    "#Se realiza un grafico de probabilidado el cual nos entregara el mismo resultado que un QQplot ya que n es grande.\n",
    "stats.probplot(e, dist=\"norm\", plot=plt)\n",
    "plt.show()"
   ]
  },
  {
   "cell_type": "code",
   "execution_count": 36,
   "metadata": {
    "collapsed": false
   },
   "outputs": [
    {
     "data": {
      "image/png": "[encoded data removed]",
      "text/plain": [
       "<matplotlib.figure.Figure at 0xbd3fda0>"
      ]
     },
     "metadata": {},
     "output_type": "display_data"
    }
   ],
   "source": [
    "plt.title(\"Histograma de los residuos \")\n",
    "plt.hist(e,bins=100)\n",
    "plt.show()"
   ]
  },
  {
   "cell_type": "markdown",
   "metadata": {},
   "source": [
    "Como podemos ver los datos en el QQplot se ve bastante bien excepto por los ordenes de magnitud de los ejes. por otro lado mirando el histograma de los residuos podemos apreciar que la concentracion de datos esta un poco inclinada hacia el lado derecho.\n",
    "\n",
    "Ahora realizaremos las pruebas usando los datos de entenamiento sin la variable \"sqft_living\" "
   ]
  },
  {
   "cell_type": "code",
   "execution_count": 37,
   "metadata": {
    "collapsed": false,
    "scrolled": true
   },
   "outputs": [
    {
     "data": {
      "image/png": "[encoded data removed]",
      "text/plain": [
       "<matplotlib.figure.Figure at 0xbe8e3c8>"
      ]
     },
     "metadata": {},
     "output_type": "display_data"
    }
   ],
   "source": [
    "#linreg.fit(df_scaled_train, ytrain)\n",
    "Xtrain2 = np.array(df_scaled_train2)\n",
    "linreg.fit(Xtrain2,ytrain2)\n",
    "yhat_train2 = linreg.predict(Xtrain2)\n",
    "#Se calcula el error o residuo usando los valores reales y los obteidos por la prediccion del modelo\n",
    "e2 = np.array(ytrain2) - yhat_train2\n",
    "stats.probplot(e2, dist=\"norm\", plot=plt)\n",
    "plt.show()"
   ]
  },
  {
   "cell_type": "code",
   "execution_count": 38,
   "metadata": {
    "collapsed": false
   },
   "outputs": [
    {
     "data": {
      "image/png": "[encoded data removed]",
      "text/plain": [
       "<matplotlib.figure.Figure at 0xb247ef0>"
      ]
     },
     "metadata": {},
     "output_type": "display_data"
    }
   ],
   "source": [
    "plt.title(\"Histograma de los residuos \")\n",
    "plt.hist(e2,bins=100)\n",
    "plt.show()"
   ]
  },
  {
   "cell_type": "markdown",
   "metadata": {},
   "source": [
    "podemos ver claramente como mejora el ajuste de los datos en el QQplot y ver como la distribucion de los datos es practicamente una campana de gauss. \n",
    "\n",
    "V"
   ]
  },
  {
   "cell_type": "markdown",
   "metadata": {
    "collapsed": true
   },
   "source": [
    "## 1-h)"
   ]
  },
  {
   "cell_type": "code",
   "execution_count": 39,
   "metadata": {
    "collapsed": false
   },
   "outputs": [
    {
     "name": "stdout",
     "output_type": "stream",
     "text": [
      "(3000, 18)\n",
      "15.8567308868\n",
      "[ 11.   11.5  12.   12.5  13.   13.5  14.   14.5  15.   15.5]\n",
      "(3000, 18)\n"
     ]
    },
    {
     "ename": "ValueError",
     "evalue": "Can only compare identically-labeled DataFrame objects",
     "output_type": "error",
     "traceback": [
      "\u001b[0;31m---------------------------------------------------------------------------\u001b[0m",
      "\u001b[0;31mValueError\u001b[0m                                Traceback (most recent call last)",
      "\u001b[0;32m<ipython-input-39-1de190724ea7>\u001b[0m in \u001b[0;36m<module>\u001b[0;34m()\u001b[0m\n\u001b[1;32m      9\u001b[0m \u001b[0mdf_B\u001b[0m \u001b[1;33m=\u001b[0m \u001b[0mpd\u001b[0m\u001b[1;33m.\u001b[0m\u001b[0mconcat\u001b[0m\u001b[1;33m(\u001b[0m\u001b[0mframes\u001b[0m\u001b[1;33m)\u001b[0m\u001b[1;33m.\u001b[0m\u001b[0msample\u001b[0m\u001b[1;33m(\u001b[0m\u001b[1;36m3000\u001b[0m\u001b[1;33m)\u001b[0m\u001b[1;33m\u001b[0m\u001b[0m\n\u001b[1;32m     10\u001b[0m \u001b[0mprint\u001b[0m\u001b[1;33m(\u001b[0m\u001b[0mdf_B\u001b[0m\u001b[1;33m.\u001b[0m\u001b[0mshape\u001b[0m\u001b[1;33m)\u001b[0m\u001b[1;33m\u001b[0m\u001b[0m\n\u001b[0;32m---> 11\u001b[0;31m \u001b[0mprint\u001b[0m\u001b[1;33m(\u001b[0m\u001b[0mdf_A\u001b[0m \u001b[1;33m==\u001b[0m \u001b[0mdf_B\u001b[0m\u001b[1;33m)\u001b[0m\u001b[1;33m\u001b[0m\u001b[0m\n\u001b[0m\u001b[1;32m     12\u001b[0m \u001b[0mX_A\u001b[0m \u001b[1;33m=\u001b[0m \u001b[0mdf_A\u001b[0m\u001b[1;33m.\u001b[0m\u001b[0miloc\u001b[0m\u001b[1;33m[\u001b[0m\u001b[1;33m:\u001b[0m\u001b[1;33m,\u001b[0m\u001b[1;36m1\u001b[0m\u001b[1;33m:\u001b[0m\u001b[1;33m]\u001b[0m\u001b[1;33m.\u001b[0m\u001b[0mvalues\u001b[0m\u001b[1;33m\u001b[0m\u001b[0m\n\u001b[1;32m     13\u001b[0m \u001b[0my_A\u001b[0m \u001b[1;33m=\u001b[0m \u001b[0mdf_A\u001b[0m\u001b[1;33m.\u001b[0m\u001b[0mprice\u001b[0m\u001b[1;33m\u001b[0m\u001b[0m\n",
      "\u001b[0;32mC:\\Users\\Boti\\Anaconda3\\lib\\site-packages\\pandas\\core\\ops.py\u001b[0m in \u001b[0;36mf\u001b[0;34m(self, other)\u001b[0m\n\u001b[1;32m   1295\u001b[0m     \u001b[1;32mdef\u001b[0m \u001b[0mf\u001b[0m\u001b[1;33m(\u001b[0m\u001b[0mself\u001b[0m\u001b[1;33m,\u001b[0m \u001b[0mother\u001b[0m\u001b[1;33m)\u001b[0m\u001b[1;33m:\u001b[0m\u001b[1;33m\u001b[0m\u001b[0m\n\u001b[1;32m   1296\u001b[0m         \u001b[1;32mif\u001b[0m \u001b[0misinstance\u001b[0m\u001b[1;33m(\u001b[0m\u001b[0mother\u001b[0m\u001b[1;33m,\u001b[0m \u001b[0mpd\u001b[0m\u001b[1;33m.\u001b[0m\u001b[0mDataFrame\u001b[0m\u001b[1;33m)\u001b[0m\u001b[1;33m:\u001b[0m  \u001b[1;31m# Another DataFrame\u001b[0m\u001b[1;33m\u001b[0m\u001b[0m\n\u001b[0;32m-> 1297\u001b[0;31m             \u001b[1;32mreturn\u001b[0m \u001b[0mself\u001b[0m\u001b[1;33m.\u001b[0m\u001b[0m_compare_frame\u001b[0m\u001b[1;33m(\u001b[0m\u001b[0mother\u001b[0m\u001b[1;33m,\u001b[0m \u001b[0mfunc\u001b[0m\u001b[1;33m,\u001b[0m \u001b[0mstr_rep\u001b[0m\u001b[1;33m)\u001b[0m\u001b[1;33m\u001b[0m\u001b[0m\n\u001b[0m\u001b[1;32m   1298\u001b[0m         \u001b[1;32melif\u001b[0m \u001b[0misinstance\u001b[0m\u001b[1;33m(\u001b[0m\u001b[0mother\u001b[0m\u001b[1;33m,\u001b[0m \u001b[0mABCSeries\u001b[0m\u001b[1;33m)\u001b[0m\u001b[1;33m:\u001b[0m\u001b[1;33m\u001b[0m\u001b[0m\n\u001b[1;32m   1299\u001b[0m             \u001b[1;32mreturn\u001b[0m \u001b[0mself\u001b[0m\u001b[1;33m.\u001b[0m\u001b[0m_combine_series_infer\u001b[0m\u001b[1;33m(\u001b[0m\u001b[0mother\u001b[0m\u001b[1;33m,\u001b[0m \u001b[0mfunc\u001b[0m\u001b[1;33m)\u001b[0m\u001b[1;33m\u001b[0m\u001b[0m\n",
      "\u001b[0;32mC:\\Users\\Boti\\Anaconda3\\lib\\site-packages\\pandas\\core\\frame.py\u001b[0m in \u001b[0;36m_compare_frame\u001b[0;34m(self, other, func, str_rep)\u001b[0m\n\u001b[1;32m   3570\u001b[0m     \u001b[1;32mdef\u001b[0m \u001b[0m_compare_frame\u001b[0m\u001b[1;33m(\u001b[0m\u001b[0mself\u001b[0m\u001b[1;33m,\u001b[0m \u001b[0mother\u001b[0m\u001b[1;33m,\u001b[0m \u001b[0mfunc\u001b[0m\u001b[1;33m,\u001b[0m \u001b[0mstr_rep\u001b[0m\u001b[1;33m)\u001b[0m\u001b[1;33m:\u001b[0m\u001b[1;33m\u001b[0m\u001b[0m\n\u001b[1;32m   3571\u001b[0m         \u001b[1;32mif\u001b[0m \u001b[1;32mnot\u001b[0m \u001b[0mself\u001b[0m\u001b[1;33m.\u001b[0m\u001b[0m_indexed_same\u001b[0m\u001b[1;33m(\u001b[0m\u001b[0mother\u001b[0m\u001b[1;33m)\u001b[0m\u001b[1;33m:\u001b[0m\u001b[1;33m\u001b[0m\u001b[0m\n\u001b[0;32m-> 3572\u001b[0;31m             raise ValueError('Can only compare identically-labeled '\n\u001b[0m\u001b[1;32m   3573\u001b[0m                              'DataFrame objects')\n\u001b[1;32m   3574\u001b[0m         \u001b[1;32mreturn\u001b[0m \u001b[0mself\u001b[0m\u001b[1;33m.\u001b[0m\u001b[0m_compare_frame_evaluate\u001b[0m\u001b[1;33m(\u001b[0m\u001b[0mother\u001b[0m\u001b[1;33m,\u001b[0m \u001b[0mfunc\u001b[0m\u001b[1;33m,\u001b[0m \u001b[0mstr_rep\u001b[0m\u001b[1;33m)\u001b[0m\u001b[1;33m\u001b[0m\u001b[0m\n",
      "\u001b[0;31mValueError\u001b[0m: Can only compare identically-labeled DataFrame objects"
     ]
    }
   ],
   "source": [
    "df_A = df.sample(3000)\n",
    "print(df_A.shape)\n",
    "frames = []\n",
    "valor = np.log(df.price)\n",
    "print(np.max(valor))\n",
    "print(np.arange(int(np.min(valor)),int(np.max(valor))+1,0.5))\n",
    "for z in np.arange(int(np.min(valor)),int(np.max(valor))+1,0.5):\n",
    "    frames.append(df[(np.log(df.price) >= z) & (np.log(df.price) < z+0.5)].head(500))\n",
    "df_B = pd.concat(frames).sample(3000)\n",
    "print(df_B.shape)\n",
    "print(df_A == df_B)\n",
    "X_A = df_A.iloc[:,1:].values\n",
    "y_A = df_A.price\n",
    "X_B = df_B.iloc[:,1:].values\n",
    "y_B = df_B.price\n",
    "from sklearn.model_selection import train_test_split\n",
    "Xtrain_A, Xval_A, ytrain_A, yval_A = train_test_split(X_A, y_A, test_size=0.3, random_state=42)\n",
    "Xtrain_B, Xval_B, ytrain_B, yval_B = train_test_split(X_B, y_B, test_size=0.3, random_state=42)"
   ]
  },
  {
   "cell_type": "markdown",
   "metadata": {},
   "source": [
    "## 4. Películas\n",
    "\n",
    "Tenemos 145256 características, debido a todas las combinaciones de palabras posibles de las críticas/reviews de cada película.\n",
    "\n",
    "Son 1147 elementos de entrenamiento, 254 elementos de prueba, y 317 elementos para el cross-validation.\n",
    "\n",
    "Se comenzará cargando los datos."
   ]
  },
  {
   "cell_type": "code",
   "execution_count": 358,
   "metadata": {
    "collapsed": false
   },
   "outputs": [],
   "source": [
    "import pandas as pd\n",
    "import numpy as np\n",
    "from scipy.sparse import csc_matrix\n",
    "from scipy.io import mmread\n",
    "from sklearn.metrics import mean_squared_error\n",
    "\n",
    "\n",
    "#X_movies = pd.SparseDataFrame( csr_matrix(mmread('train.x.mm')) )\n",
    "X_movies = csc_matrix(mmread('train.x.mm'))\n",
    "y_movies = np.loadtxt('train.y.dat')\n",
    "X_movies_dev = csc_matrix(mmread('dev.x.mm'))\n",
    "y_movies_dev = np.loadtxt('dev.y.dat')\n",
    "X_movies_test = csc_matrix(mmread('test.x.mm'))\n",
    "y_movies_test = np.loadtxt('test.y.dat')"
   ]
  },
  {
   "cell_type": "markdown",
   "metadata": {},
   "source": [
    "Intentando hacer una regresión lineal convencional, obtenemos resultados mediocres con un error muy alto."
   ]
  },
  {
   "cell_type": "code",
   "execution_count": 297,
   "metadata": {
    "collapsed": false
   },
   "outputs": [
    {
     "name": "stdout",
     "output_type": "stream",
     "text": [
      "Usando regresión lineal ordinaria, sin preprocesamiento, R^2 es:  0.590314359229\n",
      "MSE:  1.9509771333e+14\n"
     ]
    }
   ],
   "source": [
    "import sklearn.linear_model as lm\n",
    "model = lm.LinearRegression(fit_intercept = False)\n",
    "model.fit(X_movies, y_movies)\n",
    "print(\"Usando regresión lineal ordinaria, sin preprocesamiento, R^2 es: \", model.score(X_movies_test, y_movies_test))\n",
    "y_movies_pred = model.predict(X_movies_test)\n",
    "print(\"MSE: \", mean_squared_error(y_movies_test, y_movies_pred))"
   ]
  },
  {
   "cell_type": "markdown",
   "metadata": {},
   "source": [
    "Antes de probar otros modelos, ya que la variable objetivo será la ganancia de las películas, se hará una **Transformación Logarítmica** a los y."
   ]
  },
  {
   "cell_type": "code",
   "execution_count": 359,
   "metadata": {
    "collapsed": true
   },
   "outputs": [],
   "source": [
    "y_movies = np.log(y_movies)\n",
    "y_movies_dev = np.log(y_movies_dev)\n",
    "y_movies_test = np.log(y_movies_test)"
   ]
  },
  {
   "cell_type": "code",
   "execution_count": 360,
   "metadata": {
    "collapsed": true
   },
   "outputs": [],
   "source": [
    "X_movies_bak = X_movies\n",
    "y_movies_bak = y_movies\n",
    "X_movies_test_bak = X_movies_test\n",
    "y_movies_test_bak = y_movies_test\n",
    "\n",
    "X_movies = X_movies_bak\n",
    "y_movies = y_movies_bak\n",
    "X_movies_test = X_movies_test_bak\n",
    "y_movies_test = y_movies_test_bak"
   ]
  },
  {
   "cell_type": "code",
   "execution_count": 372,
   "metadata": {
    "collapsed": true
   },
   "outputs": [],
   "source": [
    "X_movies = X_movies_bak\n",
    "y_movies = y_movies_bak\n",
    "X_movies_test = X_movies_test_bak\n",
    "y_movies_test = y_movies_test_bak"
   ]
  },
  {
   "cell_type": "markdown",
   "metadata": {},
   "source": [
    "Según la documentación de Scikit, no se debe usar estandarización mediante StandardScaler con datos *sparse* debido a que se arruinaría su estructura. Por lo tanto, se recomienda usar MaxAbsScaler."
   ]
  },
  {
   "cell_type": "code",
   "execution_count": 373,
   "metadata": {
    "collapsed": false
   },
   "outputs": [
    {
     "name": "stdout",
     "output_type": "stream",
     "text": [
      "Usando regresión lineal ordinaria, con estandarizacion MaxAbsScaler, R^2 es:  0.292591091199\n",
      "MSE:  7.86873093225\n"
     ]
    }
   ],
   "source": [
    "#Scaling del dataset\n",
    "from sklearn.preprocessing import MaxAbsScaler\n",
    "scaler_movies = MaxAbsScaler().fit(X_movies) # Para matriz sparse\n",
    "X_scaled_movies_train = scaler_movies.transform(X_movies)\n",
    "\n",
    "# Se ingresa columna de unos, que son los pesos o coeficientes del primer parametro (el intercepto, beta_0)\n",
    "from scipy.sparse import hstack\n",
    "matriz_de_unos = csc_matrix(np.ones(X_scaled_movies_train.shape[0])[:, None])\n",
    "#print(matriz_de_unos.shape)\n",
    "#print(X_scaled_movies_train.shape)\n",
    "X_scaled_movies_train = hstack((X_scaled_movies_train, matriz_de_unos))\n",
    "#print(X_scaled_movies_train.shape)\n",
    "\n",
    "model_movies = lm.LinearRegression(fit_intercept = False)\n",
    "model_movies.fit(X_scaled_movies_train, y_movies)\n",
    "\n",
    "\n",
    "scaler_movies_test = MaxAbsScaler().fit(X_movies_test) # Para matriz sparse\n",
    "X_scaled_movies_test = scaler_movies_test.transform(X_movies_test)\n",
    "matriz_de_unos = csc_matrix(np.ones(X_scaled_movies_test.shape[0])[:, None])\n",
    "X_scaled_movies_test = hstack((X_scaled_movies_test, matriz_de_unos))\n",
    "r2_2 = model_movies.score(X_scaled_movies_test, y_movies_test)\n",
    "print(\"Usando regresión lineal ordinaria, con estandarizacion MaxAbsScaler, R^2 es: \", r2_2)\n",
    "print(\"MSE: \", mean_squared_error(y_movies_test, model_movies.predict(X_scaled_movies_test)))"
   ]
  },
  {
   "cell_type": "markdown",
   "metadata": {},
   "source": [
    "Debido a que tenemos demasiadas características, vamos a intentar hacer Feature Selection.\n",
    "\n",
    "Se comenzará con un algoritmo de selección simple: VarianceThreshold, el cual elimina las características que tengan una varianza menor a cierto *threshold*.\n",
    "\n",
    "Pensando en que este dataset tiene muchas variables binarias, si es que queremos eliminar las variables que tienen el mismo valor en 95% de las muestras, podemos obtener este *threshold* de la varianza usando la fórmula de varianza de la función de Bernoulli:\n",
    "\n",
    "$$Var[X] = p (1-p)$$\n"
   ]
  },
  {
   "cell_type": "code",
   "execution_count": 383,
   "metadata": {
    "collapsed": false
   },
   "outputs": [],
   "source": [
    "from sklearn.feature_selection import VarianceThreshold\n",
    "\n",
    "var_threshold = (.95 * (1 - .95))\n",
    "sel = VarianceThreshold(threshold=var_threshold)\n",
    "#X_movies = sel.fit_transform(X_movies)\n",
    "#X_movies_test = sel.transform(X_movies_test)\n",
    "X_movies_fs_var = sel.fit_transform(X_scaled_movies_train)\n",
    "X_movies_test_fs_var = sel.transform(X_scaled_movies_test)"
   ]
  },
  {
   "cell_type": "code",
   "execution_count": 384,
   "metadata": {
    "collapsed": false
   },
   "outputs": [
    {
     "name": "stdout",
     "output_type": "stream",
     "text": [
      "(1147, 193)\n",
      "(254, 193)\n"
     ]
    }
   ],
   "source": [
    "#print(X_movies.shape)\n",
    "#print(X_movies_test.shape)\n",
    "print(X_movies_fs_var.shape)\n",
    "print(X_movies_test_fs_var.shape)"
   ]
  },
  {
   "cell_type": "markdown",
   "metadata": {},
   "source": [
    "Con esta selección sólo quedan 193 variables."
   ]
  },
  {
   "cell_type": "code",
   "execution_count": 385,
   "metadata": {
    "collapsed": false
   },
   "outputs": [
    {
     "name": "stdout",
     "output_type": "stream",
     "text": [
      "Usando regresión lineal ordinaria, al usar feat. selection, R^2 es:  0.739061309456\n",
      "MSE:  2.90250281013\n"
     ]
    }
   ],
   "source": [
    "import sklearn.linear_model as lm\n",
    "model = lm.LinearRegression(fit_intercept = False)\n",
    "model.fit(X_movies_fs_var, y_movies)\n",
    "print(\"Usando regresión lineal ordinaria, al usar feat. selection, R^2 es: \", model.score(X_movies_test_fs_var, y_movies_test))\n",
    "print(\"MSE: \", mean_squared_error(y_movies_test, model.predict(X_movies_test_fs_var)))"
   ]
  },
  {
   "cell_type": "code",
   "execution_count": 399,
   "metadata": {
    "collapsed": false
   },
   "outputs": [
    {
     "name": "stdout",
     "output_type": "stream",
     "text": [
      "Numero de atributos que quedaron con pesos no nulos:  193\n",
      "VV_choke  VV_being  NY_crime  VV_himself  NY_producer  VV_de  EW_fake  VV_appear  NY_<TOKNUM>  VA_gangster  NY_pervasive  NY_hard  NY_states  VV_deep  VA_more  NY_clear  VV_neighborhood  VV_spite  NY_imperative  NY_rape  NY_exposition  NY_diabolical  VV_story  NY_silent  VA_rep  VA_relationship  VA_iffy  VV_crazy  NY_age  VA_topic  NY_together  VA_plot  VA_joey  EW_high  NY_tina  NY_neighborhood  NY_insist  NY_class  NY_persian  EW_knockoff  NY_touch  VA_implication  NY_time  NY_relish  NY_not  VA_court  VA_tech  NY_agent  NY_connect  NY_only  VV_join  VV_marsden  VV_up  VV_enable  VV_his  VA_well  VV_knee  VA_all  VA_wolf  VV_mostly  VA_story  VA_thanks  NY_half  VA_storm  VA_philadelphia  VA_informant  VA_rac  NY_women  VV_watch  VV_muck  NY_packed  VA_gulf  VV_blood  EW_face  NY_drug  VA_cousin  VV_returns  NY_city  NY_guy  NY_front  VA_kid  NY_harvey  NY_hysterical  NY_exit  NY_without  NY_wire  NY_violence  VV_vincent  VV_crash  VA_leslie  VA_turn  EW_skin  NY_rage  EW_rest  EW_late  NY_provide  NY_narration  VV_grow  VV_time  VV_or  NY_morality  NY_stew  NY_partner  NY_nobility  VA_resemblance  VV_nonstop  VA_they  NY_united  EW_smash  VV_name  NY_simmer  NY_member  EW_max  EW_war  EW_bottle  NY_good  NY_winning  VA_crash  NY_mind  NY_technical  NY_immediately  VA_scarface  VA_agree  NY_aunt  NY_got  NY_sympathy  NY_agenda  NY_menace  NY_father  NY_hybrid  VA_people  NY_prison  NY_information  VA_feature  VA_ambition  VA_sudden  EW_s  VA_officer  NY_usual  VA_than  NY_occur  NY_urban  VA_guy  VA_devotion  NY_two  NY_adult  VA_take  VA_traffick  VV_rising  VA_like  EW_slick  EW_stage  NY_club  VA_despite  NY_dad  VA_reluctant  VA_piper  NY_revenge  VA_become  NY_academy  NY_deserve  NY_dash  NY_attempt  VV_joey  NY_nowadays  NY_loyalty  VA_cast  VA_quite  NY_blood  VV_enliven  VA_evidence  VV_never  NY_event  NY_try  VV_joseph  VA_while  NY_stole  NY_recall  VA_flashback  EW_veteran  VA_when  VV_wolf  VV_co  NY_husband  NY_crash  NY_stereotype  EW_but  EW_james  VV_gun  VA_feel  VA_brian  VA_ann  VV_cold  "
     ]
    }
   ],
   "source": [
    "print( \"Numero de atributos que quedaron con pesos no nulos: \", np.count_nonzero(model.coef_) )\n",
    "import linecache\n",
    "for i in (np.nonzero(model.coef_)[0]):\n",
    "    print(linecache.getline('vocab', i+1).split()[0], \" \", end='')"
   ]
  },
  {
   "cell_type": "markdown",
   "metadata": {},
   "source": [
    "Obtuvimos un $R^2$ mejor que antes, pero el error aún es significativo."
   ]
  },
  {
   "cell_type": "code",
   "execution_count": 437,
   "metadata": {
    "collapsed": false
   },
   "outputs": [
    {
     "name": "stdout",
     "output_type": "stream",
     "text": [
      "(1147, 145256)\n",
      "(1147,)\n",
      "(254, 145256)\n",
      "(1147, 3000)\n",
      "(254, 3000)\n"
     ]
    }
   ],
   "source": [
    "from sklearn.feature_selection import SelectKBest\n",
    "from sklearn.feature_selection import chi2\n",
    "from sklearn.feature_selection import f_regression\n",
    "from sklearn.feature_selection import mutual_info_regression\n",
    "\n",
    "sel = SelectKBest(f_regression, k=300)\n",
    "\n",
    "#sel = SelectKBest(chi2, k=3750)\n",
    "#X_movies_fs_var = sel.fit_transform(X_movies)\n",
    "#X_movies_test_fs_var = sel.transform(X_movies_test)\n",
    "print(X_movies.shape)\n",
    "print(y_movies.shape)\n",
    "print(X_movies_test.shape)\n",
    "X_movies_fs_kb = sel.fit_transform(X_movies, y_movies)\n",
    "X_movies_test_fs_kb = sel.transform(X_movies_test)\n",
    "#print(X_movies.shape)\n",
    "#print(X_movies_test.shape)\n",
    "#X_movies = sel.fit_transform(X_movies, y_movies)\n",
    "#X_movies_test = sel.transform(X_movies_test)\n",
    "print(X_movies_fs_kb.shape)\n",
    "print(X_movies_test_fs_kb.shape)"
   ]
  },
  {
   "cell_type": "code",
   "execution_count": 434,
   "metadata": {
    "collapsed": false
   },
   "outputs": [
    {
     "name": "stdout",
     "output_type": "stream",
     "text": [
      "Usando regresión lineal ordinaria, al usar feat. selection, R^2 es:  -40.4352341364\n",
      "MSE:  460.897091453\n"
     ]
    }
   ],
   "source": [
    "import sklearn.linear_model as lm\n",
    "model = lm.LinearRegression(fit_intercept = False)\n",
    "model.fit(X_movies_fs_kb, y_movies)\n",
    "print(\"Usando regresión lineal ordinaria, al usar feat. selection, R^2 es: \", model.score(X_movies_test_fs_kb, y_movies_test))\n",
    "print(\"MSE: \", mean_squared_error(y_movies_test, model.predict(X_movies_test_fs_kb)))"
   ]
  },
  {
   "cell_type": "code",
   "execution_count": 422,
   "metadata": {
    "collapsed": false
   },
   "outputs": [
    {
     "name": "stdout",
     "output_type": "stream",
     "text": [
      "Numero de atributos que quedaron con pesos no nulos:  20\n",
      "VV_choke  VV_being  NY_crime  VV_himself  NY_producer  VV_de  EW_fake  VV_appear  NY_<TOKNUM>  VA_gangster  NY_pervasive  NY_hard  NY_states  VV_deep  VA_more  NY_clear  VV_neighborhood  VV_spite  NY_imperative  NY_rape  "
     ]
    }
   ],
   "source": [
    "print( \"Numero de atributos que quedaron con pesos no nulos: \", np.count_nonzero(model.coef_) )\n",
    "import linecache\n",
    "for i in (np.nonzero(model.coef_)[0]):\n",
    "    print(linecache.getline('vocab', i+1).split()[0], \" \", end='')"
   ]
  },
  {
   "cell_type": "code",
   "execution_count": null,
   "metadata": {
    "collapsed": true
   },
   "outputs": [],
   "source": [
    "\n",
    "\n",
    "from sklearn.feature_selection import SelectPercentile\n",
    "from sklearn.feature_selection import chi2\n",
    "\n",
    "sel = SelectPercentile(chi2, k=20)\n",
    "\n",
    "#sel = SelectKBest(chi2, k=3750)\n",
    "#X_movies_fs_var = sel.fit_transform(X_movies)\n",
    "#X_movies_test_fs_var = sel.transform(X_movies_test)\n",
    "print(X_movies.shape)\n",
    "print(y_movies.shape)\n",
    "print(X_movies_test.shape)\n",
    "X_movies_fs_kb = sel.fit_transform(X_movies, y_movies.astype(int))\n",
    "X_movies_test_fs_kb = sel.transform(X_movies_test)\n",
    "#print(X_movies.shape)\n",
    "#print(X_movies_test.shape)\n",
    "#X_movies = sel.fit_transform(X_movies, y_movies)\n",
    "#X_movies_test = sel.transform(X_movies_test)\n",
    "print(X_movies_fs_kb.shape)\n",
    "print(X_movies_test_fs_kb.shape)"
   ]
  },
  {
   "cell_type": "code",
   "execution_count": 403,
   "metadata": {
    "collapsed": false
   },
   "outputs": [
    {
     "name": "stdout",
     "output_type": "stream",
     "text": [
      "(150, 4)\n",
      "(150, 2)\n"
     ]
    }
   ],
   "source": [
    "from sklearn.datasets import load_iris\n",
    "from sklearn.feature_selection import SelectKBest\n",
    "from sklearn.feature_selection import chi2\n",
    "iris = load_iris()\n",
    "X, y = iris.data, iris.target\n",
    "print(X.shape)\n",
    "X_new = SelectKBest(chi2, k=2).fit_transform(X, y)\n",
    "print(X_new.shape)"
   ]
  },
  {
   "cell_type": "code",
   "execution_count": 136,
   "metadata": {
    "collapsed": false
   },
   "outputs": [
    {
     "name": "stdout",
     "output_type": "stream",
     "text": [
      "(1147, 3750)\n",
      "(254, 3750)\n"
     ]
    }
   ],
   "source": [
    "print(X_movies_fs_kb.shape)\n",
    "print(X_movies_test_fs_kb.shape)"
   ]
  },
  {
   "cell_type": "code",
   "execution_count": 95,
   "metadata": {
    "collapsed": false
   },
   "outputs": [
    {
     "name": "stdout",
     "output_type": "stream",
     "text": [
      "Usando regresión lineal ordinaria, al usar feat. selection, R^2 es:  0.527940021816\n"
     ]
    }
   ],
   "source": [
    "import sklearn.linear_model as lm\n",
    "model = lm.LinearRegression(fit_intercept = False)\n",
    "model.fit(X_movies_fs_var, y_movies)\n",
    "print(\"Usando regresión lineal ordinaria, al usar feat. selection, R^2 es: \", model.score(X_movies_test_fs_var, y_movies_test))"
   ]
  },
  {
   "cell_type": "code",
   "execution_count": 285,
   "metadata": {
    "collapsed": false
   },
   "outputs": [
    {
     "name": "stdout",
     "output_type": "stream",
     "text": [
      "Usando regresión lineal ordinaria, al usar Lasso, R^2 es:  0.823362503132\n",
      "MSE:  1.9647942203\n"
     ]
    }
   ],
   "source": [
    "from sklearn.linear_model import Lasso\n",
    "alpha = 0.6\n",
    "model = Lasso(alpha=alpha, tol=0.0001)\n",
    "#model.fit(X_movies_fs_kb, y_movies)\n",
    "model.fit(X_movies, y_movies)\n",
    "#y_movies_pred_lasso = model.predict(X_movies_test_fs_kb)\n",
    "y_movies_pred_lasso = model.predict(X_movies_test)\n",
    "#print(\"Usando  Lasso, R^2 es: \", model.score(X_movies_test_fs_kb, y_movies_test))\n",
    "print(\"Usando regresión lineal ordinaria, al usar Lasso, R^2 es: \", model.score(X_movies_test, y_movies_test))\n",
    "\n",
    "from sklearn.metrics import mean_squared_error\n",
    "print(\"MSE: \", mean_squared_error(y_movies_test, y_movies_pred_lasso))"
   ]
  },
  {
   "cell_type": "code",
   "execution_count": 251,
   "metadata": {
    "collapsed": false
   },
   "outputs": [
    {
     "name": "stdout",
     "output_type": "stream",
     "text": [
      "Usando regresión lineal ordinaria, al usar Lasso, R^2 es:  0.829512457245\n",
      "MSE:  1.89638635385\n"
     ]
    }
   ],
   "source": [
    "from sklearn.linear_model import LassoCV\n",
    "alpha = 0.6\n",
    "model = LassoCV(tol=0.0001)\n",
    "#model.fit(X_movies_fs_kb, y_movies)\n",
    "model.fit(X_movies, y_movies)\n",
    "#y_movies_pred_lasso = model.predict(X_movies_test_fs_kb)\n",
    "y_movies_pred_lasso = model.predict(X_movies_test)\n",
    "#print(\"Usando  Lasso, R^2 es: \", model.score(X_movies_test_fs_kb, y_movies_test))\n",
    "print(\"Usando regresión lineal ordinaria, al usar Lasso, R^2 es: \", model.score(X_movies_test, y_movies_test))\n",
    "\n",
    "from sklearn.metrics import mean_squared_error\n",
    "print(\"MSE: \", mean_squared_error(y_movies_test, y_movies_pred_lasso))"
   ]
  },
  {
   "cell_type": "code",
   "execution_count": 254,
   "metadata": {
    "collapsed": false
   },
   "outputs": [
    {
     "name": "stdout",
     "output_type": "stream",
     "text": [
      "3.94706364723\n"
     ]
    }
   ],
   "source": [
    "alpha_optimo = model.alpha_\n",
    "print(alpha_optimo)"
   ]
  },
  {
   "cell_type": "code",
   "execution_count": 286,
   "metadata": {
    "collapsed": false
   },
   "outputs": [
    {
     "name": "stdout",
     "output_type": "stream",
     "text": [
      "Lasso(alpha=3.9470636472313778, copy_X=True, fit_intercept=True,\n",
      "   max_iter=1000, normalize=False, positive=False, precompute=False,\n",
      "   random_state=None, selection='cyclic', tol=0.0001, warm_start=False)\n",
      "Usando Lasso, R^2 es:  0.829512457245\n",
      "MSE:  1.89638635385\n"
     ]
    }
   ],
   "source": [
    "from sklearn.linear_model import Lasso\n",
    "\n",
    "model = Lasso(alpha=alpha_optimo, tol=0.0001)\n",
    "\n",
    "model.fit(X_movies, y_movies)\n",
    "y_movies_pred_lasso = model.predict(X_movies_test)\n",
    "print(model)\n",
    "print(\"Usando Lasso, R^2 es: \", model.score(X_movies_test, y_movies_test))\n",
    "\n",
    "from sklearn.metrics import mean_squared_error\n",
    "print(\"MSE: \", mean_squared_error(y_movies_test, y_movies_pred_lasso))"
   ]
  },
  {
   "cell_type": "code",
   "execution_count": 287,
   "metadata": {
    "collapsed": false
   },
   "outputs": [
    {
     "ename": "ValueError",
     "evalue": "dimension mismatch",
     "output_type": "error",
     "traceback": [
      "\u001b[0;31m---------------------------------------------------------------------------\u001b[0m",
      "\u001b[0;31mValueError\u001b[0m                                Traceback (most recent call last)",
      "\u001b[0;32m<ipython-input-287-7d45f0804ab3>\u001b[0m in \u001b[0;36m<module>\u001b[0;34m()\u001b[0m\n\u001b[1;32m      4\u001b[0m \u001b[1;33m\u001b[0m\u001b[0m\n\u001b[1;32m      5\u001b[0m \u001b[0mmodel\u001b[0m\u001b[1;33m.\u001b[0m\u001b[0mfit\u001b[0m\u001b[1;33m(\u001b[0m\u001b[0mX_movies\u001b[0m\u001b[1;33m,\u001b[0m \u001b[0my_movies\u001b[0m\u001b[1;33m)\u001b[0m\u001b[1;33m\u001b[0m\u001b[0m\n\u001b[0;32m----> 6\u001b[0;31m \u001b[0my_movies_pred_lasso\u001b[0m \u001b[1;33m=\u001b[0m \u001b[0mmodel\u001b[0m\u001b[1;33m.\u001b[0m\u001b[0mpredict\u001b[0m\u001b[1;33m(\u001b[0m\u001b[0mX_movies_dev\u001b[0m\u001b[1;33m)\u001b[0m\u001b[1;33m\u001b[0m\u001b[0m\n\u001b[0m\u001b[1;32m      7\u001b[0m \u001b[0mprint\u001b[0m\u001b[1;33m(\u001b[0m\u001b[0mmodel\u001b[0m\u001b[1;33m)\u001b[0m\u001b[1;33m\u001b[0m\u001b[0m\n\u001b[1;32m      8\u001b[0m \u001b[0mprint\u001b[0m\u001b[1;33m(\u001b[0m\u001b[1;34m\"Usando Lasso, R^2 es: \"\u001b[0m\u001b[1;33m,\u001b[0m \u001b[0mmodel\u001b[0m\u001b[1;33m.\u001b[0m\u001b[0mscore\u001b[0m\u001b[1;33m(\u001b[0m\u001b[0mX_movies_dev\u001b[0m\u001b[1;33m,\u001b[0m \u001b[0my_movies_dev\u001b[0m\u001b[1;33m)\u001b[0m\u001b[1;33m)\u001b[0m\u001b[1;33m\u001b[0m\u001b[0m\n",
      "\u001b[0;32mC:\\Users\\Boti\\Anaconda3\\lib\\site-packages\\sklearn\\linear_model\\base.py\u001b[0m in \u001b[0;36mpredict\u001b[0;34m(self, X)\u001b[0m\n\u001b[1;32m    254\u001b[0m             \u001b[0mReturns\u001b[0m \u001b[0mpredicted\u001b[0m \u001b[0mvalues\u001b[0m\u001b[1;33m.\u001b[0m\u001b[1;33m\u001b[0m\u001b[0m\n\u001b[1;32m    255\u001b[0m         \"\"\"\n\u001b[0;32m--> 256\u001b[0;31m         \u001b[1;32mreturn\u001b[0m \u001b[0mself\u001b[0m\u001b[1;33m.\u001b[0m\u001b[0m_decision_function\u001b[0m\u001b[1;33m(\u001b[0m\u001b[0mX\u001b[0m\u001b[1;33m)\u001b[0m\u001b[1;33m\u001b[0m\u001b[0m\n\u001b[0m\u001b[1;32m    257\u001b[0m \u001b[1;33m\u001b[0m\u001b[0m\n\u001b[1;32m    258\u001b[0m     \u001b[0m_preprocess_data\u001b[0m \u001b[1;33m=\u001b[0m \u001b[0mstaticmethod\u001b[0m\u001b[1;33m(\u001b[0m\u001b[0m_preprocess_data\u001b[0m\u001b[1;33m)\u001b[0m\u001b[1;33m\u001b[0m\u001b[0m\n",
      "\u001b[0;32mC:\\Users\\Boti\\Anaconda3\\lib\\site-packages\\sklearn\\linear_model\\coordinate_descent.py\u001b[0m in \u001b[0;36m_decision_function\u001b[0;34m(self, X)\u001b[0m\n\u001b[1;32m    787\u001b[0m         \u001b[1;32mif\u001b[0m \u001b[0msparse\u001b[0m\u001b[1;33m.\u001b[0m\u001b[0misspmatrix\u001b[0m\u001b[1;33m(\u001b[0m\u001b[0mX\u001b[0m\u001b[1;33m)\u001b[0m\u001b[1;33m:\u001b[0m\u001b[1;33m\u001b[0m\u001b[0m\n\u001b[1;32m    788\u001b[0m             return safe_sparse_dot(X, self.coef_.T,\n\u001b[0;32m--> 789\u001b[0;31m                                    dense_output=True) + self.intercept_\n\u001b[0m\u001b[1;32m    790\u001b[0m         \u001b[1;32melse\u001b[0m\u001b[1;33m:\u001b[0m\u001b[1;33m\u001b[0m\u001b[0m\n\u001b[1;32m    791\u001b[0m             \u001b[1;32mreturn\u001b[0m \u001b[0msuper\u001b[0m\u001b[1;33m(\u001b[0m\u001b[0mElasticNet\u001b[0m\u001b[1;33m,\u001b[0m \u001b[0mself\u001b[0m\u001b[1;33m)\u001b[0m\u001b[1;33m.\u001b[0m\u001b[0m_decision_function\u001b[0m\u001b[1;33m(\u001b[0m\u001b[0mX\u001b[0m\u001b[1;33m)\u001b[0m\u001b[1;33m\u001b[0m\u001b[0m\n",
      "\u001b[0;32mC:\\Users\\Boti\\Anaconda3\\lib\\site-packages\\sklearn\\utils\\extmath.py\u001b[0m in \u001b[0;36msafe_sparse_dot\u001b[0;34m(a, b, dense_output)\u001b[0m\n\u001b[1;32m    133\u001b[0m     \"\"\"\n\u001b[1;32m    134\u001b[0m     \u001b[1;32mif\u001b[0m \u001b[0missparse\u001b[0m\u001b[1;33m(\u001b[0m\u001b[0ma\u001b[0m\u001b[1;33m)\u001b[0m \u001b[1;32mor\u001b[0m \u001b[0missparse\u001b[0m\u001b[1;33m(\u001b[0m\u001b[0mb\u001b[0m\u001b[1;33m)\u001b[0m\u001b[1;33m:\u001b[0m\u001b[1;33m\u001b[0m\u001b[0m\n\u001b[0;32m--> 135\u001b[0;31m         \u001b[0mret\u001b[0m \u001b[1;33m=\u001b[0m \u001b[0ma\u001b[0m \u001b[1;33m*\u001b[0m \u001b[0mb\u001b[0m\u001b[1;33m\u001b[0m\u001b[0m\n\u001b[0m\u001b[1;32m    136\u001b[0m         \u001b[1;32mif\u001b[0m \u001b[0mdense_output\u001b[0m \u001b[1;32mand\u001b[0m \u001b[0mhasattr\u001b[0m\u001b[1;33m(\u001b[0m\u001b[0mret\u001b[0m\u001b[1;33m,\u001b[0m \u001b[1;34m\"toarray\"\u001b[0m\u001b[1;33m)\u001b[0m\u001b[1;33m:\u001b[0m\u001b[1;33m\u001b[0m\u001b[0m\n\u001b[1;32m    137\u001b[0m             \u001b[0mret\u001b[0m \u001b[1;33m=\u001b[0m \u001b[0mret\u001b[0m\u001b[1;33m.\u001b[0m\u001b[0mtoarray\u001b[0m\u001b[1;33m(\u001b[0m\u001b[1;33m)\u001b[0m\u001b[1;33m\u001b[0m\u001b[0m\n",
      "\u001b[0;32mC:\\Users\\Boti\\Anaconda3\\lib\\site-packages\\scipy\\sparse\\base.py\u001b[0m in \u001b[0;36m__mul__\u001b[0;34m(self, other)\u001b[0m\n\u001b[1;32m    385\u001b[0m             \u001b[1;31m# dense row or column vector\u001b[0m\u001b[1;33m\u001b[0m\u001b[1;33m\u001b[0m\u001b[0m\n\u001b[1;32m    386\u001b[0m             \u001b[1;32mif\u001b[0m \u001b[0mother\u001b[0m\u001b[1;33m.\u001b[0m\u001b[0mshape\u001b[0m \u001b[1;33m!=\u001b[0m \u001b[1;33m(\u001b[0m\u001b[0mN\u001b[0m\u001b[1;33m,\u001b[0m\u001b[1;33m)\u001b[0m \u001b[1;32mand\u001b[0m \u001b[0mother\u001b[0m\u001b[1;33m.\u001b[0m\u001b[0mshape\u001b[0m \u001b[1;33m!=\u001b[0m \u001b[1;33m(\u001b[0m\u001b[0mN\u001b[0m\u001b[1;33m,\u001b[0m \u001b[1;36m1\u001b[0m\u001b[1;33m)\u001b[0m\u001b[1;33m:\u001b[0m\u001b[1;33m\u001b[0m\u001b[0m\n\u001b[0;32m--> 387\u001b[0;31m                 \u001b[1;32mraise\u001b[0m \u001b[0mValueError\u001b[0m\u001b[1;33m(\u001b[0m\u001b[1;34m'dimension mismatch'\u001b[0m\u001b[1;33m)\u001b[0m\u001b[1;33m\u001b[0m\u001b[0m\n\u001b[0m\u001b[1;32m    388\u001b[0m \u001b[1;33m\u001b[0m\u001b[0m\n\u001b[1;32m    389\u001b[0m             \u001b[0mresult\u001b[0m \u001b[1;33m=\u001b[0m \u001b[0mself\u001b[0m\u001b[1;33m.\u001b[0m\u001b[0m_mul_vector\u001b[0m\u001b[1;33m(\u001b[0m\u001b[0mnp\u001b[0m\u001b[1;33m.\u001b[0m\u001b[0mravel\u001b[0m\u001b[1;33m(\u001b[0m\u001b[0mother\u001b[0m\u001b[1;33m)\u001b[0m\u001b[1;33m)\u001b[0m\u001b[1;33m\u001b[0m\u001b[0m\n",
      "\u001b[0;31mValueError\u001b[0m: dimension mismatch"
     ]
    }
   ],
   "source": [
    "from sklearn.linear_model import Lasso\n",
    "\n",
    "model = Lasso(alpha=0.1, tol=0.0001)\n",
    "\n",
    "model.fit(X_movies, y_movies)\n",
    "y_movies_pred_lasso = model.predict(X_movies_dev)\n",
    "print(model)\n",
    "print(\"Usando Lasso, R^2 es: \", model.score(X_movies_dev, y_movies_dev))\n",
    "\n",
    "from sklearn.metrics import mean_squared_error\n",
    "print(\"MSE: \", mean_squared_error(y_movies_dev, y_movies_pred_lasso))"
   ]
  },
  {
   "cell_type": "code",
   "execution_count": 274,
   "metadata": {
    "collapsed": false
   },
   "outputs": [
    {
     "name": "stdout",
     "output_type": "stream",
     "text": [
      "Numero de atributos que quedaron con pesos no nulos:  72\n",
      "Sus indices son:  (array([    54,    242,    377,    915,   1022,   1885,   2032,   2355,\n",
      "        50505, 144018, 144026, 144028, 144035, 144037, 144041, 144044,\n",
      "       144045, 144046, 144051, 144059, 144060, 144072, 144073, 144076,\n",
      "       144081, 144087, 144091, 144096, 144097, 144106, 144110, 144112,\n",
      "       144115, 144118, 144120, 144123, 144124, 144128, 144134, 144153,\n",
      "       144154, 144156, 144157, 144159, 144169, 144182, 144183, 144188,\n",
      "       144221, 144230, 144248, 144257, 144261, 144265, 144266, 144269,\n",
      "       144279, 144300, 144304, 144331, 144339, 144349, 144363, 144370,\n",
      "       144372, 144378, 144397, 144442, 145098, 145103, 145104, 145108], dtype=int64),)\n",
      "Los coeficientes son:  [  3.87261985e-05   3.51586283e-03  -2.71519287e-02  -3.02468320e-03\n",
      "  -7.88062064e-02   3.81099038e-03   5.45901140e-04  -4.07671292e-03\n",
      "  -2.64517349e-03   5.72865950e-03   3.01038260e-03   2.26025515e-03\n",
      "   2.94422748e-03  -3.82547291e-03   4.49764741e-03  -1.82936982e-03\n",
      "   1.00313025e-03   6.68478821e-04   1.75101229e-02   8.81704943e-04\n",
      "   3.69732680e-03   6.32461525e-04  -2.32286681e-02   6.59859692e-03\n",
      "  -1.11886665e-03  -1.04908031e-02   2.88695185e-03   2.29997748e-03\n",
      "   7.87151549e-03   2.61267472e-03   8.01348766e-03  -4.94941897e-03\n",
      "   7.37506665e-04  -1.01469255e-03   1.14264140e-02   6.78777023e-04\n",
      "   2.45101238e-03  -4.40308480e-03   1.22940519e-02  -8.90388015e-04\n",
      "   5.99179369e-03  -7.77328516e-03   3.77410501e-03   1.35592828e-03\n",
      "   2.06526807e-03  -2.44776072e-03  -3.16025884e-03   1.58736218e-03\n",
      "   3.50146650e-03   4.31411988e-03   1.04767444e-03  -2.99333318e-03\n",
      "   1.83678220e-02   5.53555593e-03  -1.07382445e-02   5.80801995e-03\n",
      "   4.17711303e-03  -4.41220754e-03   1.27664490e-04   1.69433630e-02\n",
      "   9.34893936e-03  -6.82447143e-03   8.48670891e-03   1.11065294e-03\n",
      "  -2.42819985e-03  -1.30295335e-02   1.09415800e-02   1.50664307e-05\n",
      "   1.64340726e-03  -7.89739990e-04   4.54835230e-02  -2.63340881e-01]\n"
     ]
    }
   ],
   "source": [
    "print( \"Numero de atributos que quedaron con pesos no nulos: \", np.count_nonzero(model.coef_) )\n",
    "print( \"Sus indices son: \", np.nonzero(model.coef_) )\n",
    "print( \"Los coeficientes son: \", model.coef_[np.nonzero(model.coef_)] )"
   ]
  },
  {
   "cell_type": "code",
   "execution_count": 281,
   "metadata": {
    "collapsed": false
   },
   "outputs": [
    {
     "name": "stdout",
     "output_type": "stream",
     "text": [
      "VV_enable      3.87261985014e-05\n",
      "NY_threaten      0.00351586282994\n",
      "VA_throw      -0.0271519287492\n",
      "VA_every      -0.00302468319816\n",
      "NY_work      -0.0788062063557\n",
      "EW_price      0.00381099038385\n",
      "NY_soul      0.000545901140125\n",
      "BO_adorable      -0.00407671291647\n",
      "EW_less_than      -0.0026451734851\n",
      "NY_prep-US-for__      0.00572865949983\n",
      "VA_prep-US-into__      0.00301038260139\n",
      "VA_conj-US-&__      0.00226025514757\n",
      "NY_prep-US-until__      0.00294422747574\n",
      "VV_prep-US-on__      -0.00382547290616\n",
      "EW_advcl__      0.00449764741211\n",
      "VV_prep-US-at__      -0.00182936981805\n",
      "NY_amod__      0.00100313024681\n",
      "VA_advmod__      0.000668478820761\n",
      "EW_rcmod__      0.0175101228722\n",
      "NY_parataxis__      0.000881704942773\n",
      "NY_poss__      0.00369732680165\n",
      "VA_advcl__      0.000632461524836\n",
      "VV_aux__      -0.0232286681076\n",
      "EW_mark__      0.00659859692046\n",
      "NY_rcmod__      -0.00111886665396\n",
      "NY_prepc-US-of__      -0.0104908031162\n",
      "VV_partmod__      0.00288695184895\n",
      "NY_prep-US-by__      0.00229997748121\n",
      "VA_det__      0.00787151548562\n",
      "NY_dobj__      0.00261267472169\n",
      "VA_prep-US-about__      0.00801348765623\n",
      "VV_ccomp__      -0.00494941896598\n",
      "VA_prt__      0.00073750666537\n",
      "NY_prep__      -0.00101469255064\n",
      "VV_prep-US-for__      0.0114264139974\n",
      "EW_aux__      0.000678777022953\n",
      "VV_dep__      0.0024510123796\n",
      "NY_prt__      -0.00440308480005\n",
      "NY_nsubjpass__      0.0122940518564\n",
      "VA_prep-US-by__      -0.000890388015055\n",
      "EW_nsubj__      0.00599179368529\n",
      "VA_prep-US-with__      -0.00777328515681\n",
      "VV_amod__      0.0037741050109\n",
      "VA_prep-US-after__      0.00135592828022\n",
      "NY_prep-US-on__      0.00206526807015\n",
      "NY_conj-US-or__      -0.00244776072314\n",
      "VA_conj-US-and__      -0.00316025883959\n",
      "VA_expl__      0.00158736217828\n",
      "EW_prep-US-on__      0.00350146650441\n",
      "CL_prep-US-for__      0.0043141198797\n",
      "BO_prepc-US-of__      0.00104767443911\n",
      "AC_prepc-US-by__      -0.00299333317846\n",
      "BO_complm__      0.0183678219922\n",
      "BO_prep-US-in__      0.00553555593424\n",
      "CL_nsubj__      -0.0107382444674\n",
      "EW_prep-US-based-US-on__      0.005808019953\n",
      "BO_iobj__      0.00417711302509\n",
      "EW_prep-US-into__      -0.00441220753603\n",
      "CL_quantmod__      0.000127664490264\n",
      "AC_nsubj__      0.0169433630131\n",
      "AC_cop__      0.00934893936048\n",
      "EW_prep-US-over__      -0.00682447142571\n",
      "AC_auxpass__      0.00848670891345\n",
      "BO_advcl__      0.00111065293864\n",
      "EW_agent__      -0.00242819984894\n",
      "CL_xcomp__      -0.0130295335166\n",
      "NY_prep-US-behind__      0.010941579988\n",
      "BO_neg__      1.50664306791e-05\n",
      "VA_prep-US-besides__      0.00164340725852\n",
      "ORIGIN_USA<>5      -0.000789739989749\n",
      "RUNTIME<>6      0.0454835230474\n",
      "GENRE_SuspenseThriller<>10      -0.263340880763\n"
     ]
    }
   ],
   "source": [
    "import linecache\n",
    "for i in (np.nonzero(model.coef_)[0]):\n",
    "    print(linecache.getline('vocab', i+1).split()[0], \"    \", (model.coef_)[i])"
   ]
  },
  {
   "cell_type": "code",
   "execution_count": 271,
   "metadata": {
    "collapsed": false
   },
   "outputs": [
    {
     "name": "stdout",
     "output_type": "stream",
     "text": [
      "Lasso(alpha=0.1, copy_X=True, fit_intercept=True, max_iter=1000,\n",
      "   normalize=False, positive=False, precompute=False, random_state=None,\n",
      "   selection='cyclic', tol=0.0001, warm_start=False)\n",
      "r^2 on test data : 0.832846\n"
     ]
    }
   ],
   "source": [
    "from sklearn.metrics import r2_score\n",
    "\n",
    "alpha = 0.1\n",
    "lasso = Lasso(alpha=alpha)\n",
    "\n",
    "y_pred_lasso = lasso.fit(X_movies, y_movies).predict(X_movies_test)\n",
    "r2_score_lasso = r2_score(y_movies_test, y_pred_lasso)\n",
    "print(lasso)\n",
    "print(\"r^2 on test data : %f\" % r2_score_lasso)\n"
   ]
  },
  {
   "cell_type": "code",
   "execution_count": 272,
   "metadata": {
    "collapsed": false
   },
   "outputs": [
    {
     "name": "stdout",
     "output_type": "stream",
     "text": [
      "MSE:  1.85931043365\n",
      "Numero de atributos que quedaron con pesos no nulos:  72\n",
      "Sus indices son:  (array([    54,    242,    377,    915,   1022,   1885,   2032,   2355,\n",
      "        50505, 144018, 144026, 144028, 144035, 144037, 144041, 144044,\n",
      "       144045, 144046, 144051, 144059, 144060, 144072, 144073, 144076,\n",
      "       144081, 144087, 144091, 144096, 144097, 144106, 144110, 144112,\n",
      "       144115, 144118, 144120, 144123, 144124, 144128, 144134, 144153,\n",
      "       144154, 144156, 144157, 144159, 144169, 144182, 144183, 144188,\n",
      "       144221, 144230, 144248, 144257, 144261, 144265, 144266, 144269,\n",
      "       144279, 144300, 144304, 144331, 144339, 144349, 144363, 144370,\n",
      "       144372, 144378, 144397, 144442, 145098, 145103, 145104, 145108], dtype=int64),)\n",
      "Los coeficientes son:  [  3.87261985e-05   3.51586283e-03  -2.71519287e-02  -3.02468320e-03\n",
      "  -7.88062064e-02   3.81099038e-03   5.45901140e-04  -4.07671292e-03\n",
      "  -2.64517349e-03   5.72865950e-03   3.01038260e-03   2.26025515e-03\n",
      "   2.94422748e-03  -3.82547291e-03   4.49764741e-03  -1.82936982e-03\n",
      "   1.00313025e-03   6.68478821e-04   1.75101229e-02   8.81704943e-04\n",
      "   3.69732680e-03   6.32461525e-04  -2.32286681e-02   6.59859692e-03\n",
      "  -1.11886665e-03  -1.04908031e-02   2.88695185e-03   2.29997748e-03\n",
      "   7.87151549e-03   2.61267472e-03   8.01348766e-03  -4.94941897e-03\n",
      "   7.37506665e-04  -1.01469255e-03   1.14264140e-02   6.78777023e-04\n",
      "   2.45101238e-03  -4.40308480e-03   1.22940519e-02  -8.90388015e-04\n",
      "   5.99179369e-03  -7.77328516e-03   3.77410501e-03   1.35592828e-03\n",
      "   2.06526807e-03  -2.44776072e-03  -3.16025884e-03   1.58736218e-03\n",
      "   3.50146650e-03   4.31411988e-03   1.04767444e-03  -2.99333318e-03\n",
      "   1.83678220e-02   5.53555593e-03  -1.07382445e-02   5.80801995e-03\n",
      "   4.17711303e-03  -4.41220754e-03   1.27664490e-04   1.69433630e-02\n",
      "   9.34893936e-03  -6.82447143e-03   8.48670891e-03   1.11065294e-03\n",
      "  -2.42819985e-03  -1.30295335e-02   1.09415800e-02   1.50664307e-05\n",
      "   1.64340726e-03  -7.89739990e-04   4.54835230e-02  -2.63340881e-01]\n"
     ]
    }
   ],
   "source": [
    "print(\"MSE: \", mean_squared_error(y_movies_test, y_pred_lasso))\n",
    "print( \"Numero de atributos que quedaron con pesos no nulos: \", np.count_nonzero(lasso.coef_) )\n",
    "print( \"Sus indices son: \", np.nonzero(lasso.coef_) )\n",
    "print( \"Los coeficientes son: \", lasso.coef_[np.nonzero(lasso.coef_)] )"
   ]
  },
  {
   "cell_type": "code",
   "execution_count": 89,
   "metadata": {
    "collapsed": false
   },
   "outputs": [
    {
     "data": {
      "text/plain": [
       "array([ -3.76404973e+06,   1.79901809e+07,   3.59112401e+07,\n",
       "        -2.17343515e+06,  -2.64148884e+07,   4.54164297e+07,\n",
       "         3.39578132e+07,   1.08856520e+07,  -5.18406646e+05,\n",
       "        -2.28598345e+07,  -2.81732900e+06,   4.07818774e+06,\n",
       "        -1.75772445e+05,   3.54970252e+07,  -2.31541482e+07,\n",
       "        -2.74456662e+06,   2.28786727e+07,   3.24533200e+06,\n",
       "         2.20517281e+07,   2.34506897e+07,   1.44759440e+06,\n",
       "         9.09167128e+06,   1.38422369e+07,  -7.76049955e+06,\n",
       "         1.36954356e+07,   2.66471017e+07,   2.83981250e+07,\n",
       "         7.08256096e+06,  -8.81725142e+05,  -8.11805106e+06,\n",
       "        -1.56896770e+07,  -4.07004112e+06,   1.03036427e+07,\n",
       "         4.95694679e+07,   1.11559677e+07,   3.56037161e+06,\n",
       "        -5.21985523e+06,   8.66320441e+06,   3.59041297e+06,\n",
       "        -1.23242639e+07,   1.14701148e+07,   6.60400004e+07,\n",
       "        -7.22255058e+06,   1.02963564e+07,  -1.41092094e+07,\n",
       "         7.39188320e+06,   3.51435454e+05,   6.00118678e+06,\n",
       "         1.13667676e+07,   1.99449790e+07,  -8.25767706e+06,\n",
       "         2.66650431e+07,   1.55995649e+07,   2.14503193e+07,\n",
       "        -9.34261966e+06,   1.06240156e+07,   2.22180319e+07,\n",
       "        -4.23488143e+06,  -8.10115544e+06,   1.75186084e+07,\n",
       "         2.97967054e+04,   8.39388032e+06,  -1.04858955e+07,\n",
       "         6.57347654e+06,   4.35193448e+07,   3.99060725e+06,\n",
       "         1.49477367e+07,  -6.62471656e+06,   6.15100500e+06,\n",
       "         3.63218136e+06,  -1.58220079e+07,   5.22333975e+06,\n",
       "         1.11829084e+07,  -1.85381007e+07,   2.55620941e+07,\n",
       "         8.97102017e+04,   7.72967709e+05,   2.98260229e+07,\n",
       "         8.03791250e+06,   2.28721409e+07,   1.74272751e+07,\n",
       "         3.68843050e+07,   2.09333948e+07,   5.41284968e+07,\n",
       "         1.53141165e+07,   1.17784849e+07,   3.24084645e+06,\n",
       "         7.45050941e+06,  -1.32534839e+06,   1.82634421e+07,\n",
       "         1.75427391e+06,   1.60981864e+06,   4.76975551e+07,\n",
       "         2.51191075e+07,   4.93648347e+06,  -4.27018665e+06,\n",
       "         3.30920014e+07,  -8.43017586e+06,   5.91660438e+06,\n",
       "        -1.27527331e+07,   4.19312282e+07,  -1.71155259e+07,\n",
       "         1.26263056e+07,   4.58778031e+06,   2.39863160e+07,\n",
       "         2.91162738e+05,   5.15633302e+07,  -5.13874996e+06,\n",
       "        -2.25150079e+07,   3.35278060e+06,   2.81561777e+06,\n",
       "        -7.47629824e+06,   1.05554637e+07,   1.46482095e+07,\n",
       "         6.30761546e+06,   3.54917539e+07,   3.26033534e+06,\n",
       "         1.48105353e+07,  -5.58790857e+06,   2.08623196e+07,\n",
       "        -2.53408064e+06,   1.30150674e+07,   6.95877359e+06,\n",
       "         1.44977191e+07,  -7.75388003e+06,   3.16979222e+07,\n",
       "        -2.07539261e+06,   9.09062935e+06,   1.88134509e+07,\n",
       "        -2.88824144e+06,   2.15783399e+07,   2.40134081e+07,\n",
       "        -1.37543396e+07,   1.27511724e+07,   7.86919836e+06,\n",
       "         1.49515406e+07,  -6.17467912e+06,   5.64327923e+06,\n",
       "         1.94555532e+06,   1.73850512e+07,  -9.46424999e+06,\n",
       "         1.52488375e+07,   5.36576227e+06,   9.61001823e+06,\n",
       "        -2.45332736e+06,  -1.40864399e+07,   3.22860953e+07,\n",
       "         2.58067142e+06,   1.33998497e+07,  -8.45997521e+06,\n",
       "        -3.43207472e+06,   2.05507409e+07,   1.98110668e+07,\n",
       "         2.31319314e+07,   1.00821758e+07,   1.74284750e+07,\n",
       "         4.82920170e+07,   1.68061549e+07,   1.41778559e+07,\n",
       "        -1.48874477e+06,   1.75488535e+07,   1.44688804e+07,\n",
       "         4.60300821e+06,   3.63124847e+06,   2.29244259e+05,\n",
       "         2.20502609e+07,   1.72170048e+07,  -6.61441411e+06,\n",
       "        -8.49538156e+05,   1.53695922e+06,  -3.48262619e+06,\n",
       "         2.30186922e+06,   1.52789255e+07,   1.07253589e+07,\n",
       "        -1.49765369e+06,  -2.01358285e+06,  -7.39561473e+06,\n",
       "         8.45242993e+06,   6.52957107e+06,   1.62704644e+07,\n",
       "         1.23923122e+07,   1.21847998e+07,   3.02447157e+07,\n",
       "        -7.62292860e+06,   2.04147054e+07,   1.25682870e+07,\n",
       "         1.70061438e+07,   1.33583337e+07,   2.45401353e+07,\n",
       "         2.87279873e+07,  -5.92906388e+06,   4.30733751e+06,\n",
       "         4.20172653e+07,   9.58446838e+06,  -2.02563006e+06,\n",
       "         1.39446386e+07,  -9.65939589e+05,  -1.01350414e+07,\n",
       "        -5.51821345e+06,   5.66390792e+05,   1.99912227e+07,\n",
       "         3.95245916e+06,  -2.17109491e+06,   2.13607656e+07,\n",
       "         1.72574538e+07,   4.72164479e+06,   1.17331011e+07,\n",
       "         5.87894302e+06,   1.30856720e+07,   2.09640698e+07,\n",
       "         3.75931263e+06,   3.76092879e+07,  -9.84253535e+05,\n",
       "        -5.50928306e+06,   7.47946056e+06,   9.31514053e+06,\n",
       "         2.36478567e+07,   3.29505800e+07,   1.19220468e+07,\n",
       "         1.57229375e+07,  -4.89957716e+06,  -2.01838705e+07,\n",
       "        -1.14540600e+07,   5.48888811e+06,   1.72954501e+07,\n",
       "         2.81605165e+06,  -6.54244603e+06,   5.80670095e+06,\n",
       "         2.39514065e+07,   4.36321274e+07,  -1.43325441e+07,\n",
       "        -2.93764161e+06,   1.77146617e+07,   1.54397332e+07,\n",
       "         2.98531471e+07,   1.82617963e+07,   1.07291835e+07,\n",
       "         3.22428361e+07,  -5.48605168e+06,   3.54167745e+07,\n",
       "         6.69131504e+06,  -1.39450587e+06,   1.12753957e+07,\n",
       "        -2.19654047e+07,  -1.21078341e+07,   1.97495107e+07,\n",
       "         2.44633852e+07,   2.90589958e+07,   3.05058213e+07,\n",
       "         4.63519746e+07,   4.32188649e+05,   1.87418496e+07,\n",
       "         1.87929398e+07,   2.03867767e+07])"
      ]
     },
     "execution_count": 89,
     "metadata": {},
     "output_type": "execute_result"
    }
   ],
   "source": [
    "y_pred_lasso"
   ]
  },
  {
   "cell_type": "code",
   "execution_count": 41,
   "metadata": {
    "collapsed": false
   },
   "outputs": [
    {
     "data": {
      "text/plain": [
       "SelectFromModel(estimator=LinearRegression(copy_X=True, fit_intercept=False, n_jobs=1, normalize=False),\n",
       "        norm_order=1, prefit=False, threshold=3.0)"
      ]
     },
     "execution_count": 41,
     "metadata": {},
     "output_type": "execute_result"
    }
   ],
   "source": [
    "from sklearn.feature_selection import RFE\n",
    "from sklearn.feature_selection import SelectFromModel\n",
    "selector = SelectFromModel(model_movies, threshold=3.0)\n",
    "selector.fit(X_scaled_movies_train, y_movies)"
   ]
  },
  {
   "cell_type": "code",
   "execution_count": null,
   "metadata": {
    "collapsed": false
   },
   "outputs": [],
   "source": [
    "selector.support_"
   ]
  },
  {
   "cell_type": "code",
   "execution_count": null,
   "metadata": {
    "collapsed": true
   },
   "outputs": [],
   "source": [
    "n_features = selector.transform(X_scaled_movies_train)"
   ]
  },
  {
   "cell_type": "code",
   "execution_count": null,
   "metadata": {
    "collapsed": true
   },
   "outputs": [],
   "source": [
    "n_features"
   ]
  },
  {
   "cell_type": "code",
   "execution_count": null,
   "metadata": {
    "collapsed": true
   },
   "outputs": [],
   "source": [
    "model_movies = lm.LinearRegression(fit_intercept = False)\n",
    "model_movies.fit(X_scaled_movies_train, y_movies)\n",
    "\n",
    "\n",
    "scaler_movies_test = MaxAbsScaler().fit(X_movies_test) # Para matriz sparse\n",
    "X_scaled_movies_test = scaler_movies_test.transform(X_movies_test)\n",
    "matriz_de_unos = csc_matrix(np.ones(X_scaled_movies_test.shape[0])[:, None])\n",
    "X_scaled_movies_test = hstack((X_scaled_movies_test, matriz_de_unos))\n",
    "print(model.score(X_scaled_movies_test, y_movies_test))"
   ]
  }
 ],
 "metadata": {
  "anaconda-cloud": {},
  "kernelspec": {
   "display_name": "Python [default]",
   "language": "python",
   "name": "python3"
  },
  "language_info": {
   "codemirror_mode": {
    "name": "ipython",
    "version": 3
   },
   "file_extension": ".py",
   "mimetype": "text/x-python",
   "name": "python",
   "nbconvert_exporter": "python",
   "pygments_lexer": "ipython3",
   "version": "3.5.2"
  }
 },
 "nbformat": 4,
 "nbformat_minor": 2
}
